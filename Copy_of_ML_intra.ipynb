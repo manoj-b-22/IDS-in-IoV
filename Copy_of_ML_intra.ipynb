{
  "nbformat": 4,
  "nbformat_minor": 0,
  "metadata": {
    "colab": {
      "provenance": [],
      "include_colab_link": true
    },
    "kernelspec": {
      "name": "python3",
      "display_name": "Python 3"
    },
    "language_info": {
      "name": "python"
    }
  },
  "cells": [
    {
      "cell_type": "markdown",
      "metadata": {
        "id": "view-in-github",
        "colab_type": "text"
      },
      "source": [
        "<a href=\"https://colab.research.google.com/github/manoj-b-22/IDS-in-IoV/blob/main/Copy_of_ML_intra.ipynb\" target=\"_parent\"><img src=\"https://colab.research.google.com/assets/colab-badge.svg\" alt=\"Open In Colab\"/></a>"
      ]
    },
    {
      "cell_type": "code",
      "execution_count": null,
      "metadata": {
        "id": "rRW6l8VEP3Pv"
      },
      "outputs": [],
      "source": [
        "import numpy as np\n",
        "import pandas as pd\n",
        "from sklearn import svm\n",
        "from sklearn.neighbors import KNeighborsClassifier\n",
        "from sklearn.ensemble import RandomForestClassifier\n",
        "from sklearn.linear_model import LogisticRegression\n",
        "from sklearn.model_selection import train_test_split\n",
        "from sklearn.preprocessing import StandardScaler, LabelEncoder\n",
        "from sklearn.metrics import classification_report, confusion_matrix, accuracy_score"
      ]
    },
    {
      "cell_type": "code",
      "source": [
        "from google.colab import drive\n",
        "drive.mount('/content/drive')"
      ],
      "metadata": {
        "id": "nI5_zpQ1RSpD",
        "outputId": "5ea56ff3-56f7-45ee-ae82-908c637e0cc8",
        "colab": {
          "base_uri": "https://localhost:8080/"
        }
      },
      "execution_count": null,
      "outputs": [
        {
          "output_type": "stream",
          "name": "stdout",
          "text": [
            "Mounted at /content/drive\n"
          ]
        }
      ]
    },
    {
      "cell_type": "code",
      "source": [
        "data = pd.read_csv('/content/drive/MyDrive/intravehicle.csv')"
      ],
      "metadata": {
        "id": "Nfic5L4vRVxL"
      },
      "execution_count": null,
      "outputs": []
    },
    {
      "cell_type": "code",
      "source": [
        "y_data = data.pop('4')\n",
        "x_data = data"
      ],
      "metadata": {
        "id": "uG2OqFNnRX5-"
      },
      "execution_count": null,
      "outputs": []
    },
    {
      "cell_type": "code",
      "source": [
        "train_x,test_x,train_y,test_y = train_test_split(x_data, y_data, test_size=0.2, random_state=0, shuffle=True) "
      ],
      "metadata": {
        "id": "5vqrictNRZmZ"
      },
      "execution_count": null,
      "outputs": []
    },
    {
      "cell_type": "code",
      "source": [
        "train_x = train_x.reset_index(drop=True)\n",
        "test_x = test_x.reset_index(drop=True) \n",
        "train_y = train_y.reset_index(drop=True)\n",
        "test_y = test_y.reset_index(drop=True)"
      ],
      "metadata": {
        "id": "8l5uZ48ERcfN"
      },
      "execution_count": null,
      "outputs": []
    },
    {
      "cell_type": "code",
      "source": [
        "scaler = StandardScaler()\n",
        "train_x = scaler.fit_transform(train_x)\n",
        "test_x = scaler.transform(test_x)"
      ],
      "metadata": {
        "id": "_xm3TaaJReHU"
      },
      "execution_count": null,
      "outputs": []
    },
    {
      "cell_type": "code",
      "source": [
        "encoder = LabelEncoder()\n",
        "train_y = encoder.fit_transform(train_y)\n",
        "test_y = encoder.transform(test_y)"
      ],
      "metadata": {
        "id": "KNFxg9XyRgCM"
      },
      "execution_count": null,
      "outputs": []
    },
    {
      "cell_type": "code",
      "source": [
        "def printReport(test_y,predict_y):\n",
        "  accuracy = accuracy_score(test_y, predict_y)\n",
        "  print('Accuracy: %.6f' % accuracy)\n",
        "  print()\n",
        "\n",
        "  # T up-down  F left-right\n",
        "  print('Confusion Matrix')                      #  TP FP\n",
        "  print(confusion_matrix(test_y, predict_y))      #  FN TN \n",
        "  print()\n",
        "  \n",
        "  print(classification_report(test_y, predict_y, digits=6))"
      ],
      "metadata": {
        "id": "ngD61TvCRDqY"
      },
      "execution_count": null,
      "outputs": []
    },
    {
      "cell_type": "code",
      "source": [
        "n=5\n",
        "classifier = KNeighborsClassifier(n_neighbors=n, metric='minkowski', algorithm='kd_tree', n_jobs=-1)\n",
        "classifier.fit(train_x,train_y)\n",
        "\n",
        "predict_y = classifier.predict(test_x)\n",
        "\n",
        "print('K-Nearest Neighbour Classifier\\n')\n",
        "printReport(test_y,predict_y)"
      ],
      "metadata": {
        "id": "nA49pmwgRy4J",
        "outputId": "91e4024d-4538-4c0e-a1f1-539c5664d2d5",
        "colab": {
          "base_uri": "https://localhost:8080/"
        }
      },
      "execution_count": null,
      "outputs": [
        {
          "output_type": "stream",
          "name": "stdout",
          "text": [
            "K-Nearest Neighbour Classifier\n",
            "\n",
            "Accuracy: 0.999748\n",
            "\n",
            "Confusion Matrix\n",
            "[[ 117727       0       0       0]\n",
            " [      0   97406     796       0]\n",
            " [      0      40 2847870       0]\n",
            " [      0       0       0  250056]]\n",
            "\n",
            "              precision    recall  f1-score   support\n",
            "\n",
            "           0   1.000000  1.000000  1.000000    117727\n",
            "           1   0.999590  0.991894  0.995727     98202\n",
            "           2   0.999721  0.999986  0.999853   2847910\n",
            "           3   1.000000  1.000000  1.000000    250056\n",
            "\n",
            "    accuracy                       0.999748   3313895\n",
            "   macro avg   0.999828  0.997970  0.998895   3313895\n",
            "weighted avg   0.999748  0.999748  0.999747   3313895\n",
            "\n"
          ]
        }
      ]
    },
    {
      "cell_type": "code",
      "source": [
        "classifier = LogisticRegression(multi_class='multinomial', solver='sag', random_state=0, max_iter=1000, n_jobs=-1)\n",
        "classifier.fit(train_x,train_y)\n",
        "\n",
        "predict_y = classifier.predict(test_x)\n",
        "\n",
        "print('Logistic Regression\\n')\n",
        "printReport(test_y,predict_y)"
      ],
      "metadata": {
        "id": "OJFWV3oCR1SA",
        "outputId": "5a7f62e8-f236-40dd-9951-017bc7283f24",
        "colab": {
          "base_uri": "https://localhost:8080/"
        }
      },
      "execution_count": null,
      "outputs": [
        {
          "output_type": "stream",
          "name": "stdout",
          "text": [
            "Logistic Regression\n",
            "\n",
            "Accuracy: 0.883056\n",
            "\n",
            "Confusion Matrix\n",
            "[[ 117727       0       0       0]\n",
            " [      2       0   98164      36]\n",
            " [      0       0 2808628   39282]\n",
            " [      0       0  250056       0]]\n",
            "\n"
          ]
        },
        {
          "output_type": "stream",
          "name": "stderr",
          "text": [
            "/usr/local/lib/python3.8/dist-packages/sklearn/metrics/_classification.py:1318: UndefinedMetricWarning: Precision and F-score are ill-defined and being set to 0.0 in labels with no predicted samples. Use `zero_division` parameter to control this behavior.\n",
            "  _warn_prf(average, modifier, msg_start, len(result))\n",
            "/usr/local/lib/python3.8/dist-packages/sklearn/metrics/_classification.py:1318: UndefinedMetricWarning: Precision and F-score are ill-defined and being set to 0.0 in labels with no predicted samples. Use `zero_division` parameter to control this behavior.\n",
            "  _warn_prf(average, modifier, msg_start, len(result))\n"
          ]
        },
        {
          "output_type": "stream",
          "name": "stdout",
          "text": [
            "              precision    recall  f1-score   support\n",
            "\n",
            "           0   0.999983  1.000000  0.999992    117727\n",
            "           1   0.000000  0.000000  0.000000     98202\n",
            "           2   0.889694  0.986207  0.935468   2847910\n",
            "           3   0.000000  0.000000  0.000000    250056\n",
            "\n",
            "    accuracy                       0.883056   3313895\n",
            "   macro avg   0.472419  0.496552  0.483865   3313895\n",
            "weighted avg   0.800114  0.883056  0.839451   3313895\n",
            "\n"
          ]
        },
        {
          "output_type": "stream",
          "name": "stderr",
          "text": [
            "/usr/local/lib/python3.8/dist-packages/sklearn/metrics/_classification.py:1318: UndefinedMetricWarning: Precision and F-score are ill-defined and being set to 0.0 in labels with no predicted samples. Use `zero_division` parameter to control this behavior.\n",
            "  _warn_prf(average, modifier, msg_start, len(result))\n"
          ]
        }
      ]
    },
    {
      "cell_type": "code",
      "source": [
        "model = RandomForestClassifier(random_state=0, n_jobs=-1)\n",
        "model.fit(train_x, train_y)\n",
        "\n",
        "predict_y = model.predict(test_x)\n",
        "\n",
        "print('Random Forest Classifier\\n')\n",
        "printReport(test_y,predict_y)"
      ],
      "metadata": {
        "id": "DzBFzKHjR7Zw",
        "outputId": "d2740cf1-706f-4192-9b19-951ba0cc322e",
        "colab": {
          "base_uri": "https://localhost:8080/"
        }
      },
      "execution_count": null,
      "outputs": [
        {
          "output_type": "stream",
          "name": "stdout",
          "text": [
            "Random Forest Classifier\n",
            "\n",
            "Accuracy: 0.999984\n",
            "\n",
            "Confusion Matrix\n",
            "[[ 117727       0       0       0]\n",
            " [      0   98151      51       0]\n",
            " [      0       1 2847909       0]\n",
            " [      0       0       0  250056]]\n",
            "\n",
            "              precision    recall  f1-score   support\n",
            "\n",
            "           0   1.000000  1.000000  1.000000    117727\n",
            "           1   0.999990  0.999481  0.999735     98202\n",
            "           2   0.999982  1.000000  0.999991   2847910\n",
            "           3   1.000000  1.000000  1.000000    250056\n",
            "\n",
            "    accuracy                       0.999984   3313895\n",
            "   macro avg   0.999993  0.999870  0.999932   3313895\n",
            "weighted avg   0.999984  0.999984  0.999984   3313895\n",
            "\n"
          ]
        }
      ]
    },
    {
      "cell_type": "code",
      "source": [
        "classifier = svm.SVC(random_state=0, kernel='rbf', decision_function_shape='ovr')\n",
        "classifier.fit(train_x,train_y)\n",
        "\n",
        "predict_y = classifier.predict(test_x)\n",
        "\n",
        "print('Support Vector Machine\\n')\n",
        "printReport(test_y,predict_y)"
      ],
      "metadata": {
        "id": "m_-MeAbVSCuB"
      },
      "execution_count": null,
      "outputs": []
    }
  ]
}