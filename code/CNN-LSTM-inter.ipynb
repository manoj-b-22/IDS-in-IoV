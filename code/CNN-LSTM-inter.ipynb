{
  "cells": [
    {
      "cell_type": "markdown",
      "metadata": {
        "id": "view-in-github",
        "colab_type": "text"
      },
      "source": [
        "<a href=\"https://colab.research.google.com/github/manoj-b-22/IDS-in-IoV/blob/main/code/CNN-LSTM-inter.ipynb\" target=\"_parent\"><img src=\"https://colab.research.google.com/assets/colab-badge.svg\" alt=\"Open In Colab\"/></a>"
      ]
    },
    {
      "cell_type": "code",
      "execution_count": 1,
      "metadata": {
        "id": "3epWbgwvlMSF"
      },
      "outputs": [],
      "source": [
        "import numpy as np\n",
        "import pandas as pd\n",
        "from keras.models import Sequential\n",
        "from keras.layers import Conv1D, Dense, MaxPooling1D, LSTM\n",
        "from sklearn.preprocessing import StandardScaler, LabelEncoder\n",
        "from sklearn.metrics import classification_report, confusion_matrix"
      ]
    },
    {
      "cell_type": "code",
      "execution_count": 2,
      "metadata": {
        "id": "85GJLXzqlrAD",
        "outputId": "33797555-30e1-4c85-b72e-3af3c5b64242",
        "colab": {
          "base_uri": "https://localhost:8080/"
        }
      },
      "outputs": [
        {
          "output_type": "stream",
          "name": "stdout",
          "text": [
            "Mounted at /content/drive\n"
          ]
        }
      ],
      "source": [
        "from google.colab import drive\n",
        "drive.mount('/content/drive')"
      ]
    },
    {
      "cell_type": "code",
      "source": [
        "scaler = StandardScaler()\n",
        "encoder = LabelEncoder()"
      ],
      "metadata": {
        "id": "HD7IPjfvRBti"
      },
      "execution_count": 3,
      "outputs": []
    },
    {
      "cell_type": "code",
      "execution_count": 4,
      "metadata": {
        "id": "IlmUXwnGltAy"
      },
      "outputs": [],
      "source": [
        "train = pd.read_csv('/content/drive/MyDrive/train-intervehicle.csv',chunksize=500000)\n",
        "test = pd.read_csv('/content/drive/MyDrive/test-intervehicle.csv')"
      ]
    },
    {
      "cell_type": "code",
      "execution_count": 7,
      "metadata": {
        "id": "PjxsFHrLl5Dx",
        "outputId": "c29c3a1e-5ee6-4a00-b779-8811581a9769",
        "colab": {
          "base_uri": "https://localhost:8080/"
        }
      },
      "outputs": [
        {
          "output_type": "stream",
          "name": "stdout",
          "text": [
            "Model: \"sequential_2\"\n",
            "_________________________________________________________________\n",
            " Layer (type)                Output Shape              Param #   \n",
            "=================================================================\n",
            " conv1d (Conv1D)             (None, 69, 100)           300       \n",
            "                                                                 \n",
            " max_pooling1d (MaxPooling1D  (None, 34, 100)          0         \n",
            " )                                                               \n",
            "                                                                 \n",
            " lstm (LSTM)                 (None, 100)               80400     \n",
            "                                                                 \n",
            " dense (Dense)               (None, 1)                 101       \n",
            "                                                                 \n",
            "=================================================================\n",
            "Total params: 80,801\n",
            "Trainable params: 80,801\n",
            "Non-trainable params: 0\n",
            "_________________________________________________________________\n"
          ]
        }
      ],
      "source": [
        "model = Sequential()\n",
        "model.add(Conv1D(activation=\"tanh\", input_shape=(len(test.columns)-1,1), kernel_size=2, filters=100))\n",
        "model.add(MaxPooling1D(pool_size=2))\n",
        "model.add(LSTM(100, activation=\"tanh\", recurrent_activation=\"sigmoid\"))\n",
        "model.add(Dense(1, activation='sigmoid'))\n",
        "\n",
        "model.compile(loss='binary_crossentropy', optimizer='adam', metrics=['accuracy'])\n",
        "model.summary()"
      ]
    },
    {
      "cell_type": "code",
      "execution_count": 8,
      "metadata": {
        "id": "rAALlLZvl7Up",
        "outputId": "178dd35a-13d5-4689-d633-fc586e9f6f08",
        "colab": {
          "base_uri": "https://localhost:8080/"
        }
      },
      "outputs": [
        {
          "output_type": "stream",
          "name": "stdout",
          "text": [
            "15625/15625 [==============================] - 92s 5ms/step - loss: 0.0112 - accuracy: 0.9964\n",
            "15625/15625 [==============================] - 77s 5ms/step - loss: 0.0016 - accuracy: 0.9996\n",
            "15625/15625 [==============================] - 77s 5ms/step - loss: 8.2240e-04 - accuracy: 0.9998\n",
            "15625/15625 [==============================] - 82s 5ms/step - loss: 6.4948e-04 - accuracy: 0.9998\n",
            "15625/15625 [==============================] - 84s 5ms/step - loss: 6.0793e-04 - accuracy: 0.9999\n",
            "15625/15625 [==============================] - 81s 5ms/step - loss: 0.0011 - accuracy: 0.9997\n",
            "15625/15625 [==============================] - 78s 5ms/step - loss: 5.6725e-04 - accuracy: 0.9998\n",
            "15625/15625 [==============================] - 78s 5ms/step - loss: 5.6870e-04 - accuracy: 0.9999\n",
            "15625/15625 [==============================] - 78s 5ms/step - loss: 5.3226e-04 - accuracy: 0.9999\n",
            "15625/15625 [==============================] - 79s 5ms/step - loss: 7.6591e-04 - accuracy: 0.9998\n",
            "15625/15625 [==============================] - 77s 5ms/step - loss: 4.1971e-04 - accuracy: 0.9999\n",
            "15625/15625 [==============================] - 77s 5ms/step - loss: 3.1505e-04 - accuracy: 0.9999\n",
            "15625/15625 [==============================] - 78s 5ms/step - loss: 3.7494e-04 - accuracy: 0.9999\n",
            "15625/15625 [==============================] - 76s 5ms/step - loss: 4.6126e-04 - accuracy: 0.9999\n",
            "15625/15625 [==============================] - 78s 5ms/step - loss: 2.8919e-04 - accuracy: 0.9999\n",
            "15625/15625 [==============================] - 78s 5ms/step - loss: 5.1704e-04 - accuracy: 0.9999\n",
            "15625/15625 [==============================] - 79s 5ms/step - loss: 2.7003e-04 - accuracy: 0.9999\n",
            "15625/15625 [==============================] - 78s 5ms/step - loss: 2.9326e-04 - accuracy: 0.9999\n",
            "15625/15625 [==============================] - 78s 5ms/step - loss: 2.7233e-04 - accuracy: 0.9999\n",
            "15625/15625 [==============================] - 78s 5ms/step - loss: 6.0438e-04 - accuracy: 0.9999\n",
            "6161/6161 [==============================] - 32s 5ms/step - loss: 2.8814e-04 - accuracy: 0.9999\n"
          ]
        }
      ],
      "source": [
        "for chunk in train:\n",
        "  train_y = chunk.pop('Label')\n",
        "  train_x = chunk\n",
        "  train_x = scaler.fit_transform(train_x)\n",
        "  train_y = encoder.fit_transform(train_y)\n",
        "  model.fit(train_x, train_y, batch_size=32)"
      ]
    },
    {
      "cell_type": "code",
      "source": [
        "test_y = test.pop('Label')\n",
        "test_x = test"
      ],
      "metadata": {
        "id": "EX-4pbwSSGHC"
      },
      "execution_count": 9,
      "outputs": []
    },
    {
      "cell_type": "code",
      "source": [
        "test_x = scaler.transform(test_x)\n",
        "test_y = encoder.transform(test_y)"
      ],
      "metadata": {
        "id": "jEcXpP4KSIlu"
      },
      "execution_count": 10,
      "outputs": []
    },
    {
      "cell_type": "code",
      "execution_count": 16,
      "metadata": {
        "id": "BlPyKUHhl7_7",
        "outputId": "1810028f-8e49-4cef-9a41-225a23332d5f",
        "colab": {
          "base_uri": "https://localhost:8080/"
        }
      },
      "outputs": [
        {
          "output_type": "stream",
          "name": "stdout",
          "text": [
            "79666/79666 [==============================] - 217s 3ms/step\n"
          ]
        }
      ],
      "source": [
        "pred = model.predict(test_x, verbose=1)\n",
        "pred_y = np.round(pred).astype(int)"
      ]
    },
    {
      "cell_type": "code",
      "source": [
        "confusion_matrix(test_y, pred_y)"
      ],
      "metadata": {
        "id": "_T3Py5kOjEHw",
        "outputId": "22b07c56-70a6-4195-b049-921997e4e5e2",
        "colab": {
          "base_uri": "https://localhost:8080/"
        }
      },
      "execution_count": 17,
      "outputs": [
        {
          "output_type": "execute_result",
          "data": {
            "text/plain": [
              "array([[1255517,     224],\n",
              "       [      1, 1293546]])"
            ]
          },
          "metadata": {},
          "execution_count": 17
        }
      ]
    },
    {
      "cell_type": "code",
      "source": [
        "report = classification_report(test_y, pred_y, digits=6)\n",
        "print(report)"
      ],
      "metadata": {
        "id": "lgf6wNn-CVls",
        "outputId": "cc85678f-2763-4e3d-ebbf-3a39f4d21925",
        "colab": {
          "base_uri": "https://localhost:8080/"
        }
      },
      "execution_count": 19,
      "outputs": [
        {
          "output_type": "stream",
          "name": "stdout",
          "text": [
            "              precision    recall  f1-score   support\n",
            "\n",
            "           0   0.999999  0.999822  0.999910   1255741\n",
            "           1   0.999827  0.999999  0.999913   1293547\n",
            "\n",
            "    accuracy                       0.999912   2549288\n",
            "   macro avg   0.999913  0.999910  0.999912   2549288\n",
            "weighted avg   0.999912  0.999912  0.999912   2549288\n",
            "\n"
          ]
        }
      ]
    }
  ],
  "metadata": {
    "accelerator": "GPU",
    "colab": {
      "provenance": [],
      "include_colab_link": true
    },
    "gpuClass": "standard",
    "kernelspec": {
      "display_name": "Python 3.10.4 64-bit",
      "language": "python",
      "name": "python3"
    },
    "language_info": {
      "name": "python",
      "version": "3.10.4"
    },
    "vscode": {
      "interpreter": {
        "hash": "759c5e0d3d88a894482aeabccbd08c19af37ecec916291e5ab4326292ca84839"
      }
    }
  },
  "nbformat": 4,
  "nbformat_minor": 0
}