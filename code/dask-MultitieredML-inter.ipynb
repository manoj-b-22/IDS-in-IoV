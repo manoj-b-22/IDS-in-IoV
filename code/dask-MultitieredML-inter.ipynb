{
  "cells": [
    {
      "cell_type": "markdown",
      "metadata": {
        "id": "view-in-github",
        "colab_type": "text"
      },
      "source": [
        "<a href=\"https://colab.research.google.com/github/manoj-b-22/IDS-in-IoV/blob/main/code/dask-MultitieredML-inter.ipynb\" target=\"_parent\"><img src=\"https://colab.research.google.com/assets/colab-badge.svg\" alt=\"Open In Colab\"/></a>"
      ]
    },
    {
      "cell_type": "code",
      "source": [
        "!pip install dask_ml[complete] dask_ml[xgboost]"
      ],
      "metadata": {
        "id": "HuN5JoWv10vQ"
      },
      "execution_count": null,
      "outputs": []
    },
    {
      "cell_type": "code",
      "execution_count": null,
      "metadata": {
        "id": "GVKiJ1wJ1rRh"
      },
      "outputs": [],
      "source": [
        "import dask.array as da\n",
        "import dask.dataframe as dd\n",
        "from dask_ml.cluster import KMeans\n",
        "from dask_ml.xgboost import XGBClassifier\n",
        "from dask_ml.preprocessing import StandardScaler, LabelEncoder\n",
        "from sklearn.metrics import classification_report, confusion_matrix"
      ]
    },
    {
      "cell_type": "code",
      "source": [
        "from google.colab import drive\n",
        "drive.mount('/content/drive')"
      ],
      "metadata": {
        "colab": {
          "base_uri": "https://localhost:8080/"
        },
        "id": "nmTdWf1J2fdh",
        "outputId": "2b479db2-158c-4dbd-fac4-a83a03eb5e00"
      },
      "execution_count": 3,
      "outputs": [
        {
          "output_type": "stream",
          "name": "stdout",
          "text": [
            "Mounted at /content/drive\n"
          ]
        }
      ]
    },
    {
      "cell_type": "code",
      "source": [
        "from dask.distributed import Client\n",
        "client = Client() "
      ],
      "metadata": {
        "id": "xEOQl1mY_AuZ"
      },
      "execution_count": 4,
      "outputs": []
    },
    {
      "cell_type": "code",
      "source": [
        "scaler = StandardScaler()\n",
        "encoder = LabelEncoder()"
      ],
      "metadata": {
        "id": "AAoeOgwplyhx"
      },
      "execution_count": 5,
      "outputs": []
    },
    {
      "cell_type": "code",
      "execution_count": 6,
      "metadata": {
        "id": "_vVr5y2z1rRm"
      },
      "outputs": [],
      "source": [
        "train = dd.read_csv('/content/drive/MyDrive/train-intervehicle.csv')\n",
        "test = dd.read_csv('/content/drive/MyDrive/test-intervehicle.csv')"
      ]
    },
    {
      "cell_type": "code",
      "source": [
        "train_y = train.pop('Label')\n",
        "train_x = train\n",
        "test_y = test.pop('Label')\n",
        "test_x = test"
      ],
      "metadata": {
        "id": "PUonFKyHl-iq"
      },
      "execution_count": 7,
      "outputs": []
    },
    {
      "cell_type": "code",
      "execution_count": 8,
      "metadata": {
        "id": "NVjiZRwj1rRp"
      },
      "outputs": [],
      "source": [
        "encoder = LabelEncoder()\n",
        "train_y= encoder.fit_transform(train_y)\n",
        "test_y = encoder.transform(test_y)"
      ]
    },
    {
      "cell_type": "code",
      "execution_count": 9,
      "metadata": {
        "colab": {
          "base_uri": "https://localhost:8080/"
        },
        "id": "yxfT64BA1rRq",
        "outputId": "e02b42b6-eafc-4230-c119-1f0a163485db"
      },
      "outputs": [
        {
          "output_type": "stream",
          "name": "stdout",
          "text": [
            "['Benign' 'ddos']\n",
            "[0 1]\n"
          ]
        }
      ],
      "source": [
        "keys = encoder.classes_\n",
        "values = encoder.transform(encoder.classes_)\n",
        "print(keys.compute())\n",
        "print(values.compute())"
      ]
    },
    {
      "cell_type": "code",
      "execution_count": null,
      "metadata": {
        "id": "hqhwf4nx1rRo"
      },
      "outputs": [],
      "source": [
        "scaler = StandardScaler()\n",
        "train_x = scaler.fit_transform(train_x)\n",
        "test_x = scaler.transform(test_x)"
      ]
    },
    {
      "cell_type": "code",
      "execution_count": null,
      "metadata": {
        "id": "efJiW49a1rRo"
      },
      "outputs": [],
      "source": [
        "# normal and unknown attack\n",
        "CLk = KMeans(n_clusters=2, random_state=0, n_jobs=-1)"
      ]
    },
    {
      "cell_type": "code",
      "execution_count": null,
      "metadata": {
        "id": "eXorzdN41rRr"
      },
      "outputs": [],
      "source": [
        "xgb = XGBClassifier(objective=\"binary:logistic\", random_state=0, n_jobs=-1)\n",
        "xgb.fit(train_x,train_y)"
      ]
    },
    {
      "cell_type": "code",
      "source": [
        "pred_y = xgb.predict(test_x)"
      ],
      "metadata": {
        "id": "wOS4xXhS7wG0"
      },
      "execution_count": null,
      "outputs": []
    },
    {
      "cell_type": "code",
      "source": [
        "confusion_matrix(test_y.compute(), pred_y.compute())"
      ],
      "metadata": {
        "id": "q3WDCmdwCU0p"
      },
      "execution_count": null,
      "outputs": []
    },
    {
      "cell_type": "code",
      "source": [
        "classification_report(test_y.compute(), pred_y.compute())"
      ],
      "metadata": {
        "id": "uJDnhiURCo4p"
      },
      "execution_count": null,
      "outputs": []
    }
  ],
  "metadata": {
    "kernelspec": {
      "display_name": "Python 3.10.7 64-bit",
      "language": "python",
      "name": "python3"
    },
    "language_info": {
      "codemirror_mode": {
        "name": "ipython",
        "version": 3
      },
      "file_extension": ".py",
      "mimetype": "text/x-python",
      "name": "python",
      "nbconvert_exporter": "python",
      "pygments_lexer": "ipython3",
      "version": "3.10.7"
    },
    "orig_nbformat": 4,
    "vscode": {
      "interpreter": {
        "hash": "759c5e0d3d88a894482aeabccbd08c19af37ecec916291e5ab4326292ca84839"
      }
    },
    "colab": {
      "provenance": [],
      "include_colab_link": true
    },
    "accelerator": "TPU",
    "gpuClass": "standard"
  },
  "nbformat": 4,
  "nbformat_minor": 0
}