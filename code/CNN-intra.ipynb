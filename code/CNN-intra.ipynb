{
  "cells": [
    {
      "cell_type": "markdown",
      "metadata": {
        "id": "view-in-github",
        "colab_type": "text"
      },
      "source": [
        "<a href=\"https://colab.research.google.com/github/manoj-b-22/IDS-in-IoV/blob/main/code/CNN-intra.ipynb\" target=\"_parent\"><img src=\"https://colab.research.google.com/assets/colab-badge.svg\" alt=\"Open In Colab\"/></a>"
      ]
    },
    {
      "cell_type": "code",
      "execution_count": null,
      "metadata": {
        "id": "3epWbgwvlMSF"
      },
      "outputs": [],
      "source": [
        "import numpy as np\n",
        "import pandas as pd\n",
        "from keras.models import Sequential\n",
        "from sklearn.metrics import classification_report, confusion_matrix\n",
        "from sklearn.model_selection import train_test_split\n",
        "from keras.layers import Conv1D, Dense, AveragePooling1D, Flatten\n",
        "from sklearn.preprocessing import StandardScaler, LabelEncoder"
      ]
    },
    {
      "cell_type": "code",
      "execution_count": null,
      "metadata": {
        "colab": {
          "base_uri": "https://localhost:8080/"
        },
        "id": "85GJLXzqlrAD",
        "outputId": "9e900f21-c426-426b-89ab-a5fda69acb68"
      },
      "outputs": [
        {
          "output_type": "stream",
          "name": "stdout",
          "text": [
            "Mounted at /content/drive\n"
          ]
        }
      ],
      "source": [
        "from google.colab import drive\n",
        "drive.mount('/content/drive')"
      ]
    },
    {
      "cell_type": "code",
      "execution_count": null,
      "metadata": {
        "id": "IlmUXwnGltAy"
      },
      "outputs": [],
      "source": [
        "data = pd.read_csv('/content/drive/MyDrive/intravehicle.csv')"
      ]
    },
    {
      "cell_type": "code",
      "execution_count": null,
      "metadata": {
        "id": "kPG68B8Wluwd"
      },
      "outputs": [],
      "source": [
        "y_data = data.pop('4')\n",
        "x_data = data"
      ]
    },
    {
      "cell_type": "code",
      "execution_count": null,
      "metadata": {
        "id": "S5qyW-QIlwSN"
      },
      "outputs": [],
      "source": [
        "train_x,test_x,train_y,test_y = train_test_split(x_data, y_data, test_size=0.2, random_state=0, shuffle=True) "
      ]
    },
    {
      "cell_type": "code",
      "execution_count": null,
      "metadata": {
        "id": "dMEsgSyqlybc"
      },
      "outputs": [],
      "source": [
        "train_x = train_x.reset_index(drop=True)\n",
        "test_x = test_x.reset_index(drop=True) \n",
        "train_y = train_y.reset_index(drop=True)\n",
        "test_y = test_y.reset_index(drop=True)"
      ]
    },
    {
      "cell_type": "code",
      "execution_count": null,
      "metadata": {
        "id": "05AUYVO7l0W3"
      },
      "outputs": [],
      "source": [
        "scaler = StandardScaler()\n",
        "train_x = scaler.fit_transform(train_x)\n",
        "test_x = scaler.transform(test_x)"
      ]
    },
    {
      "cell_type": "code",
      "execution_count": null,
      "metadata": {
        "id": "-PnqJ0Mnl3Oj"
      },
      "outputs": [],
      "source": [
        "encoder = LabelEncoder()\n",
        "train_y = encoder.fit_transform(train_y)\n",
        "test_y = encoder.transform(test_y)"
      ]
    },
    {
      "cell_type": "code",
      "execution_count": null,
      "metadata": {
        "colab": {
          "base_uri": "https://localhost:8080/"
        },
        "id": "PjxsFHrLl5Dx",
        "outputId": "7ba562f3-8e1b-457a-813f-0c9912caffff"
      },
      "outputs": [
        {
          "output_type": "stream",
          "name": "stdout",
          "text": [
            "Model: \"sequential\"\n",
            "_________________________________________________________________\n",
            " Layer (type)                Output Shape              Param #   \n",
            "=================================================================\n",
            " conv1d (Conv1D)             (None, 3, 100)            300       \n",
            "                                                                 \n",
            " average_pooling1d (AverageP  (None, 1, 100)           0         \n",
            " ooling1D)                                                       \n",
            "                                                                 \n",
            " dense (Dense)               (None, 1, 4)              404       \n",
            "                                                                 \n",
            "=================================================================\n",
            "Total params: 704\n",
            "Trainable params: 704\n",
            "Non-trainable params: 0\n",
            "_________________________________________________________________\n"
          ]
        }
      ],
      "source": [
        "model = Sequential()\n",
        "model.add(Conv1D(activation=\"sigmoid\", input_shape=(len(x_data.columns),1), kernel_size=2, filters=12))\n",
        "model.add(AveragePooling1D(pool_size=2))\n",
        "model.add(Flatten())\n",
        "model.add(Dense(4, activation='softmax'))\n",
        "\n",
        "model.compile(loss='sparse_categorical_crossentropy', optimizer='adam', metrics=['accuracy'])\n",
        "model.summary()"
      ]
    },
    {
      "cell_type": "code",
      "execution_count": null,
      "metadata": {
        "colab": {
          "base_uri": "https://localhost:8080/"
        },
        "id": "rAALlLZvl7Up",
        "outputId": "e67e2b3a-3fb6-4829-d080-216a8dd113cc"
      },
      "outputs": [
        {
          "metadata": {
            "tags": null
          },
          "name": "stdout",
          "output_type": "stream",
          "text": [
            "Epoch 1/6\n",
            "414237/414237 [==============================] - 1151s 3ms/step - loss: 0.2170 - accuracy: 0.7970\n",
            "Epoch 2/6\n",
            "414237/414237 [==============================] - 1097s 3ms/step - loss: 0.1876 - accuracy: 0.7937\n",
            "Epoch 3/6\n",
            "414237/414237 [==============================] - 1119s 3ms/step - loss: 0.1800 - accuracy: 0.7959\n",
            "Epoch 4/6\n",
            "414237/414237 [==============================] - 1112s 3ms/step - loss: 0.1750 - accuracy: 0.7959\n",
            "Epoch 5/6\n",
            "414237/414237 [==============================] - 1120s 3ms/step - loss: 0.1710 - accuracy: 0.7956\n",
            "Epoch 6/6\n",
            "414237/414237 [==============================] - 1042s 3ms/step - loss: 0.1669 - accuracy: 0.7956\n"
          ]
        },
        {
          "data": {
            "text/plain": [
              "<keras.callbacks.History at 0x7f437a2d2a50>"
            ]
          },
          "execution_count": 12,
          "metadata": {},
          "output_type": "execute_result"
        }
      ],
      "source": [
        "model.fit(train_x, train_y, batch_size=32, epochs=6)"
      ]
    },
    {
      "cell_type": "code",
      "execution_count": null,
      "metadata": {
        "colab": {
          "base_uri": "https://localhost:8080/"
        },
        "id": "BlPyKUHhl7_7",
        "outputId": "79278f82-36bf-494f-f3ad-60c6c0f8a8a3"
      },
      "outputs": [
        {
          "metadata": {
            "tags": null
          },
          "name": "stdout",
          "output_type": "stream",
          "text": [
            "103560/103560 [==============================] - 176s 2ms/step\n"
          ]
        }
      ],
      "source": [
        "pred = model.predict(test_x, verbose=1)\n",
        "pred_y = np.argmax(pred, axis=2)"
      ]
    },
    {
      "cell_type": "code",
      "source": [
        "confusion_matrix(test_y, pred_y)"
      ],
      "metadata": {
        "id": "_T3Py5kOjEHw",
        "outputId": "fd70cff9-a419-43f4-9e8b-a7614657ae1d",
        "colab": {
          "base_uri": "https://localhost:8080/"
        }
      },
      "execution_count": null,
      "outputs": [
        {
          "output_type": "execute_result",
          "data": {
            "text/plain": [
              "array([[  17849,       0,   99878,       0],\n",
              "       [      0,   57305,   40897,       0],\n",
              "       [  10815,   12271, 2824675,     149],\n",
              "       [      0,       0,  119226,  130830]])"
            ]
          },
          "metadata": {},
          "execution_count": 25
        }
      ]
    },
    {
      "cell_type": "code",
      "source": [
        "report = classification_report(test_y, pred_y)\n",
        "print(report)"
      ],
      "metadata": {
        "id": "lgf6wNn-CVls",
        "outputId": "40972475-939a-45ba-852e-f7c2cdafa9ac",
        "colab": {
          "base_uri": "https://localhost:8080/"
        }
      },
      "execution_count": null,
      "outputs": [
        {
          "output_type": "stream",
          "name": "stdout",
          "text": [
            "              precision    recall  f1-score   support\n",
            "\n",
            "           0       0.62      0.15      0.24    117727\n",
            "           1       0.82      0.58      0.68     98202\n",
            "           2       0.92      0.99      0.95   2847910\n",
            "           3       1.00      0.52      0.69    250056\n",
            "\n",
            "    accuracy                           0.91   3313895\n",
            "   macro avg       0.84      0.56      0.64   3313895\n",
            "weighted avg       0.91      0.91      0.90   3313895\n",
            "\n"
          ]
        }
      ]
    }
  ],
  "metadata": {
    "accelerator": "GPU",
    "colab": {
      "name": "CNN-intra.ipynb",
      "provenance": [],
      "include_colab_link": true
    },
    "gpuClass": "standard",
    "kernelspec": {
      "display_name": "Python 3.10.4 64-bit",
      "language": "python",
      "name": "python3"
    },
    "language_info": {
      "name": "python",
      "version": "3.10.4"
    },
    "vscode": {
      "interpreter": {
        "hash": "759c5e0d3d88a894482aeabccbd08c19af37ecec916291e5ab4326292ca84839"
      }
    }
  },
  "nbformat": 4,
  "nbformat_minor": 0
}