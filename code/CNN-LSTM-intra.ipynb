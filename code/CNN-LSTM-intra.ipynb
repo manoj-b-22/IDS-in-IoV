{
  "cells": [
    {
      "cell_type": "markdown",
      "metadata": {
        "id": "view-in-github",
        "colab_type": "text"
      },
      "source": [
        "<a href=\"https://colab.research.google.com/github/manoj-b-22/IDS-in-IoV/blob/main/code/CNN-LSTM-intra.ipynb\" target=\"_parent\"><img src=\"https://colab.research.google.com/assets/colab-badge.svg\" alt=\"Open In Colab\"/></a>"
      ]
    },
    {
      "cell_type": "code",
      "execution_count": 3,
      "metadata": {
        "id": "3epWbgwvlMSF"
      },
      "outputs": [],
      "source": [
        "import numpy as np\n",
        "import pandas as pd\n",
        "from keras.models import Sequential\n",
        "from sklearn.model_selection import train_test_split\n",
        "from sklearn.preprocessing import StandardScaler, LabelEncoder\n",
        "from keras.layers import Conv1D, Dense, MaxPooling1D, LSTM\n",
        "from sklearn.metrics import classification_report, confusion_matrix"
      ]
    },
    {
      "cell_type": "code",
      "execution_count": 4,
      "metadata": {
        "colab": {
          "base_uri": "https://localhost:8080/"
        },
        "id": "85GJLXzqlrAD",
        "outputId": "e50f7136-e740-43fd-f379-305ccd2f58e7"
      },
      "outputs": [
        {
          "output_type": "stream",
          "name": "stdout",
          "text": [
            "Mounted at /content/drive\n"
          ]
        }
      ],
      "source": [
        "from google.colab import drive\n",
        "drive.mount('/content/drive')"
      ]
    },
    {
      "cell_type": "code",
      "execution_count": 5,
      "metadata": {
        "id": "IlmUXwnGltAy"
      },
      "outputs": [],
      "source": [
        "data = pd.read_csv('/content/drive/MyDrive/intravehicle.csv')"
      ]
    },
    {
      "cell_type": "code",
      "execution_count": 6,
      "metadata": {
        "id": "kPG68B8Wluwd"
      },
      "outputs": [],
      "source": [
        "y_data = data.pop('4')\n",
        "x_data = data"
      ]
    },
    {
      "cell_type": "code",
      "execution_count": 7,
      "metadata": {
        "id": "S5qyW-QIlwSN"
      },
      "outputs": [],
      "source": [
        "train_x,test_x,train_y,test_y = train_test_split(x_data, y_data, test_size=0.2, random_state=0, shuffle=True) "
      ]
    },
    {
      "cell_type": "code",
      "execution_count": 8,
      "metadata": {
        "id": "dMEsgSyqlybc"
      },
      "outputs": [],
      "source": [
        "train_x = train_x.reset_index(drop=True)\n",
        "test_x = test_x.reset_index(drop=True) \n",
        "train_y = train_y.reset_index(drop=True)\n",
        "test_y = test_y.reset_index(drop=True)"
      ]
    },
    {
      "cell_type": "code",
      "execution_count": 9,
      "metadata": {
        "id": "05AUYVO7l0W3"
      },
      "outputs": [],
      "source": [
        "scaler = StandardScaler()\n",
        "train_x = scaler.fit_transform(train_x)\n",
        "test_x = scaler.transform(test_x)"
      ]
    },
    {
      "cell_type": "code",
      "execution_count": 10,
      "metadata": {
        "id": "-PnqJ0Mnl3Oj"
      },
      "outputs": [],
      "source": [
        "encoder = LabelEncoder()\n",
        "train_y = encoder.fit_transform(train_y)\n",
        "test_y = encoder.transform(test_y)"
      ]
    },
    {
      "cell_type": "code",
      "execution_count": 11,
      "metadata": {
        "colab": {
          "base_uri": "https://localhost:8080/"
        },
        "id": "PjxsFHrLl5Dx",
        "outputId": "a7f778dc-dba3-46c2-b730-b159e700115b"
      },
      "outputs": [
        {
          "output_type": "stream",
          "name": "stdout",
          "text": [
            "Model: \"sequential\"\n",
            "_________________________________________________________________\n",
            " Layer (type)                Output Shape              Param #   \n",
            "=================================================================\n",
            " conv1d (Conv1D)             (None, 3, 100)            300       \n",
            "                                                                 \n",
            " max_pooling1d (MaxPooling1D  (None, 1, 100)           0         \n",
            " )                                                               \n",
            "                                                                 \n",
            " lstm (LSTM)                 (None, 100)               80400     \n",
            "                                                                 \n",
            " dense (Dense)               (None, 4)                 404       \n",
            "                                                                 \n",
            "=================================================================\n",
            "Total params: 81,104\n",
            "Trainable params: 81,104\n",
            "Non-trainable params: 0\n",
            "_________________________________________________________________\n"
          ]
        }
      ],
      "source": [
        "model = Sequential()\n",
        "model.add(Conv1D(activation=\"tanh\", input_shape=(len(x_data.columns),1), kernel_size=2, filters=100))\n",
        "model.add(MaxPooling1D(pool_size=2))\n",
        "model.add(LSTM(100, activation=\"tanh\", recurrent_activation=\"sigmoid\"))\n",
        "model.add(Dense(4, activation='softmax'))\n",
        "\n",
        "model.compile(loss='sparse_categorical_crossentropy', optimizer='adam', metrics=['accuracy'])\n",
        "model.summary()"
      ]
    },
    {
      "cell_type": "code",
      "execution_count": 12,
      "metadata": {
        "colab": {
          "base_uri": "https://localhost:8080/"
        },
        "id": "rAALlLZvl7Up",
        "outputId": "1bbb2582-d4a4-41ad-a42a-9ea2b52c7fea"
      },
      "outputs": [
        {
          "output_type": "stream",
          "name": "stdout",
          "text": [
            "Epoch 1/6\n",
            "414237/414237 [==============================] - 1785s 4ms/step - loss: 0.1015 - accuracy: 0.9473\n",
            "Epoch 2/6\n",
            "414237/414237 [==============================] - 1516s 4ms/step - loss: 0.0839 - accuracy: 0.9555\n",
            "Epoch 3/6\n",
            "414237/414237 [==============================] - 1512s 4ms/step - loss: 0.0799 - accuracy: 0.9571\n",
            "Epoch 4/6\n",
            "414237/414237 [==============================] - 1549s 4ms/step - loss: 0.0778 - accuracy: 0.9581\n",
            "Epoch 5/6\n",
            "414237/414237 [==============================] - 1889s 5ms/step - loss: 0.0763 - accuracy: 0.9589\n",
            "Epoch 6/6\n",
            "414237/414237 [==============================] - 1574s 4ms/step - loss: 0.0752 - accuracy: 0.9595\n"
          ]
        },
        {
          "output_type": "execute_result",
          "data": {
            "text/plain": [
              "<keras.callbacks.History at 0x7fb4de8bd760>"
            ]
          },
          "metadata": {},
          "execution_count": 12
        }
      ],
      "source": [
        "model.fit(train_x, train_y, batch_size=32, epochs=6)"
      ]
    },
    {
      "cell_type": "code",
      "execution_count": 13,
      "metadata": {
        "id": "BlPyKUHhl7_7",
        "outputId": "0840e3e3-3eb9-468d-c462-022a14514593",
        "colab": {
          "base_uri": "https://localhost:8080/"
        }
      },
      "outputs": [
        {
          "output_type": "stream",
          "name": "stdout",
          "text": [
            "103560/103560 [==============================] - 173s 2ms/step\n"
          ]
        }
      ],
      "source": [
        "pred = model.predict(test_x, verbose=1)\n",
        "pred_y = np.argmax(pred, axis=1)"
      ]
    },
    {
      "cell_type": "code",
      "source": [
        "confusion_matrix(test_y, pred_y)"
      ],
      "metadata": {
        "id": "_T3Py5kOjEHw",
        "outputId": "ecd8179e-e41c-4120-ebe2-44689a5ac058",
        "colab": {
          "base_uri": "https://localhost:8080/"
        }
      },
      "execution_count": 14,
      "outputs": [
        {
          "output_type": "execute_result",
          "data": {
            "text/plain": [
              "array([[ 117497,       0,     230,       0],\n",
              "       [      0,   77398,   20804,       0],\n",
              "       [ 102146,   12956, 2732371,     437],\n",
              "       [      0,       0,       0,  250056]])"
            ]
          },
          "metadata": {},
          "execution_count": 14
        }
      ]
    },
    {
      "cell_type": "code",
      "source": [
        "report = classification_report(test_y, pred_y, digits=6)\n",
        "print(report)"
      ],
      "metadata": {
        "id": "lgf6wNn-CVls",
        "outputId": "e82bba09-64e0-44e1-b7e3-76dc377383c1",
        "colab": {
          "base_uri": "https://localhost:8080/"
        }
      },
      "execution_count": 15,
      "outputs": [
        {
          "output_type": "stream",
          "name": "stdout",
          "text": [
            "              precision    recall  f1-score   support\n",
            "\n",
            "           0   0.534945  0.998046  0.696547    117727\n",
            "           1   0.856608  0.788151  0.820955     98202\n",
            "           2   0.992361  0.959430  0.975618   2847910\n",
            "           3   0.998255  1.000000  0.999127    250056\n",
            "\n",
            "    accuracy                       0.958788   3313895\n",
            "   macro avg   0.845542  0.936407  0.873062   3313895\n",
            "weighted avg   0.972533  0.958788  0.962894   3313895\n",
            "\n"
          ]
        }
      ]
    }
  ],
  "metadata": {
    "accelerator": "GPU",
    "colab": {
      "provenance": [],
      "include_colab_link": true
    },
    "gpuClass": "standard",
    "kernelspec": {
      "display_name": "Python 3.10.4 64-bit",
      "language": "python",
      "name": "python3"
    },
    "language_info": {
      "name": "python",
      "version": "3.10.4"
    },
    "vscode": {
      "interpreter": {
        "hash": "759c5e0d3d88a894482aeabccbd08c19af37ecec916291e5ab4326292ca84839"
      }
    }
  },
  "nbformat": 4,
  "nbformat_minor": 0
}