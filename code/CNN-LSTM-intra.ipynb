{
  "cells": [
    {
      "cell_type": "markdown",
      "metadata": {
        "id": "view-in-github",
        "colab_type": "text"
      },
      "source": [
        "<a href=\"https://colab.research.google.com/github/manoj-b-22/IDS-in-IoV/blob/main/code/CNN-LSTM-intra.ipynb\" target=\"_parent\"><img src=\"https://colab.research.google.com/assets/colab-badge.svg\" alt=\"Open In Colab\"/></a>"
      ]
    },
    {
      "cell_type": "code",
      "execution_count": 1,
      "metadata": {
        "id": "3epWbgwvlMSF"
      },
      "outputs": [],
      "source": [
        "import numpy as np\n",
        "import pandas as pd\n",
        "from keras.models import Sequential\n",
        "from sklearn.model_selection import train_test_split\n",
        "from sklearn.preprocessing import StandardScaler, LabelEncoder\n",
        "from keras.layers import Conv1D, Dense, MaxPooling1D, LSTM\n",
        "from sklearn.metrics import classification_report, confusion_matrix"
      ]
    },
    {
      "cell_type": "code",
      "execution_count": 2,
      "metadata": {
        "colab": {
          "base_uri": "https://localhost:8080/"
        },
        "id": "85GJLXzqlrAD",
        "outputId": "dae0dd73-00dd-43d6-bebc-118581330e19"
      },
      "outputs": [
        {
          "output_type": "stream",
          "name": "stdout",
          "text": [
            "Mounted at /content/drive\n"
          ]
        }
      ],
      "source": [
        "from google.colab import drive\n",
        "drive.mount('/content/drive')"
      ]
    },
    {
      "cell_type": "code",
      "execution_count": 3,
      "metadata": {
        "id": "IlmUXwnGltAy"
      },
      "outputs": [],
      "source": [
        "data = pd.read_csv('/content/drive/MyDrive/intravehicle.csv')"
      ]
    },
    {
      "cell_type": "code",
      "execution_count": 4,
      "metadata": {
        "id": "kPG68B8Wluwd"
      },
      "outputs": [],
      "source": [
        "y_data = data.pop('4')\n",
        "x_data = data"
      ]
    },
    {
      "cell_type": "code",
      "execution_count": 5,
      "metadata": {
        "id": "S5qyW-QIlwSN"
      },
      "outputs": [],
      "source": [
        "train_x,test_x,train_y,test_y = train_test_split(x_data, y_data, test_size=0.2, random_state=0, shuffle=True) "
      ]
    },
    {
      "cell_type": "code",
      "execution_count": 6,
      "metadata": {
        "id": "dMEsgSyqlybc"
      },
      "outputs": [],
      "source": [
        "train_x = train_x.reset_index(drop=True)\n",
        "test_x = test_x.reset_index(drop=True) \n",
        "train_y = train_y.reset_index(drop=True)\n",
        "test_y = test_y.reset_index(drop=True)"
      ]
    },
    {
      "cell_type": "code",
      "execution_count": 7,
      "metadata": {
        "id": "05AUYVO7l0W3"
      },
      "outputs": [],
      "source": [
        "scaler = StandardScaler()\n",
        "train_x = scaler.fit_transform(train_x)\n",
        "test_x = scaler.transform(test_x)"
      ]
    },
    {
      "cell_type": "code",
      "execution_count": 8,
      "metadata": {
        "id": "-PnqJ0Mnl3Oj"
      },
      "outputs": [],
      "source": [
        "encoder = LabelEncoder()\n",
        "train_y = encoder.fit_transform(train_y)\n",
        "test_y = encoder.transform(test_y)"
      ]
    },
    {
      "cell_type": "code",
      "execution_count": 9,
      "metadata": {
        "colab": {
          "base_uri": "https://localhost:8080/"
        },
        "id": "PjxsFHrLl5Dx",
        "outputId": "c9506c74-aa1e-4cde-b5f8-8ef3ab011c02"
      },
      "outputs": [
        {
          "output_type": "stream",
          "name": "stdout",
          "text": [
            "Model: \"sequential\"\n",
            "_________________________________________________________________\n",
            " Layer (type)                Output Shape              Param #   \n",
            "=================================================================\n",
            " conv1d (Conv1D)             (None, 3, 100)            300       \n",
            "                                                                 \n",
            " max_pooling1d (MaxPooling1D  (None, 1, 100)           0         \n",
            " )                                                               \n",
            "                                                                 \n",
            " lstm (LSTM)                 (None, 100)               80400     \n",
            "                                                                 \n",
            " dense (Dense)               (None, 4)                 404       \n",
            "                                                                 \n",
            "=================================================================\n",
            "Total params: 81,104\n",
            "Trainable params: 81,104\n",
            "Non-trainable params: 0\n",
            "_________________________________________________________________\n"
          ]
        }
      ],
      "source": [
        "model = Sequential()\n",
        "model.add(Conv1D(activation=\"tanh\", input_shape=(len(x_data.columns),1), kernel_size=2, filters=100))\n",
        "model.add(MaxPooling1D(pool_size=2))\n",
        "model.add(LSTM(100, activation=\"tanh\", recurrent_activation=\"sigmoid\"))\n",
        "model.add(Dense(4, activation='softmax'))\n",
        "\n",
        "model.compile(loss='sparse_categorical_crossentropy', optimizer='adam', metrics=['accuracy'])\n",
        "model.summary()"
      ]
    },
    {
      "cell_type": "code",
      "execution_count": 10,
      "metadata": {
        "colab": {
          "base_uri": "https://localhost:8080/"
        },
        "id": "rAALlLZvl7Up",
        "outputId": "82595481-44de-4d4c-da36-7bad0fe5b3de"
      },
      "outputs": [
        {
          "output_type": "stream",
          "name": "stdout",
          "text": [
            "Epoch 1/6\n",
            "414237/414237 [==============================] - 1615s 4ms/step - loss: 0.0992 - accuracy: 0.9487\n",
            "Epoch 2/6\n",
            "414237/414237 [==============================] - 1537s 4ms/step - loss: 0.0832 - accuracy: 0.9560\n",
            "Epoch 3/6\n",
            "414237/414237 [==============================] - 1523s 4ms/step - loss: 0.0795 - accuracy: 0.9573\n",
            "Epoch 4/6\n",
            "414237/414237 [==============================] - 1511s 4ms/step - loss: 0.0773 - accuracy: 0.9584\n",
            "Epoch 5/6\n",
            "414237/414237 [==============================] - 1515s 4ms/step - loss: 0.0758 - accuracy: 0.9592\n",
            "Epoch 6/6\n",
            "414237/414237 [==============================] - 1520s 4ms/step - loss: 0.0749 - accuracy: 0.9598\n"
          ]
        },
        {
          "output_type": "execute_result",
          "data": {
            "text/plain": [
              "<keras.callbacks.History at 0x7ff17a41be10>"
            ]
          },
          "metadata": {},
          "execution_count": 10
        }
      ],
      "source": [
        "model.fit(train_x, train_y, batch_size=32, epochs=6)"
      ]
    },
    {
      "cell_type": "code",
      "execution_count": 12,
      "metadata": {
        "id": "BlPyKUHhl7_7",
        "outputId": "6da2e8bb-f268-4893-d02d-dcdd86224fa6",
        "colab": {
          "base_uri": "https://localhost:8080/"
        }
      },
      "outputs": [
        {
          "output_type": "stream",
          "name": "stdout",
          "text": [
            "103560/103560 [==============================] - 201s 2ms/step\n"
          ]
        }
      ],
      "source": [
        "pred = model.predict(test_x, verbose=1)\n",
        "pred_y = np.argmax(pred, axis=1)"
      ]
    },
    {
      "cell_type": "code",
      "source": [
        "confusion_matrix(test_y, pred_y)"
      ],
      "metadata": {
        "id": "_T3Py5kOjEHw",
        "outputId": "1e6dad57-0dba-422e-a082-a072640a1681",
        "colab": {
          "base_uri": "https://localhost:8080/"
        }
      },
      "execution_count": 13,
      "outputs": [
        {
          "output_type": "execute_result",
          "data": {
            "text/plain": [
              "array([[ 117727,       0,       0,       0],\n",
              "       [      0,   69100,   29102,       0],\n",
              "       [ 115522,    4528, 2727423,     437],\n",
              "       [      0,       0,       0,  250056]])"
            ]
          },
          "metadata": {},
          "execution_count": 13
        }
      ]
    },
    {
      "cell_type": "code",
      "source": [
        "report = classification_report(test_y, pred_y)\n",
        "print(report)"
      ],
      "metadata": {
        "id": "lgf6wNn-CVls",
        "outputId": "f8281c5b-efd8-4292-9c4c-f56f131cb382",
        "colab": {
          "base_uri": "https://localhost:8080/"
        }
      },
      "execution_count": 14,
      "outputs": [
        {
          "output_type": "stream",
          "name": "stdout",
          "text": [
            "              precision    recall  f1-score   support\n",
            "\n",
            "           0       0.50      1.00      0.67    117727\n",
            "           1       0.94      0.70      0.80     98202\n",
            "           2       0.99      0.96      0.97   2847910\n",
            "           3       1.00      1.00      1.00    250056\n",
            "\n",
            "    accuracy                           0.95   3313895\n",
            "   macro avg       0.86      0.92      0.86   3313895\n",
            "weighted avg       0.97      0.95      0.96   3313895\n",
            "\n"
          ]
        }
      ]
    }
  ],
  "metadata": {
    "accelerator": "GPU",
    "colab": {
      "provenance": [],
      "include_colab_link": true
    },
    "gpuClass": "standard",
    "kernelspec": {
      "display_name": "Python 3.10.4 64-bit",
      "language": "python",
      "name": "python3"
    },
    "language_info": {
      "name": "python",
      "version": "3.10.4"
    },
    "vscode": {
      "interpreter": {
        "hash": "759c5e0d3d88a894482aeabccbd08c19af37ecec916291e5ab4326292ca84839"
      }
    }
  },
  "nbformat": 4,
  "nbformat_minor": 0
}