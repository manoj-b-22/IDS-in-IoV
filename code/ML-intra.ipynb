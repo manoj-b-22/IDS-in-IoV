{
  "nbformat": 4,
  "nbformat_minor": 0,
  "metadata": {
    "colab": {
      "provenance": [],
      "authorship_tag": "ABX9TyNMsHLopQiUGmXeAtgrluWu",
      "include_colab_link": true
    },
    "kernelspec": {
      "name": "python3",
      "display_name": "Python 3"
    },
    "language_info": {
      "name": "python"
    }
  },
  "cells": [
    {
      "cell_type": "markdown",
      "metadata": {
        "id": "view-in-github",
        "colab_type": "text"
      },
      "source": [
        "<a href=\"https://colab.research.google.com/github/manoj-b-22/IDS-in-IoV/blob/main/code/ML-intra.ipynb\" target=\"_parent\"><img src=\"https://colab.research.google.com/assets/colab-badge.svg\" alt=\"Open In Colab\"/></a>"
      ]
    },
    {
      "cell_type": "code",
      "execution_count": null,
      "metadata": {
        "id": "rRW6l8VEP3Pv"
      },
      "outputs": [],
      "source": [
        "import numpy as np\n",
        "import pandas as pd\n",
        "from sklearn import svm\n",
        "from sklearn.neighbors import KNeighborsClassifier\n",
        "from sklearn.ensemble import RandomForestClassifier\n",
        "from sklearn.linear_model import LogisticRegression\n",
        "from sklearn.model_selection import train_test_split\n",
        "from sklearn.preprocessing import StandardScaler, LabelEncoder\n",
        "from sklearn.metrics import classification_report, confusion_matrix, accuracy_score"
      ]
    },
    {
      "cell_type": "code",
      "source": [
        "from google.colab import drive\n",
        "drive.mount('/content/drive')"
      ],
      "metadata": {
        "id": "nI5_zpQ1RSpD"
      },
      "execution_count": null,
      "outputs": []
    },
    {
      "cell_type": "code",
      "source": [
        "data = pd.read_csv('/content/drive/MyDrive/intravehicle.csv')"
      ],
      "metadata": {
        "id": "Nfic5L4vRVxL"
      },
      "execution_count": null,
      "outputs": []
    },
    {
      "cell_type": "code",
      "source": [
        "y_data = data.pop('4')\n",
        "x_data = data"
      ],
      "metadata": {
        "id": "uG2OqFNnRX5-"
      },
      "execution_count": null,
      "outputs": []
    },
    {
      "cell_type": "code",
      "source": [
        "train_x,test_x,train_y,test_y = train_test_split(x_data, y_data, test_size=0.2, random_state=0, shuffle=True) "
      ],
      "metadata": {
        "id": "5vqrictNRZmZ"
      },
      "execution_count": null,
      "outputs": []
    },
    {
      "cell_type": "code",
      "source": [
        "train_x = train_x.reset_index(drop=True)\n",
        "test_x = test_x.reset_index(drop=True) \n",
        "train_y = train_y.reset_index(drop=True)\n",
        "test_y = test_y.reset_index(drop=True)"
      ],
      "metadata": {
        "id": "8l5uZ48ERcfN"
      },
      "execution_count": null,
      "outputs": []
    },
    {
      "cell_type": "code",
      "source": [
        "scaler = StandardScaler()\n",
        "train_x = scaler.fit_transform(train_x)\n",
        "test_x = scaler.transform(test_x)"
      ],
      "metadata": {
        "id": "_xm3TaaJReHU"
      },
      "execution_count": null,
      "outputs": []
    },
    {
      "cell_type": "code",
      "source": [
        "encoder = LabelEncoder()\n",
        "train_y = encoder.fit_transform(train_y)\n",
        "test_y = encoder.transform(test_y)"
      ],
      "metadata": {
        "id": "KNFxg9XyRgCM"
      },
      "execution_count": null,
      "outputs": []
    },
    {
      "cell_type": "code",
      "source": [
        "def printReport(test_y,predict_y):\n",
        "  accuracy = accuracy_score(test_y, predict_y)\n",
        "  print('Accuracy: %.6f' % accuracy)\n",
        "  print()\n",
        "\n",
        "  # T up-down  F left-right\n",
        "  print('Confusion Matrix')                      #  TP FP\n",
        "  print(confusion_matrix(test_y, predict_y))      #  FN TN \n",
        "  print()\n",
        "  \n",
        "  print(classification_report(test_y, predict_y, digits=6))"
      ],
      "metadata": {
        "id": "ngD61TvCRDqY"
      },
      "execution_count": null,
      "outputs": []
    },
    {
      "cell_type": "code",
      "source": [
        "n=5\n",
        "classifier = KNeighborsClassifier(n_neighbors=n, metric='minkowski', algorithm='kd_tree', n_jobs=-1)\n",
        "classifier.fit(train_x,train_y)\n",
        "\n",
        "predict_y = classifier.predict(test_x)\n",
        "\n",
        "print('K-Nearest Neighbour Classifier\\n')\n",
        "printReport(test_y,predict_y)"
      ],
      "metadata": {
        "id": "nA49pmwgRy4J"
      },
      "execution_count": null,
      "outputs": []
    },
    {
      "cell_type": "code",
      "source": [
        "classifier = LogisticRegression(multi_class='multinomial', solver='sag', random_state=0, max_iter=1000, n_jobs=-1)\n",
        "classifier.fit(train_x,train_y)\n",
        "\n",
        "predict_y = classifier.predict(test_x)\n",
        "\n",
        "print('Logistic Regression\\n')\n",
        "printReport(test_y,predict_y)"
      ],
      "metadata": {
        "id": "OJFWV3oCR1SA"
      },
      "execution_count": null,
      "outputs": []
    },
    {
      "cell_type": "code",
      "source": [
        "model = RandomForestClassifier(random_state=0, n_jobs=-1)\n",
        "model.fit(train_x, train_y)\n",
        "\n",
        "predict_y = model.predict(test_x)\n",
        "\n",
        "print('Random Forest Classifier\\n')\n",
        "printReport(test_y,predict_y)"
      ],
      "metadata": {
        "id": "DzBFzKHjR7Zw"
      },
      "execution_count": null,
      "outputs": []
    },
    {
      "cell_type": "code",
      "source": [
        "classifier = svm.SVC(random_state=0, kernel='rbf', decision_function_shape='ovr')\n",
        "classifier.fit(train_x,train_y)\n",
        "\n",
        "predict_y = classifier.predict(test_x)\n",
        "\n",
        "print('Support Vector Machine\\n')\n",
        "printReport(test_y,predict_y)"
      ],
      "metadata": {
        "id": "m_-MeAbVSCuB"
      },
      "execution_count": null,
      "outputs": []
    }
  ]
}