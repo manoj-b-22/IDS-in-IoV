{
  "cells": [
    {
      "cell_type": "markdown",
      "metadata": {
        "id": "view-in-github",
        "colab_type": "text"
      },
      "source": [
        "<a href=\"https://colab.research.google.com/github/manoj-b-22/IDS-in-IoV/blob/main/code/Bi-LSTM-GRU-inter.ipynb\" target=\"_parent\"><img src=\"https://colab.research.google.com/assets/colab-badge.svg\" alt=\"Open In Colab\"/></a>"
      ]
    },
    {
      "cell_type": "code",
      "execution_count": 1,
      "metadata": {
        "id": "wNsltBIH6Eve"
      },
      "outputs": [],
      "source": [
        "import numpy as np\n",
        "import pandas as pd\n",
        "from keras.models import Sequential\n",
        "from keras.layers import LSTM, Dense, Bidirectional, GRU\n",
        "from sklearn.preprocessing import StandardScaler, LabelEncoder\n",
        "from sklearn.metrics import classification_report, confusion_matrix"
      ]
    },
    {
      "cell_type": "code",
      "execution_count": 2,
      "metadata": {
        "colab": {
          "base_uri": "https://localhost:8080/"
        },
        "id": "0LvvSzuf6Led",
        "outputId": "15108565-fe6b-46b4-be5d-52075db1e826"
      },
      "outputs": [
        {
          "output_type": "stream",
          "name": "stdout",
          "text": [
            "Drive already mounted at /content/drive; to attempt to forcibly remount, call drive.mount(\"/content/drive\", force_remount=True).\n"
          ]
        }
      ],
      "source": [
        "from google.colab import drive\n",
        "drive.mount('/content/drive')"
      ]
    },
    {
      "cell_type": "code",
      "execution_count": 3,
      "metadata": {
        "id": "NskDJRX3VV7I"
      },
      "outputs": [],
      "source": [
        "scaler = StandardScaler()\n",
        "encoder = LabelEncoder()"
      ]
    },
    {
      "cell_type": "code",
      "execution_count": 4,
      "metadata": {
        "id": "oNSWxJLW6Evj"
      },
      "outputs": [],
      "source": [
        "train = pd.read_csv('/content/drive/MyDrive/train-intervehicle.csv', chunksize=500000)\n",
        "test = pd.read_csv('/content/drive/MyDrive/test-intervehicle.csv')"
      ]
    },
    {
      "cell_type": "code",
      "execution_count": 5,
      "metadata": {
        "colab": {
          "base_uri": "https://localhost:8080/"
        },
        "id": "5Gu9qMvNVcd1",
        "outputId": "674259b4-9611-4a60-fe98-cbd691b39b05"
      },
      "outputs": [
        {
          "output_type": "stream",
          "name": "stdout",
          "text": [
            "Model: \"sequential\"\n",
            "_________________________________________________________________\n",
            " Layer (type)                Output Shape              Param #   \n",
            "=================================================================\n",
            " bidirectional (Bidirectiona  (None, 70, 200)          81600     \n",
            " l)                                                              \n",
            "                                                                 \n",
            " dense (Dense)               (None, 70, 100)           20100     \n",
            "                                                                 \n",
            " gru (GRU)                   (None, 100)               60600     \n",
            "                                                                 \n",
            " dense_1 (Dense)             (None, 1)                 101       \n",
            "                                                                 \n",
            "=================================================================\n",
            "Total params: 162,401\n",
            "Trainable params: 162,401\n",
            "Non-trainable params: 0\n",
            "_________________________________________________________________\n"
          ]
        }
      ],
      "source": [
        "model = Sequential()\n",
        "model.add(Bidirectional(LSTM(100, activation='tanh', recurrent_activation='sigmoid', go_backwards=True, return_sequences=True), input_shape=(len(test.columns)-1, 1)))\n",
        "model.add(Dense(100, activation='ReLU'))\n",
        "model.add(GRU(100, activation='tanh', recurrent_activation='sigmoid'))\n",
        "model.add(Dense(1, activation='sigmoid'))\n",
        "\n",
        "model.compile(loss='binary_crossentropy', optimizer='adam', metrics=['accuracy'])\n",
        "model.summary()"
      ]
    },
    {
      "cell_type": "code",
      "execution_count": 6,
      "metadata": {
        "colab": {
          "base_uri": "https://localhost:8080/"
        },
        "id": "gakwuCpLX7YK",
        "outputId": "b947e01c-c965-4b28-cf6d-a59e464e6989"
      },
      "outputs": [
        {
          "output_type": "stream",
          "name": "stdout",
          "text": [
            "15625/15625 [==============================] - 179s 11ms/step - loss: 0.0191 - accuracy: 0.9943\n",
            "15625/15625 [==============================] - 171s 11ms/step - loss: 0.0028 - accuracy: 0.9992\n",
            "15625/15625 [==============================] - 169s 11ms/step - loss: 0.0017 - accuracy: 0.9996\n",
            "15625/15625 [==============================] - 169s 11ms/step - loss: 9.4972e-04 - accuracy: 0.9997\n",
            "15625/15625 [==============================] - 168s 11ms/step - loss: 9.6969e-04 - accuracy: 0.9997\n",
            "15625/15625 [==============================] - 167s 11ms/step - loss: 8.0632e-04 - accuracy: 0.9998\n",
            "15625/15625 [==============================] - 165s 11ms/step - loss: 6.9599e-04 - accuracy: 0.9998\n",
            "15625/15625 [==============================] - 166s 11ms/step - loss: 7.3508e-04 - accuracy: 0.9998\n",
            "15625/15625 [==============================] - 166s 11ms/step - loss: 8.1367e-04 - accuracy: 0.9998\n",
            "15625/15625 [==============================] - 165s 11ms/step - loss: 7.0651e-04 - accuracy: 0.9998\n",
            "15625/15625 [==============================] - 166s 11ms/step - loss: 5.9987e-04 - accuracy: 0.9998\n",
            "15625/15625 [==============================] - 165s 11ms/step - loss: 6.6734e-04 - accuracy: 0.9998\n",
            "15625/15625 [==============================] - 166s 11ms/step - loss: 5.6292e-04 - accuracy: 0.9999\n",
            "15625/15625 [==============================] - 165s 11ms/step - loss: 5.5167e-04 - accuracy: 0.9999\n",
            "15625/15625 [==============================] - 164s 10ms/step - loss: 6.0980e-04 - accuracy: 0.9999\n",
            "15625/15625 [==============================] - 164s 10ms/step - loss: 4.7745e-04 - accuracy: 0.9999\n",
            "15625/15625 [==============================] - 166s 11ms/step - loss: 8.3525e-04 - accuracy: 0.9998\n",
            "15625/15625 [==============================] - 171s 11ms/step - loss: 4.8765e-04 - accuracy: 0.9999\n",
            "15625/15625 [==============================] - 166s 11ms/step - loss: 6.2021e-04 - accuracy: 0.9998\n",
            "15625/15625 [==============================] - 168s 11ms/step - loss: 5.1997e-04 - accuracy: 0.9998\n",
            "6161/6161 [==============================] - 66s 11ms/step - loss: 4.5377e-04 - accuracy: 0.9999\n"
          ]
        }
      ],
      "source": [
        "for chunk in train:\n",
        "  train_y = chunk.pop('Label')\n",
        "  train_x = chunk\n",
        "  train_x = scaler.fit_transform(train_x)\n",
        "  train_y = encoder.fit_transform(train_y)\n",
        "  model.fit(train_x, train_y, batch_size=32)"
      ]
    },
    {
      "cell_type": "code",
      "execution_count": 7,
      "metadata": {
        "id": "eBlpAi_i6Evj"
      },
      "outputs": [],
      "source": [
        "test_y = test.pop('Label')\n",
        "test_x = test"
      ]
    },
    {
      "cell_type": "code",
      "execution_count": 8,
      "metadata": {
        "id": "2n7h0UiD6Evl"
      },
      "outputs": [],
      "source": [
        "test_x = scaler.transform(test_x)\n",
        "test_y = encoder.transform(test_y)"
      ]
    },
    {
      "cell_type": "code",
      "execution_count": 9,
      "metadata": {
        "id": "d2ztO8vx6Evp",
        "outputId": "bbb40b66-0981-465f-b54b-2652573a4330",
        "colab": {
          "base_uri": "https://localhost:8080/"
        }
      },
      "outputs": [
        {
          "output_type": "stream",
          "name": "stdout",
          "text": [
            "79666/79666 [==============================] - 446s 6ms/step\n"
          ]
        }
      ],
      "source": [
        "pred = model.predict(test_x, verbose=1)\n",
        "pred_y = np.round(pred).astype(int)"
      ]
    },
    {
      "cell_type": "code",
      "source": [
        "confusion_matrix(test_y, pred_y)"
      ],
      "metadata": {
        "id": "j9wv7uf6gIYn",
        "outputId": "0b5a0d17-232a-4902-a9eb-99360998c386",
        "colab": {
          "base_uri": "https://localhost:8080/"
        }
      },
      "execution_count": 10,
      "outputs": [
        {
          "output_type": "execute_result",
          "data": {
            "text/plain": [
              "array([[1255561,     180],\n",
              "       [      3, 1293544]])"
            ]
          },
          "metadata": {},
          "execution_count": 10
        }
      ]
    },
    {
      "cell_type": "code",
      "source": [
        "report = classification_report(test_y, pred_y, digits=5)\n",
        "print(report)"
      ],
      "metadata": {
        "id": "wgGPMUTegKdL",
        "outputId": "9e5f0a6d-7509-400e-8885-7fc00813ee8a",
        "colab": {
          "base_uri": "https://localhost:8080/"
        }
      },
      "execution_count": 11,
      "outputs": [
        {
          "output_type": "stream",
          "name": "stdout",
          "text": [
            "              precision    recall  f1-score   support\n",
            "\n",
            "           0    1.00000   0.99986   0.99993   1255741\n",
            "           1    0.99986   1.00000   0.99993   1293547\n",
            "\n",
            "    accuracy                        0.99993   2549288\n",
            "   macro avg    0.99993   0.99993   0.99993   2549288\n",
            "weighted avg    0.99993   0.99993   0.99993   2549288\n",
            "\n"
          ]
        }
      ]
    }
  ],
  "metadata": {
    "accelerator": "GPU",
    "colab": {
      "name": "LSTM-inter.ipynb",
      "provenance": [],
      "include_colab_link": true
    },
    "gpuClass": "standard",
    "interpreter": {
      "hash": "759c5e0d3d88a894482aeabccbd08c19af37ecec916291e5ab4326292ca84839"
    },
    "kernelspec": {
      "display_name": "Python 3.10.4 64-bit",
      "language": "python",
      "name": "python3"
    },
    "language_info": {
      "codemirror_mode": {
        "name": "ipython",
        "version": 3
      },
      "file_extension": ".py",
      "mimetype": "text/x-python",
      "name": "python",
      "nbconvert_exporter": "python",
      "pygments_lexer": "ipython3",
      "version": "3.10.4"
    },
    "orig_nbformat": 4
  },
  "nbformat": 4,
  "nbformat_minor": 0
}