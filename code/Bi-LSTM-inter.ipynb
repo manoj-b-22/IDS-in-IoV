{
  "cells": [
    {
      "cell_type": "markdown",
      "metadata": {
        "id": "view-in-github",
        "colab_type": "text"
      },
      "source": [
        "<a href=\"https://colab.research.google.com/github/manoj-b-22/IDS-in-IoV/blob/main/code/Bi-LSTM-inter.ipynb\" target=\"_parent\"><img src=\"https://colab.research.google.com/assets/colab-badge.svg\" alt=\"Open In Colab\"/></a>"
      ]
    },
    {
      "cell_type": "code",
      "execution_count": 1,
      "metadata": {
        "id": "wNsltBIH6Eve"
      },
      "outputs": [],
      "source": [
        "import numpy as np\n",
        "import pandas as pd\n",
        "from keras.models import Sequential\n",
        "from keras.layers import LSTM, Dense, Bidirectional\n",
        "from sklearn.preprocessing import StandardScaler, LabelEncoder\n",
        "from sklearn.metrics import classification_report, confusion_matrix"
      ]
    },
    {
      "cell_type": "code",
      "execution_count": 2,
      "metadata": {
        "colab": {
          "base_uri": "https://localhost:8080/"
        },
        "id": "0LvvSzuf6Led",
        "outputId": "aba355b6-c8d1-4ad5-b634-e92761e4d460"
      },
      "outputs": [
        {
          "output_type": "stream",
          "name": "stdout",
          "text": [
            "Mounted at /content/drive\n"
          ]
        }
      ],
      "source": [
        "from google.colab import drive\n",
        "drive.mount('/content/drive')"
      ]
    },
    {
      "cell_type": "code",
      "execution_count": 3,
      "metadata": {
        "id": "NskDJRX3VV7I"
      },
      "outputs": [],
      "source": [
        "scaler = StandardScaler()\n",
        "encoder = LabelEncoder()"
      ]
    },
    {
      "cell_type": "code",
      "execution_count": 4,
      "metadata": {
        "id": "oNSWxJLW6Evj"
      },
      "outputs": [],
      "source": [
        "train = pd.read_csv('/content/drive/MyDrive/train-intervehicle.csv', chunksize=500000)\n",
        "test = pd.read_csv('/content/drive/MyDrive/test-intervehicle.csv')"
      ]
    },
    {
      "cell_type": "code",
      "execution_count": 5,
      "metadata": {
        "colab": {
          "base_uri": "https://localhost:8080/"
        },
        "id": "5Gu9qMvNVcd1",
        "outputId": "54e66bd0-56d8-41b8-952a-afc856da9413"
      },
      "outputs": [
        {
          "output_type": "stream",
          "name": "stdout",
          "text": [
            "Model: \"sequential\"\n",
            "_________________________________________________________________\n",
            " Layer (type)                Output Shape              Param #   \n",
            "=================================================================\n",
            " bidirectional (Bidirectiona  (None, 200)              81600     \n",
            " l)                                                              \n",
            "                                                                 \n",
            " dense (Dense)               (None, 1)                 201       \n",
            "                                                                 \n",
            "=================================================================\n",
            "Total params: 81,801\n",
            "Trainable params: 81,801\n",
            "Non-trainable params: 0\n",
            "_________________________________________________________________\n"
          ]
        }
      ],
      "source": [
        "model = Sequential()\n",
        "model.add(Bidirectional(LSTM(100, activation='tanh', recurrent_activation='sigmoid', go_backwards=True), input_shape=(len(test.columns)-1, 1)))\n",
        "model.add(Dense(1, activation='sigmoid'))\n",
        "\n",
        "model.compile(loss='binary_crossentropy', optimizer='adam', metrics=['accuracy'])\n",
        "model.summary()"
      ]
    },
    {
      "cell_type": "code",
      "execution_count": 6,
      "metadata": {
        "colab": {
          "base_uri": "https://localhost:8080/"
        },
        "id": "gakwuCpLX7YK",
        "outputId": "8ecd1f0d-3d15-4934-c475-a229b7c103cc"
      },
      "outputs": [
        {
          "output_type": "stream",
          "name": "stdout",
          "text": [
            "15625/15625 [==============================] - 136s 8ms/step - loss: 0.0116 - accuracy: 0.9961\n",
            "15625/15625 [==============================] - 129s 8ms/step - loss: 0.0023 - accuracy: 0.9994\n",
            "15625/15625 [==============================] - 128s 8ms/step - loss: 9.3400e-04 - accuracy: 0.9998\n",
            "15625/15625 [==============================] - 128s 8ms/step - loss: 6.1559e-04 - accuracy: 0.9998\n",
            "15625/15625 [==============================] - 131s 8ms/step - loss: 6.0799e-04 - accuracy: 0.9998\n",
            "15625/15625 [==============================] - 128s 8ms/step - loss: 5.7647e-04 - accuracy: 0.9998\n",
            "15625/15625 [==============================] - 130s 8ms/step - loss: 3.4367e-04 - accuracy: 0.9999\n",
            "15625/15625 [==============================] - 126s 8ms/step - loss: 4.3043e-04 - accuracy: 0.9999\n",
            "15625/15625 [==============================] - 130s 8ms/step - loss: 4.1932e-04 - accuracy: 0.9999\n",
            "15625/15625 [==============================] - 125s 8ms/step - loss: 4.4222e-04 - accuracy: 0.9999\n",
            "15625/15625 [==============================] - 130s 8ms/step - loss: 4.3624e-04 - accuracy: 0.9999\n",
            "15625/15625 [==============================] - 125s 8ms/step - loss: 3.4889e-04 - accuracy: 0.9999\n",
            "15625/15625 [==============================] - 130s 8ms/step - loss: 3.4567e-04 - accuracy: 0.9999\n",
            "15625/15625 [==============================] - 128s 8ms/step - loss: 2.8904e-04 - accuracy: 0.9999\n",
            "15625/15625 [==============================] - 133s 9ms/step - loss: 3.5665e-04 - accuracy: 0.9999\n",
            "15625/15625 [==============================] - 129s 8ms/step - loss: 2.3495e-04 - accuracy: 0.9999\n",
            "15625/15625 [==============================] - 129s 8ms/step - loss: 4.2033e-04 - accuracy: 0.9999\n",
            "15625/15625 [==============================] - 129s 8ms/step - loss: 3.5885e-04 - accuracy: 0.9999\n",
            "15625/15625 [==============================] - 127s 8ms/step - loss: 2.5525e-04 - accuracy: 0.9999\n",
            "15625/15625 [==============================] - 131s 8ms/step - loss: 3.6791e-04 - accuracy: 0.9999\n",
            "6161/6161 [==============================] - 49s 8ms/step - loss: 2.7918e-04 - accuracy: 0.9999\n"
          ]
        }
      ],
      "source": [
        "for chunk in train:\n",
        "  train_y = chunk.pop('Label')\n",
        "  train_x = chunk\n",
        "  train_x = scaler.fit_transform(train_x)\n",
        "  train_y = encoder.fit_transform(train_y)\n",
        "  model.fit(train_x, train_y, batch_size=32)"
      ]
    },
    {
      "cell_type": "code",
      "execution_count": 7,
      "metadata": {
        "id": "eBlpAi_i6Evj"
      },
      "outputs": [],
      "source": [
        "test_y = test.pop('Label')\n",
        "test_x = test"
      ]
    },
    {
      "cell_type": "code",
      "execution_count": 8,
      "metadata": {
        "id": "2n7h0UiD6Evl"
      },
      "outputs": [],
      "source": [
        "test_x = scaler.transform(test_x)\n",
        "test_y = encoder.transform(test_y)"
      ]
    },
    {
      "cell_type": "code",
      "execution_count": 9,
      "metadata": {
        "id": "d2ztO8vx6Evp",
        "outputId": "dbee3d0a-3ad2-4a58-ae1b-92b346835644",
        "colab": {
          "base_uri": "https://localhost:8080/"
        }
      },
      "outputs": [
        {
          "output_type": "stream",
          "name": "stdout",
          "text": [
            "79666/79666 [==============================] - 306s 4ms/step\n"
          ]
        }
      ],
      "source": [
        "pred = model.predict(test_x, verbose=1)\n",
        "pred_y = np.round(pred).astype(int)"
      ]
    },
    {
      "cell_type": "code",
      "source": [
        "confusion_matrix(test_y, pred_y)"
      ],
      "metadata": {
        "id": "j9wv7uf6gIYn",
        "outputId": "092183e4-4c3a-4e94-a23d-5fa99eb4a69e",
        "colab": {
          "base_uri": "https://localhost:8080/"
        }
      },
      "execution_count": 10,
      "outputs": [
        {
          "output_type": "execute_result",
          "data": {
            "text/plain": [
              "array([[1255551,     190],\n",
              "       [      2, 1293545]])"
            ]
          },
          "metadata": {},
          "execution_count": 10
        }
      ]
    },
    {
      "cell_type": "code",
      "source": [
        "report = classification_report(test_y, pred_y, digits=5)\n",
        "print(report)"
      ],
      "metadata": {
        "id": "wgGPMUTegKdL",
        "outputId": "2c2a6df1-3ff7-4ffc-edf1-d88f13c60c1d",
        "colab": {
          "base_uri": "https://localhost:8080/"
        }
      },
      "execution_count": 11,
      "outputs": [
        {
          "output_type": "stream",
          "name": "stdout",
          "text": [
            "              precision    recall  f1-score   support\n",
            "\n",
            "           0    1.00000   0.99985   0.99992   1255741\n",
            "           1    0.99985   1.00000   0.99993   1293547\n",
            "\n",
            "    accuracy                        0.99992   2549288\n",
            "   macro avg    0.99993   0.99992   0.99992   2549288\n",
            "weighted avg    0.99992   0.99992   0.99992   2549288\n",
            "\n"
          ]
        }
      ]
    }
  ],
  "metadata": {
    "accelerator": "GPU",
    "colab": {
      "name": "LSTM-inter.ipynb",
      "provenance": [],
      "include_colab_link": true
    },
    "gpuClass": "standard",
    "interpreter": {
      "hash": "759c5e0d3d88a894482aeabccbd08c19af37ecec916291e5ab4326292ca84839"
    },
    "kernelspec": {
      "display_name": "Python 3.10.4 64-bit",
      "language": "python",
      "name": "python3"
    },
    "language_info": {
      "codemirror_mode": {
        "name": "ipython",
        "version": 3
      },
      "file_extension": ".py",
      "mimetype": "text/x-python",
      "name": "python",
      "nbconvert_exporter": "python",
      "pygments_lexer": "ipython3",
      "version": "3.10.4"
    },
    "orig_nbformat": 4
  },
  "nbformat": 4,
  "nbformat_minor": 0
}