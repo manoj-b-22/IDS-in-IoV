{
  "cells": [
    {
      "cell_type": "markdown",
      "metadata": {
        "id": "view-in-github",
        "colab_type": "text"
      },
      "source": [
        "<a href=\"https://colab.research.google.com/github/manoj-b-22/IDS-in-IoV/blob/main/code/Bi-LSTM-MLP-inter.ipynb\" target=\"_parent\"><img src=\"https://colab.research.google.com/assets/colab-badge.svg\" alt=\"Open In Colab\"/></a>"
      ]
    },
    {
      "cell_type": "code",
      "execution_count": 1,
      "metadata": {
        "id": "wNsltBIH6Eve"
      },
      "outputs": [],
      "source": [
        "import numpy as np\n",
        "import pandas as pd\n",
        "from keras.models import Sequential\n",
        "from keras.layers import LSTM, Dense, Bidirectional, Dropout, Flatten\n",
        "from sklearn.preprocessing import StandardScaler, LabelEncoder\n",
        "from sklearn.metrics import classification_report, confusion_matrix"
      ]
    },
    {
      "cell_type": "code",
      "execution_count": 2,
      "metadata": {
        "colab": {
          "base_uri": "https://localhost:8080/"
        },
        "id": "0LvvSzuf6Led",
        "outputId": "911dad77-ac36-4af4-ed93-43877d2de28c"
      },
      "outputs": [
        {
          "output_type": "stream",
          "name": "stdout",
          "text": [
            "Drive already mounted at /content/drive; to attempt to forcibly remount, call drive.mount(\"/content/drive\", force_remount=True).\n"
          ]
        }
      ],
      "source": [
        "from google.colab import drive\n",
        "drive.mount('/content/drive')"
      ]
    },
    {
      "cell_type": "code",
      "execution_count": 3,
      "metadata": {
        "id": "NskDJRX3VV7I"
      },
      "outputs": [],
      "source": [
        "scaler = StandardScaler()\n",
        "encoder = LabelEncoder()"
      ]
    },
    {
      "cell_type": "code",
      "execution_count": 4,
      "metadata": {
        "id": "oNSWxJLW6Evj"
      },
      "outputs": [],
      "source": [
        "train = pd.read_csv('/content/drive/MyDrive/train-intervehicle.csv', chunksize=500000)\n",
        "test = pd.read_csv('/content/drive/MyDrive/test-intervehicle.csv')"
      ]
    },
    {
      "cell_type": "code",
      "execution_count": 5,
      "metadata": {
        "colab": {
          "base_uri": "https://localhost:8080/"
        },
        "id": "5Gu9qMvNVcd1",
        "outputId": "69c788b4-16d8-479f-fd00-12f819f27f8f"
      },
      "outputs": [
        {
          "output_type": "stream",
          "name": "stdout",
          "text": [
            "Model: \"sequential\"\n",
            "_________________________________________________________________\n",
            " Layer (type)                Output Shape              Param #   \n",
            "=================================================================\n",
            " bidirectional (Bidirectiona  (None, 70, 200)          81600     \n",
            " l)                                                              \n",
            "                                                                 \n",
            " dense (Dense)               (None, 70, 20)            4020      \n",
            "                                                                 \n",
            " dropout (Dropout)           (None, 70, 20)            0         \n",
            "                                                                 \n",
            " dense_1 (Dense)             (None, 70, 10)            210       \n",
            "                                                                 \n",
            " flatten (Flatten)           (None, 700)               0         \n",
            "                                                                 \n",
            " dense_2 (Dense)             (None, 1)                 701       \n",
            "                                                                 \n",
            "=================================================================\n",
            "Total params: 86,531\n",
            "Trainable params: 86,531\n",
            "Non-trainable params: 0\n",
            "_________________________________________________________________\n"
          ]
        }
      ],
      "source": [
        "model = Sequential()\n",
        "model.add(Bidirectional(LSTM(100, activation='tanh', recurrent_activation='sigmoid', return_sequences=True, go_backwards=True), input_shape=(len(test.columns)-1, 1)))\n",
        "model.add(Dense(20, activation='ReLU'))\n",
        "model.add(Dropout(0.2))\n",
        "model.add(Dense(10, activation='ReLU'))\n",
        "model.add(Flatten())\n",
        "model.add(Dense(1, activation='sigmoid'))\n",
        "\n",
        "model.compile(loss='binary_crossentropy', optimizer='adam', metrics=['accuracy'])\n",
        "model.summary()"
      ]
    },
    {
      "cell_type": "code",
      "execution_count": 6,
      "metadata": {
        "colab": {
          "base_uri": "https://localhost:8080/"
        },
        "id": "gakwuCpLX7YK",
        "outputId": "8948687f-048a-4d36-8ffb-246ed4dd682b"
      },
      "outputs": [
        {
          "output_type": "stream",
          "name": "stdout",
          "text": [
            "15625/15625 [==============================] - 172s 11ms/step - loss: 0.0151 - accuracy: 0.9951\n",
            "15625/15625 [==============================] - 166s 11ms/step - loss: 0.0011 - accuracy: 0.9997\n",
            "15625/15625 [==============================] - 164s 10ms/step - loss: 6.0721e-04 - accuracy: 0.9998\n",
            "15625/15625 [==============================] - 162s 10ms/step - loss: 5.2684e-04 - accuracy: 0.9998\n",
            "15625/15625 [==============================] - 161s 10ms/step - loss: 5.8024e-04 - accuracy: 0.9999\n",
            "15625/15625 [==============================] - 159s 10ms/step - loss: 3.9229e-04 - accuracy: 0.9999\n",
            "15625/15625 [==============================] - 156s 10ms/step - loss: 3.7537e-04 - accuracy: 0.9999\n",
            "15625/15625 [==============================] - 156s 10ms/step - loss: 3.7101e-04 - accuracy: 0.9999\n",
            "15625/15625 [==============================] - 155s 10ms/step - loss: 3.4905e-04 - accuracy: 0.9999\n",
            "15625/15625 [==============================] - 133s 9ms/step - loss: 3.0359e-04 - accuracy: 0.9999\n",
            "15625/15625 [==============================] - 132s 8ms/step - loss: 3.5770e-04 - accuracy: 0.9999\n",
            "15625/15625 [==============================] - 131s 8ms/step - loss: 3.1654e-04 - accuracy: 0.9999\n",
            "15625/15625 [==============================] - 140s 9ms/step - loss: 2.8368e-04 - accuracy: 0.9999\n",
            "15625/15625 [==============================] - 132s 8ms/step - loss: 2.6421e-04 - accuracy: 0.9999\n",
            "15625/15625 [==============================] - 131s 8ms/step - loss: 2.9912e-04 - accuracy: 0.9999\n",
            "15625/15625 [==============================] - 133s 8ms/step - loss: 2.6003e-04 - accuracy: 0.9999\n",
            "15625/15625 [==============================] - 132s 8ms/step - loss: 2.5470e-04 - accuracy: 0.9999\n",
            "15625/15625 [==============================] - 131s 8ms/step - loss: 2.3366e-04 - accuracy: 0.9999\n",
            "15625/15625 [==============================] - 130s 8ms/step - loss: 3.4655e-04 - accuracy: 0.9999\n",
            "15625/15625 [==============================] - 131s 8ms/step - loss: 2.5863e-04 - accuracy: 0.9999\n",
            "6161/6161 [==============================] - 51s 8ms/step - loss: 3.7101e-04 - accuracy: 0.9999\n"
          ]
        }
      ],
      "source": [
        "for chunk in train:\n",
        "  train_y = chunk.pop('Label')\n",
        "  train_x = chunk\n",
        "  train_x = scaler.fit_transform(train_x)\n",
        "  train_y = encoder.fit_transform(train_y)\n",
        "  model.fit(train_x, train_y, batch_size=32)"
      ]
    },
    {
      "cell_type": "code",
      "execution_count": 7,
      "metadata": {
        "id": "eBlpAi_i6Evj"
      },
      "outputs": [],
      "source": [
        "test_y = test.pop('Label')\n",
        "test_x = test"
      ]
    },
    {
      "cell_type": "code",
      "execution_count": 8,
      "metadata": {
        "id": "2n7h0UiD6Evl"
      },
      "outputs": [],
      "source": [
        "test_x = scaler.transform(test_x)\n",
        "test_y = encoder.transform(test_y)"
      ]
    },
    {
      "cell_type": "code",
      "execution_count": 9,
      "metadata": {
        "id": "d2ztO8vx6Evp",
        "outputId": "233dab77-b55f-4f9c-f16a-89a4af3fbc88",
        "colab": {
          "base_uri": "https://localhost:8080/"
        }
      },
      "outputs": [
        {
          "output_type": "stream",
          "name": "stdout",
          "text": [
            "79666/79666 [==============================] - 406s 5ms/step\n"
          ]
        }
      ],
      "source": [
        "pred = model.predict(test_x, verbose=1)\n",
        "pred_y = np.round(pred).astype(int)"
      ]
    },
    {
      "cell_type": "code",
      "source": [
        "confusion_matrix(test_y, pred_y)"
      ],
      "metadata": {
        "id": "j9wv7uf6gIYn",
        "outputId": "825746bc-641f-42ed-9e26-f68ce30d7cf9",
        "colab": {
          "base_uri": "https://localhost:8080/"
        }
      },
      "execution_count": 10,
      "outputs": [
        {
          "output_type": "execute_result",
          "data": {
            "text/plain": [
              "array([[1255621,     120],\n",
              "       [     23, 1293524]])"
            ]
          },
          "metadata": {},
          "execution_count": 10
        }
      ]
    },
    {
      "cell_type": "code",
      "source": [
        "report = classification_report(test_y, pred_y, digits=5)\n",
        "print(report)"
      ],
      "metadata": {
        "id": "wgGPMUTegKdL",
        "outputId": "9f943a4d-ef13-416d-a676-5cff9238a915",
        "colab": {
          "base_uri": "https://localhost:8080/"
        }
      },
      "execution_count": 11,
      "outputs": [
        {
          "output_type": "stream",
          "name": "stdout",
          "text": [
            "              precision    recall  f1-score   support\n",
            "\n",
            "           0    0.99998   0.99990   0.99994   1255741\n",
            "           1    0.99991   0.99998   0.99994   1293547\n",
            "\n",
            "    accuracy                        0.99994   2549288\n",
            "   macro avg    0.99994   0.99994   0.99994   2549288\n",
            "weighted avg    0.99994   0.99994   0.99994   2549288\n",
            "\n"
          ]
        }
      ]
    }
  ],
  "metadata": {
    "accelerator": "GPU",
    "colab": {
      "name": "LSTM-inter.ipynb",
      "provenance": [],
      "include_colab_link": true
    },
    "gpuClass": "standard",
    "interpreter": {
      "hash": "759c5e0d3d88a894482aeabccbd08c19af37ecec916291e5ab4326292ca84839"
    },
    "kernelspec": {
      "display_name": "Python 3.10.4 64-bit",
      "language": "python",
      "name": "python3"
    },
    "language_info": {
      "codemirror_mode": {
        "name": "ipython",
        "version": 3
      },
      "file_extension": ".py",
      "mimetype": "text/x-python",
      "name": "python",
      "nbconvert_exporter": "python",
      "pygments_lexer": "ipython3",
      "version": "3.10.4"
    },
    "orig_nbformat": 4
  },
  "nbformat": 4,
  "nbformat_minor": 0
}