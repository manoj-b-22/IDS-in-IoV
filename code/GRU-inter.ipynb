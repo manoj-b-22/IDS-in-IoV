{
  "cells": [
    {
      "cell_type": "markdown",
      "metadata": {
        "id": "view-in-github",
        "colab_type": "text"
      },
      "source": [
        "<a href=\"https://colab.research.google.com/github/manoj-b-22/IDS-in-IoV/blob/main/code/GRU-inter.ipynb\" target=\"_parent\"><img src=\"https://colab.research.google.com/assets/colab-badge.svg\" alt=\"Open In Colab\"/></a>"
      ]
    },
    {
      "cell_type": "code",
      "execution_count": 1,
      "metadata": {
        "id": "wNsltBIH6Eve"
      },
      "outputs": [],
      "source": [
        "import numpy as np\n",
        "import pandas as pd\n",
        "from keras.models import Sequential\n",
        "from keras.layers import GRU, Dense\n",
        "from sklearn.preprocessing import StandardScaler, LabelEncoder\n",
        "from sklearn.metrics import classification_report, confusion_matrix"
      ]
    },
    {
      "cell_type": "code",
      "execution_count": 2,
      "metadata": {
        "colab": {
          "base_uri": "https://localhost:8080/"
        },
        "id": "0LvvSzuf6Led",
        "outputId": "5ff0def8-f275-4257-f52a-bcb21c6d52e6"
      },
      "outputs": [
        {
          "output_type": "stream",
          "name": "stdout",
          "text": [
            "Drive already mounted at /content/drive; to attempt to forcibly remount, call drive.mount(\"/content/drive\", force_remount=True).\n"
          ]
        }
      ],
      "source": [
        "from google.colab import drive\n",
        "drive.mount('/content/drive')"
      ]
    },
    {
      "cell_type": "code",
      "execution_count": 3,
      "metadata": {
        "id": "NskDJRX3VV7I"
      },
      "outputs": [],
      "source": [
        "scaler = StandardScaler()\n",
        "encoder = LabelEncoder()"
      ]
    },
    {
      "cell_type": "code",
      "execution_count": 4,
      "metadata": {
        "id": "oNSWxJLW6Evj"
      },
      "outputs": [],
      "source": [
        "train = pd.read_csv('/content/drive/MyDrive/train-intervehicle.csv',chunksize=500000)\n",
        "test = pd.read_csv('/content/drive/MyDrive/test-intervehicle.csv')"
      ]
    },
    {
      "cell_type": "code",
      "execution_count": 5,
      "metadata": {
        "colab": {
          "base_uri": "https://localhost:8080/"
        },
        "id": "5Gu9qMvNVcd1",
        "outputId": "7d4dc940-ae3d-40fe-d104-8b89ab82a369"
      },
      "outputs": [
        {
          "output_type": "stream",
          "name": "stdout",
          "text": [
            "Model: \"sequential\"\n",
            "_________________________________________________________________\n",
            " Layer (type)                Output Shape              Param #   \n",
            "=================================================================\n",
            " gru (GRU)                   (None, 100)               30900     \n",
            "                                                                 \n",
            " dense (Dense)               (None, 1)                 101       \n",
            "                                                                 \n",
            "=================================================================\n",
            "Total params: 31,001\n",
            "Trainable params: 31,001\n",
            "Non-trainable params: 0\n",
            "_________________________________________________________________\n"
          ]
        }
      ],
      "source": [
        "model = Sequential()\n",
        "model.add(GRU(100, input_shape=(len(test.columns)-1, 1), activation='tanh', recurrent_activation='sigmoid'))\n",
        "model.add(Dense(1, activation='sigmoid'))\n",
        "model.compile(loss='binary_crossentropy', optimizer='adam', metrics=['accuracy'])\n",
        "model.summary()"
      ]
    },
    {
      "cell_type": "code",
      "execution_count": 6,
      "metadata": {
        "colab": {
          "base_uri": "https://localhost:8080/"
        },
        "id": "gakwuCpLX7YK",
        "outputId": "c977ea39-0fdb-4ad5-f757-0683f9eae874"
      },
      "outputs": [
        {
          "output_type": "stream",
          "name": "stdout",
          "text": [
            "15625/15625 [==============================] - 87s 5ms/step - loss: 0.0424 - accuracy: 0.9865\n",
            "15625/15625 [==============================] - 80s 5ms/step - loss: 0.0056 - accuracy: 0.9982\n",
            "15625/15625 [==============================] - 79s 5ms/step - loss: 0.0011 - accuracy: 0.9997\n",
            "15625/15625 [==============================] - 81s 5ms/step - loss: 7.5596e-04 - accuracy: 0.9998\n",
            "15625/15625 [==============================] - 79s 5ms/step - loss: 7.1341e-04 - accuracy: 0.9998\n",
            "15625/15625 [==============================] - 79s 5ms/step - loss: 6.6850e-04 - accuracy: 0.9998\n",
            "15625/15625 [==============================] - 80s 5ms/step - loss: 5.2124e-04 - accuracy: 0.9999\n",
            "15625/15625 [==============================] - 79s 5ms/step - loss: 4.0528e-04 - accuracy: 0.9999\n",
            "15625/15625 [==============================] - 80s 5ms/step - loss: 5.9636e-04 - accuracy: 0.9999\n",
            "15625/15625 [==============================] - 80s 5ms/step - loss: 4.1783e-04 - accuracy: 0.9999\n",
            "15625/15625 [==============================] - 80s 5ms/step - loss: 4.0749e-04 - accuracy: 0.9999\n",
            "15625/15625 [==============================] - 78s 5ms/step - loss: 3.6593e-04 - accuracy: 0.9999\n",
            "15625/15625 [==============================] - 79s 5ms/step - loss: 4.4193e-04 - accuracy: 0.9999\n",
            "15625/15625 [==============================] - 82s 5ms/step - loss: 3.6054e-04 - accuracy: 0.9999\n",
            "15625/15625 [==============================] - 79s 5ms/step - loss: 3.9348e-04 - accuracy: 0.9999\n",
            "15625/15625 [==============================] - 79s 5ms/step - loss: 2.9538e-04 - accuracy: 0.9999\n",
            "15625/15625 [==============================] - 84s 5ms/step - loss: 3.0792e-04 - accuracy: 0.9999\n",
            "15625/15625 [==============================] - 81s 5ms/step - loss: 3.2107e-04 - accuracy: 0.9999\n",
            "15625/15625 [==============================] - 79s 5ms/step - loss: 3.6217e-04 - accuracy: 0.9999\n",
            "15625/15625 [==============================] - 79s 5ms/step - loss: 0.0011 - accuracy: 0.9998\n",
            "6161/6161 [==============================] - 31s 5ms/step - loss: 3.7144e-04 - accuracy: 0.9999\n"
          ]
        }
      ],
      "source": [
        "for chunk in train:\n",
        "  train_y = chunk.pop('Label')\n",
        "  train_x = chunk\n",
        "  train_x = scaler.fit_transform(train_x)\n",
        "  train_y = encoder.fit_transform(train_y)\n",
        "  model.fit(train_x, train_y, batch_size=32)"
      ]
    },
    {
      "cell_type": "code",
      "execution_count": 7,
      "metadata": {
        "id": "eBlpAi_i6Evj"
      },
      "outputs": [],
      "source": [
        "test_y = test.pop('Label')\n",
        "test_x = test"
      ]
    },
    {
      "cell_type": "code",
      "execution_count": 8,
      "metadata": {
        "id": "2n7h0UiD6Evl"
      },
      "outputs": [],
      "source": [
        "test_x = scaler.transform(test_x)\n",
        "test_y = encoder.transform(test_y)"
      ]
    },
    {
      "cell_type": "code",
      "execution_count": 9,
      "metadata": {
        "colab": {
          "base_uri": "https://localhost:8080/"
        },
        "id": "d2ztO8vx6Evp",
        "outputId": "4c364c12-1ba0-4f7c-de41-88795d2d3aab"
      },
      "outputs": [
        {
          "output_type": "stream",
          "name": "stdout",
          "text": [
            "79666/79666 [==============================] - 202s 3ms/step\n"
          ]
        }
      ],
      "source": [
        "pred = model.predict(test_x, verbose=1)\n",
        "pred_y = np.round(pred).astype(int)"
      ]
    },
    {
      "cell_type": "code",
      "source": [
        "confusion_matrix(test_y, pred_y)"
      ],
      "metadata": {
        "id": "Q8N137k8T2iT",
        "outputId": "2a264537-f13d-4d76-e981-5faf5c641170",
        "colab": {
          "base_uri": "https://localhost:8080/"
        }
      },
      "execution_count": 10,
      "outputs": [
        {
          "output_type": "execute_result",
          "data": {
            "text/plain": [
              "array([[1255525,     216],\n",
              "       [    999, 1292548]])"
            ]
          },
          "metadata": {},
          "execution_count": 10
        }
      ]
    },
    {
      "cell_type": "code",
      "source": [
        "report = classification_report(test_y, pred_y, digits=5)\n",
        "print(report)"
      ],
      "metadata": {
        "id": "Ke-s-wzmT6YI",
        "outputId": "3248e0d9-0f40-4697-933b-816f0e1f7936",
        "colab": {
          "base_uri": "https://localhost:8080/"
        }
      },
      "execution_count": 11,
      "outputs": [
        {
          "output_type": "stream",
          "name": "stdout",
          "text": [
            "              precision    recall  f1-score   support\n",
            "\n",
            "           0    0.99920   0.99983   0.99952   1255741\n",
            "           1    0.99983   0.99923   0.99953   1293547\n",
            "\n",
            "    accuracy                        0.99952   2549288\n",
            "   macro avg    0.99952   0.99953   0.99952   2549288\n",
            "weighted avg    0.99952   0.99952   0.99952   2549288\n",
            "\n"
          ]
        }
      ]
    }
  ],
  "metadata": {
    "accelerator": "GPU",
    "colab": {
      "name": "GRU-inter.ipynb",
      "provenance": [],
      "include_colab_link": true
    },
    "gpuClass": "standard",
    "interpreter": {
      "hash": "759c5e0d3d88a894482aeabccbd08c19af37ecec916291e5ab4326292ca84839"
    },
    "kernelspec": {
      "display_name": "Python 3.10.4 64-bit",
      "language": "python",
      "name": "python3"
    },
    "language_info": {
      "codemirror_mode": {
        "name": "ipython",
        "version": 3
      },
      "file_extension": ".py",
      "mimetype": "text/x-python",
      "name": "python",
      "nbconvert_exporter": "python",
      "pygments_lexer": "ipython3",
      "version": "3.10.4"
    },
    "orig_nbformat": 4
  },
  "nbformat": 4,
  "nbformat_minor": 0
}