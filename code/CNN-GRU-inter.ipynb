{
  "cells": [
    {
      "cell_type": "markdown",
      "metadata": {
        "id": "view-in-github",
        "colab_type": "text"
      },
      "source": [
        "<a href=\"https://colab.research.google.com/github/manoj-b-22/IDS-in-IoV/blob/main/code/CNN-GRU-inter.ipynb\" target=\"_parent\"><img src=\"https://colab.research.google.com/assets/colab-badge.svg\" alt=\"Open In Colab\"/></a>"
      ]
    },
    {
      "cell_type": "code",
      "execution_count": 1,
      "metadata": {
        "id": "3epWbgwvlMSF"
      },
      "outputs": [],
      "source": [
        "import numpy as np\n",
        "import pandas as pd\n",
        "from keras.models import Sequential\n",
        "from keras.layers import Conv1D, Dense, MaxPooling1D, GRU, Dropout\n",
        "from sklearn.preprocessing import StandardScaler, LabelEncoder\n",
        "from sklearn.metrics import classification_report, confusion_matrix"
      ]
    },
    {
      "cell_type": "code",
      "execution_count": 2,
      "metadata": {
        "id": "85GJLXzqlrAD",
        "colab": {
          "base_uri": "https://localhost:8080/"
        },
        "outputId": "3ec86a42-4e69-4549-e0ce-eb3bad3c6f53"
      },
      "outputs": [
        {
          "output_type": "stream",
          "name": "stdout",
          "text": [
            "Mounted at /content/drive\n"
          ]
        }
      ],
      "source": [
        "from google.colab import drive\n",
        "drive.mount('/content/drive')"
      ]
    },
    {
      "cell_type": "code",
      "source": [
        "scaler = StandardScaler()\n",
        "encoder = LabelEncoder()"
      ],
      "metadata": {
        "id": "HD7IPjfvRBti"
      },
      "execution_count": 3,
      "outputs": []
    },
    {
      "cell_type": "code",
      "execution_count": 4,
      "metadata": {
        "id": "IlmUXwnGltAy"
      },
      "outputs": [],
      "source": [
        "train = pd.read_csv('/content/drive/MyDrive/train-intervehicle.csv', chunksize=500000)\n",
        "test = pd.read_csv('/content/drive/MyDrive/test-intervehicle.csv')"
      ]
    },
    {
      "cell_type": "code",
      "execution_count": 5,
      "metadata": {
        "id": "PjxsFHrLl5Dx",
        "colab": {
          "base_uri": "https://localhost:8080/"
        },
        "outputId": "c6f11caa-bde1-4d95-ef4a-45c80399ec03"
      },
      "outputs": [
        {
          "output_type": "stream",
          "name": "stdout",
          "text": [
            "Model: \"sequential\"\n",
            "_________________________________________________________________\n",
            " Layer (type)                Output Shape              Param #   \n",
            "=================================================================\n",
            " conv1d (Conv1D)             (None, 69, 16)            48        \n",
            "                                                                 \n",
            " max_pooling1d (MaxPooling1D  (None, 34, 16)           0         \n",
            " )                                                               \n",
            "                                                                 \n",
            " dropout (Dropout)           (None, 34, 16)            0         \n",
            "                                                                 \n",
            " conv1d_1 (Conv1D)           (None, 33, 8)             264       \n",
            "                                                                 \n",
            " max_pooling1d_1 (MaxPooling  (None, 16, 8)            0         \n",
            " 1D)                                                             \n",
            "                                                                 \n",
            " dropout_1 (Dropout)         (None, 16, 8)             0         \n",
            "                                                                 \n",
            " gru (GRU)                   (None, 2)                 72        \n",
            "                                                                 \n",
            " dense (Dense)               (None, 1)                 3         \n",
            "                                                                 \n",
            "=================================================================\n",
            "Total params: 387\n",
            "Trainable params: 387\n",
            "Non-trainable params: 0\n",
            "_________________________________________________________________\n"
          ]
        }
      ],
      "source": [
        "model = Sequential()\n",
        "model.add(Conv1D(activation=\"tanh\", input_shape=(len(test.columns)-1, 1), kernel_size=2, filters=16))\n",
        "model.add(MaxPooling1D(pool_size=2))\n",
        "model.add(Dropout(0.2))\n",
        "model.add(Conv1D(activation=\"tanh\", kernel_size=2, filters=8))\n",
        "model.add(MaxPooling1D(pool_size=2))\n",
        "model.add(Dropout(0.2))\n",
        "model.add(GRU(2, activation=\"tanh\", recurrent_activation=\"sigmoid\"))\n",
        "model.add(Dense(1, activation='sigmoid'))\n",
        "\n",
        "model.compile(loss='binary_crossentropy', optimizer='adam', metrics=['accuracy'])\n",
        "model.summary()"
      ]
    },
    {
      "cell_type": "code",
      "execution_count": 6,
      "metadata": {
        "id": "rAALlLZvl7Up",
        "outputId": "289a8bd2-0c9c-4733-d7cb-dabc2e0b0c12",
        "colab": {
          "base_uri": "https://localhost:8080/"
        }
      },
      "outputs": [
        {
          "output_type": "stream",
          "name": "stdout",
          "text": [
            "15625/15625 [==============================] - 79s 4ms/step - loss: 0.1779 - accuracy: 0.9454\n",
            "15625/15625 [==============================] - 68s 4ms/step - loss: 0.1217 - accuracy: 0.9657\n",
            "15625/15625 [==============================] - 68s 4ms/step - loss: 0.1133 - accuracy: 0.9706\n",
            "15625/15625 [==============================] - 69s 4ms/step - loss: 0.1095 - accuracy: 0.9724\n",
            "15625/15625 [==============================] - 69s 4ms/step - loss: 0.1075 - accuracy: 0.9729\n",
            "15625/15625 [==============================] - 68s 4ms/step - loss: 0.1047 - accuracy: 0.9741\n",
            "15625/15625 [==============================] - 68s 4ms/step - loss: 0.1032 - accuracy: 0.9746\n",
            "15625/15625 [==============================] - 68s 4ms/step - loss: 0.1045 - accuracy: 0.9744\n",
            "15625/15625 [==============================] - 69s 4ms/step - loss: 0.1041 - accuracy: 0.9745\n",
            "15625/15625 [==============================] - 69s 4ms/step - loss: 0.1027 - accuracy: 0.9747\n",
            "15625/15625 [==============================] - 68s 4ms/step - loss: 0.1012 - accuracy: 0.9750\n",
            "15625/15625 [==============================] - 68s 4ms/step - loss: 0.1020 - accuracy: 0.9751\n",
            "15625/15625 [==============================] - 68s 4ms/step - loss: 0.1022 - accuracy: 0.9749\n",
            "15625/15625 [==============================] - 68s 4ms/step - loss: 0.0997 - accuracy: 0.9755\n",
            "15625/15625 [==============================] - 68s 4ms/step - loss: 0.1008 - accuracy: 0.9752\n",
            "15625/15625 [==============================] - 74s 5ms/step - loss: 0.1015 - accuracy: 0.9750\n",
            "15625/15625 [==============================] - 68s 4ms/step - loss: 0.1004 - accuracy: 0.9756\n",
            "15625/15625 [==============================] - 68s 4ms/step - loss: 0.0990 - accuracy: 0.9760\n",
            "15625/15625 [==============================] - 68s 4ms/step - loss: 0.0988 - accuracy: 0.9760\n",
            "15625/15625 [==============================] - 70s 4ms/step - loss: 0.0962 - accuracy: 0.9766\n",
            "6161/6161 [==============================] - 27s 4ms/step - loss: 0.0968 - accuracy: 0.9765\n"
          ]
        }
      ],
      "source": [
        "for chunk in train:\n",
        "  train_y = chunk.pop('Label')\n",
        "  train_x = chunk\n",
        "  train_x = scaler.fit_transform(train_x)\n",
        "  train_y = encoder.fit_transform(train_y)\n",
        "  model.fit(train_x, train_y, batch_size=32)"
      ]
    },
    {
      "cell_type": "code",
      "source": [
        "test_y = test.pop('Label')\n",
        "test_x = test"
      ],
      "metadata": {
        "id": "EX-4pbwSSGHC"
      },
      "execution_count": 7,
      "outputs": []
    },
    {
      "cell_type": "code",
      "source": [
        "test_x = scaler.transform(test_x)\n",
        "test_y = encoder.transform(test_y)"
      ],
      "metadata": {
        "id": "jEcXpP4KSIlu"
      },
      "execution_count": 8,
      "outputs": []
    },
    {
      "cell_type": "code",
      "execution_count": 9,
      "metadata": {
        "id": "BlPyKUHhl7_7",
        "outputId": "f39d3531-cad1-4d28-91db-aef9b75afe3b",
        "colab": {
          "base_uri": "https://localhost:8080/"
        }
      },
      "outputs": [
        {
          "output_type": "stream",
          "name": "stdout",
          "text": [
            "79666/79666 [==============================] - 178s 2ms/step\n"
          ]
        }
      ],
      "source": [
        "pred = model.predict(test_x, verbose=1)\n",
        "pred_y = np.round(pred).astype(int)"
      ]
    },
    {
      "cell_type": "code",
      "source": [
        "confusion_matrix(test_y, pred_y)"
      ],
      "metadata": {
        "id": "_T3Py5kOjEHw",
        "outputId": "9ec5c93b-ff4f-4a8f-d9af-6f0921a35d8d",
        "colab": {
          "base_uri": "https://localhost:8080/"
        }
      },
      "execution_count": 10,
      "outputs": [
        {
          "output_type": "execute_result",
          "data": {
            "text/plain": [
              "array([[1224771,   30970],\n",
              "       [  12936, 1280611]])"
            ]
          },
          "metadata": {},
          "execution_count": 10
        }
      ]
    },
    {
      "cell_type": "code",
      "source": [
        "report = classification_report(test_y, pred_y, digits=5)\n",
        "print(report)"
      ],
      "metadata": {
        "id": "lgf6wNn-CVls",
        "outputId": "bb0f7d04-a06e-4d90-e1ba-c0719652b82e",
        "colab": {
          "base_uri": "https://localhost:8080/"
        }
      },
      "execution_count": 11,
      "outputs": [
        {
          "output_type": "stream",
          "name": "stdout",
          "text": [
            "              precision    recall  f1-score   support\n",
            "\n",
            "           0    0.98955   0.97534   0.98239   1255741\n",
            "           1    0.97639   0.99000   0.98315   1293547\n",
            "\n",
            "    accuracy                        0.98278   2549288\n",
            "   macro avg    0.98297   0.98267   0.98277   2549288\n",
            "weighted avg    0.98287   0.98278   0.98277   2549288\n",
            "\n"
          ]
        }
      ]
    }
  ],
  "metadata": {
    "accelerator": "GPU",
    "colab": {
      "provenance": [],
      "include_colab_link": true
    },
    "gpuClass": "standard",
    "kernelspec": {
      "display_name": "Python 3.10.4 64-bit",
      "language": "python",
      "name": "python3"
    },
    "language_info": {
      "name": "python",
      "version": "3.10.4"
    },
    "vscode": {
      "interpreter": {
        "hash": "759c5e0d3d88a894482aeabccbd08c19af37ecec916291e5ab4326292ca84839"
      }
    }
  },
  "nbformat": 4,
  "nbformat_minor": 0
}