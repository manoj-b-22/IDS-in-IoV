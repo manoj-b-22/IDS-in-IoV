{
  "cells": [
    {
      "cell_type": "markdown",
      "metadata": {
        "id": "view-in-github",
        "colab_type": "text"
      },
      "source": [
        "<a href=\"https://colab.research.google.com/github/manoj-b-22/IDS-in-IoV/blob/main/code/MLP-LSTM-inter.ipynb\" target=\"_parent\"><img src=\"https://colab.research.google.com/assets/colab-badge.svg\" alt=\"Open In Colab\"/></a>"
      ]
    },
    {
      "cell_type": "code",
      "execution_count": null,
      "metadata": {
        "id": "wNsltBIH6Eve"
      },
      "outputs": [],
      "source": [
        "import numpy as np\n",
        "import pandas as pd\n",
        "from keras.models import Sequential\n",
        "from keras.layers import LSTM, Dense, Dropout, Flatten\n",
        "from sklearn.preprocessing import StandardScaler, LabelEncoder\n",
        "from sklearn.metrics import classification_report, confusion_matrix"
      ]
    },
    {
      "cell_type": "code",
      "execution_count": null,
      "metadata": {
        "colab": {
          "base_uri": "https://localhost:8080/"
        },
        "id": "0LvvSzuf6Led",
        "outputId": "5e6b72ab-3c2a-42f0-cd07-cbdfd11f3389"
      },
      "outputs": [
        {
          "output_type": "stream",
          "name": "stdout",
          "text": [
            "Mounted at /content/drive\n"
          ]
        }
      ],
      "source": [
        "from google.colab import drive\n",
        "drive.mount('/content/drive')"
      ]
    },
    {
      "cell_type": "code",
      "execution_count": null,
      "metadata": {
        "id": "NskDJRX3VV7I"
      },
      "outputs": [],
      "source": [
        "scaler = StandardScaler()\n",
        "encoder = LabelEncoder()"
      ]
    },
    {
      "cell_type": "code",
      "execution_count": null,
      "metadata": {
        "id": "oNSWxJLW6Evj"
      },
      "outputs": [],
      "source": [
        "train = pd.read_csv('/content/drive/MyDrive/train-intervehicle.csv', chunksize=500000)\n",
        "test = pd.read_csv('/content/drive/MyDrive/test-intervehicle.csv')"
      ]
    },
    {
      "cell_type": "code",
      "execution_count": null,
      "metadata": {
        "colab": {
          "base_uri": "https://localhost:8080/"
        },
        "id": "5Gu9qMvNVcd1",
        "outputId": "3f9e071e-9bcc-43a5-85ca-a362911ae50a"
      },
      "outputs": [
        {
          "output_type": "stream",
          "name": "stdout",
          "text": [
            "Model: \"sequential_2\"\n",
            "_________________________________________________________________\n",
            " Layer (type)                Output Shape              Param #   \n",
            "=================================================================\n",
            " lstm_2 (LSTM)               (None, 70, 100)           40800     \n",
            "                                                                 \n",
            " dense_2 (Dense)             (None, 70, 100)           10100     \n",
            "                                                                 \n",
            " gru_2 (GRU)                 (None, 100)               60600     \n",
            "                                                                 \n",
            " dense_3 (Dense)             (None, 1)                 101       \n",
            "                                                                 \n",
            "=================================================================\n",
            "Total params: 111,601\n",
            "Trainable params: 111,601\n",
            "Non-trainable params: 0\n",
            "_________________________________________________________________\n"
          ]
        }
      ],
      "source": [
        "model = Sequential()\n",
        "model.add(LSTM(100, input_shape=(len(test.columns)-1, 1), activation='tanh', recurrent_activation='sigmoid', return_sequences=True))\n",
        "model.add(Dense(20, activation='ReLU'))\n",
        "model.add(Dropout(0.2))\n",
        "model.add(Dense(10, activation='ReLU'))\n",
        "model.add(Flatten())\n",
        "model.add(Dense(1, activation='sigmoid'))\n",
        "\n",
        "model.compile(loss='binary_crossentropy', optimizer='adam', metrics=['accuracy'])\n",
        "model.summary()"
      ]
    },
    {
      "cell_type": "code",
      "execution_count": null,
      "metadata": {
        "colab": {
          "base_uri": "https://localhost:8080/"
        },
        "id": "gakwuCpLX7YK",
        "outputId": "124982e5-f5b2-477d-b20e-6def01783e35"
      },
      "outputs": [
        {
          "output_type": "stream",
          "name": "stdout",
          "text": [
            "15625/15625 [==============================] - 159s 10ms/step - loss: 0.0229 - accuracy: 0.9923\n",
            "15625/15625 [==============================] - 148s 9ms/step - loss: 0.0016 - accuracy: 0.9995\n",
            "15625/15625 [==============================] - 148s 9ms/step - loss: 0.0011 - accuracy: 0.9997\n",
            "15625/15625 [==============================] - 150s 10ms/step - loss: 8.1152e-04 - accuracy: 0.9998\n",
            "15625/15625 [==============================] - 150s 10ms/step - loss: 9.5039e-04 - accuracy: 0.9998\n",
            "15625/15625 [==============================] - 150s 10ms/step - loss: 6.9856e-04 - accuracy: 0.9998\n",
            "15625/15625 [==============================] - 152s 10ms/step - loss: 5.8582e-04 - accuracy: 0.9999\n",
            "15625/15625 [==============================] - 148s 9ms/step - loss: 6.8434e-04 - accuracy: 0.9998\n",
            "15625/15625 [==============================] - 150s 10ms/step - loss: 5.5567e-04 - accuracy: 0.9999\n",
            "15625/15625 [==============================] - 149s 10ms/step - loss: 5.3274e-04 - accuracy: 0.9998\n",
            "15625/15625 [==============================] - 154s 10ms/step - loss: 5.1383e-04 - accuracy: 0.9999\n",
            "15625/15625 [==============================] - 154s 10ms/step - loss: 5.0391e-04 - accuracy: 0.9999\n",
            "15625/15625 [==============================] - 145s 9ms/step - loss: 4.7677e-04 - accuracy: 0.9999\n",
            "15625/15625 [==============================] - 142s 9ms/step - loss: 4.0804e-04 - accuracy: 0.9999\n",
            "15625/15625 [==============================] - 142s 9ms/step - loss: 3.5679e-04 - accuracy: 0.9999\n",
            "15625/15625 [==============================] - 136s 9ms/step - loss: 2.6375e-04 - accuracy: 0.9999\n",
            "15625/15625 [==============================] - 133s 9ms/step - loss: 2.8008e-04 - accuracy: 0.9999\n",
            "15625/15625 [==============================] - 136s 9ms/step - loss: 3.3184e-04 - accuracy: 0.9999\n",
            "15625/15625 [==============================] - 134s 9ms/step - loss: 2.8300e-04 - accuracy: 0.9999\n",
            "15625/15625 [==============================] - 129s 8ms/step - loss: 2.8136e-04 - accuracy: 0.9999\n",
            "6161/6161 [==============================] - 51s 8ms/step - loss: 9.5445e-04 - accuracy: 0.9998\n"
          ]
        }
      ],
      "source": [
        "for chunk in train:\n",
        "  train_y = chunk.pop('Label')\n",
        "  train_x = chunk\n",
        "  train_x = scaler.fit_transform(train_x)\n",
        "  train_y = encoder.fit_transform(train_y)\n",
        "  model.fit(train_x, train_y, batch_size=32)"
      ]
    },
    {
      "cell_type": "code",
      "execution_count": null,
      "metadata": {
        "id": "eBlpAi_i6Evj"
      },
      "outputs": [],
      "source": [
        "test_y = test.pop('Label')\n",
        "test_x = test"
      ]
    },
    {
      "cell_type": "code",
      "execution_count": null,
      "metadata": {
        "id": "2n7h0UiD6Evl"
      },
      "outputs": [],
      "source": [
        "test_x = scaler.transform(test_x)\n",
        "test_y = encoder.transform(test_y)"
      ]
    },
    {
      "cell_type": "code",
      "execution_count": null,
      "metadata": {
        "colab": {
          "base_uri": "https://localhost:8080/"
        },
        "id": "d2ztO8vx6Evp",
        "outputId": "04a5e181-08a3-4588-91cd-b02795d2d95b"
      },
      "outputs": [
        {
          "output_type": "stream",
          "name": "stdout",
          "text": [
            "79666/79666 [==============================] - 374s 5ms/step\n"
          ]
        }
      ],
      "source": [
        "pred = model.predict(test_x, verbose=1)\n",
        "pred_y = np.round(pred).astype(int)"
      ]
    },
    {
      "cell_type": "code",
      "source": [
        "confusion_matrix(test_y, pred_y)"
      ],
      "metadata": {
        "id": "xrmccFUlpOKV",
        "outputId": "6868e8f6-9570-49cd-e14e-147d8cb17b71",
        "colab": {
          "base_uri": "https://localhost:8080/"
        }
      },
      "execution_count": null,
      "outputs": [
        {
          "output_type": "execute_result",
          "data": {
            "text/plain": [
              "array([[1254671,    1070],\n",
              "       [    596, 1292951]])"
            ]
          },
          "metadata": {},
          "execution_count": 13
        }
      ]
    },
    {
      "cell_type": "code",
      "source": [
        "report = classification_report(test_y, pred_y, digits=5)\n",
        "print(report)"
      ],
      "metadata": {
        "id": "jdsOhIn1pPBC",
        "outputId": "8e5750ea-5312-426a-cba0-6eb7b439e02f",
        "colab": {
          "base_uri": "https://localhost:8080/"
        }
      },
      "execution_count": null,
      "outputs": [
        {
          "output_type": "stream",
          "name": "stdout",
          "text": [
            "              precision    recall  f1-score   support\n",
            "\n",
            "           0    0.99953   0.99915   0.99934   1255741\n",
            "           1    0.99917   0.99954   0.99936   1293547\n",
            "\n",
            "    accuracy                        0.99935   2549288\n",
            "   macro avg    0.99935   0.99934   0.99935   2549288\n",
            "weighted avg    0.99935   0.99935   0.99935   2549288\n",
            "\n"
          ]
        }
      ]
    }
  ],
  "metadata": {
    "accelerator": "GPU",
    "colab": {
      "provenance": [],
      "include_colab_link": true
    },
    "gpuClass": "standard",
    "interpreter": {
      "hash": "759c5e0d3d88a894482aeabccbd08c19af37ecec916291e5ab4326292ca84839"
    },
    "kernelspec": {
      "display_name": "Python 3.10.4 64-bit",
      "language": "python",
      "name": "python3"
    },
    "language_info": {
      "codemirror_mode": {
        "name": "ipython",
        "version": 3
      },
      "file_extension": ".py",
      "mimetype": "text/x-python",
      "name": "python",
      "nbconvert_exporter": "python",
      "pygments_lexer": "ipython3",
      "version": "3.10.4"
    },
    "orig_nbformat": 4
  },
  "nbformat": 4,
  "nbformat_minor": 0
}