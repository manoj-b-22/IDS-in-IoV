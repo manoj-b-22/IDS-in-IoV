{
  "cells": [
    {
      "cell_type": "markdown",
      "metadata": {
        "id": "view-in-github",
        "colab_type": "text"
      },
      "source": [
        "<a href=\"https://colab.research.google.com/github/manoj-b-22/IDS-in-IoV/blob/main/code/MLP-LSTM-inter.ipynb\" target=\"_parent\"><img src=\"https://colab.research.google.com/assets/colab-badge.svg\" alt=\"Open In Colab\"/></a>"
      ]
    },
    {
      "cell_type": "code",
      "execution_count": 1,
      "metadata": {
        "id": "wNsltBIH6Eve"
      },
      "outputs": [],
      "source": [
        "import numpy as np\n",
        "import pandas as pd\n",
        "from keras.models import Sequential\n",
        "from keras.layers import LSTM, Dense, Dropout, Flatten\n",
        "from sklearn.preprocessing import StandardScaler, LabelEncoder\n",
        "from sklearn.metrics import classification_report, confusion_matrix"
      ]
    },
    {
      "cell_type": "code",
      "execution_count": 2,
      "metadata": {
        "colab": {
          "base_uri": "https://localhost:8080/"
        },
        "id": "0LvvSzuf6Led",
        "outputId": "328eb9d6-40bb-4c8c-8b28-b5050aa776b0"
      },
      "outputs": [
        {
          "output_type": "stream",
          "name": "stdout",
          "text": [
            "Mounted at /content/drive\n"
          ]
        }
      ],
      "source": [
        "from google.colab import drive\n",
        "drive.mount('/content/drive')"
      ]
    },
    {
      "cell_type": "code",
      "execution_count": 3,
      "metadata": {
        "id": "NskDJRX3VV7I"
      },
      "outputs": [],
      "source": [
        "scaler = StandardScaler()\n",
        "encoder = LabelEncoder()"
      ]
    },
    {
      "cell_type": "code",
      "execution_count": 4,
      "metadata": {
        "id": "oNSWxJLW6Evj"
      },
      "outputs": [],
      "source": [
        "train = pd.read_csv('/content/drive/MyDrive/train-intervehicle.csv', chunksize=500000)\n",
        "test = pd.read_csv('/content/drive/MyDrive/test-intervehicle.csv')"
      ]
    },
    {
      "cell_type": "code",
      "execution_count": 5,
      "metadata": {
        "colab": {
          "base_uri": "https://localhost:8080/"
        },
        "id": "5Gu9qMvNVcd1",
        "outputId": "aaa7eef2-43ea-44f3-89d3-4daebd8b68e4"
      },
      "outputs": [
        {
          "output_type": "stream",
          "name": "stdout",
          "text": [
            "Model: \"sequential\"\n",
            "_________________________________________________________________\n",
            " Layer (type)                Output Shape              Param #   \n",
            "=================================================================\n",
            " lstm (LSTM)                 (None, 70, 100)           40800     \n",
            "                                                                 \n",
            " dense (Dense)               (None, 70, 20)            2020      \n",
            "                                                                 \n",
            " dropout (Dropout)           (None, 70, 20)            0         \n",
            "                                                                 \n",
            " dense_1 (Dense)             (None, 70, 10)            210       \n",
            "                                                                 \n",
            " flatten (Flatten)           (None, 700)               0         \n",
            "                                                                 \n",
            " dense_2 (Dense)             (None, 1)                 701       \n",
            "                                                                 \n",
            "=================================================================\n",
            "Total params: 43,731\n",
            "Trainable params: 43,731\n",
            "Non-trainable params: 0\n",
            "_________________________________________________________________\n"
          ]
        }
      ],
      "source": [
        "model = Sequential()\n",
        "model.add(LSTM(100, input_shape=(len(test.columns)-1, 1), activation='tanh', recurrent_activation='sigmoid', return_sequences=True))\n",
        "model.add(Dense(20, activation='ReLU'))\n",
        "model.add(Dropout(0.2))\n",
        "model.add(Dense(10, activation='ReLU'))\n",
        "model.add(Flatten())\n",
        "model.add(Dense(1, activation='sigmoid'))\n",
        "\n",
        "model.compile(loss='binary_crossentropy', optimizer='adam', metrics=['accuracy'])\n",
        "model.summary()"
      ]
    },
    {
      "cell_type": "code",
      "execution_count": 6,
      "metadata": {
        "colab": {
          "base_uri": "https://localhost:8080/"
        },
        "id": "gakwuCpLX7YK",
        "outputId": "c93fcdcc-3fce-41aa-eb35-fefaf56c9e1b"
      },
      "outputs": [
        {
          "output_type": "stream",
          "name": "stdout",
          "text": [
            "15625/15625 [==============================] - 93s 6ms/step - loss: 0.0064 - accuracy: 0.9980\n",
            "15625/15625 [==============================] - 88s 6ms/step - loss: 6.8915e-04 - accuracy: 0.9998\n",
            "15625/15625 [==============================] - 88s 6ms/step - loss: 4.8686e-04 - accuracy: 0.9999\n",
            "15625/15625 [==============================] - 89s 6ms/step - loss: 4.2456e-04 - accuracy: 0.9999\n",
            "15625/15625 [==============================] - 89s 6ms/step - loss: 6.2573e-04 - accuracy: 0.9999\n",
            "15625/15625 [==============================] - 88s 6ms/step - loss: 3.4231e-04 - accuracy: 0.9999\n",
            "15625/15625 [==============================] - 91s 6ms/step - loss: 3.9317e-04 - accuracy: 0.9999\n",
            "15625/15625 [==============================] - 88s 6ms/step - loss: 3.2658e-04 - accuracy: 0.9999\n",
            "15625/15625 [==============================] - 87s 6ms/step - loss: 3.7347e-04 - accuracy: 0.9999\n",
            "15625/15625 [==============================] - 88s 6ms/step - loss: 2.7601e-04 - accuracy: 0.9999\n",
            "15625/15625 [==============================] - 88s 6ms/step - loss: 3.0801e-04 - accuracy: 0.9999\n",
            "15625/15625 [==============================] - 88s 6ms/step - loss: 3.2408e-04 - accuracy: 0.9999\n",
            "15625/15625 [==============================] - 87s 6ms/step - loss: 2.7549e-04 - accuracy: 0.9999\n",
            "15625/15625 [==============================] - 87s 6ms/step - loss: 2.6864e-04 - accuracy: 0.9999\n",
            "15625/15625 [==============================] - 87s 6ms/step - loss: 3.1224e-04 - accuracy: 0.9999\n",
            "15625/15625 [==============================] - 90s 6ms/step - loss: 2.2036e-04 - accuracy: 0.9999\n",
            "15625/15625 [==============================] - 89s 6ms/step - loss: 3.9561e-04 - accuracy: 0.9999\n",
            "15625/15625 [==============================] - 88s 6ms/step - loss: 2.2824e-04 - accuracy: 0.9999\n",
            "15625/15625 [==============================] - 87s 6ms/step - loss: 2.7327e-04 - accuracy: 0.9999\n",
            "15625/15625 [==============================] - 87s 6ms/step - loss: 2.4589e-04 - accuracy: 0.9999\n",
            "6161/6161 [==============================] - 35s 6ms/step - loss: 5.1176e-04 - accuracy: 0.9999\n"
          ]
        }
      ],
      "source": [
        "for chunk in train:\n",
        "  train_y = chunk.pop('Label')\n",
        "  train_x = chunk\n",
        "  train_x = scaler.fit_transform(train_x)\n",
        "  train_y = encoder.fit_transform(train_y)\n",
        "  model.fit(train_x, train_y, batch_size=32) "
      ]
    },
    {
      "cell_type": "code",
      "execution_count": 7,
      "metadata": {
        "id": "eBlpAi_i6Evj"
      },
      "outputs": [],
      "source": [
        "test_y = test.pop('Label')\n",
        "test_x = test"
      ]
    },
    {
      "cell_type": "code",
      "execution_count": 8,
      "metadata": {
        "id": "2n7h0UiD6Evl"
      },
      "outputs": [],
      "source": [
        "test_x = scaler.transform(test_x)\n",
        "test_y = encoder.transform(test_y)"
      ]
    },
    {
      "cell_type": "code",
      "execution_count": 9,
      "metadata": {
        "colab": {
          "base_uri": "https://localhost:8080/"
        },
        "id": "d2ztO8vx6Evp",
        "outputId": "2f908506-a7b6-4856-c9b5-0bf0b76a38cf"
      },
      "outputs": [
        {
          "output_type": "stream",
          "name": "stdout",
          "text": [
            "79666/79666 [==============================] - 357s 4ms/step\n"
          ]
        }
      ],
      "source": [
        "pred = model.predict(test_x, verbose=1)\n",
        "pred_y = np.round(pred).astype(int)"
      ]
    },
    {
      "cell_type": "code",
      "source": [
        "confusion_matrix(test_y, pred_y)"
      ],
      "metadata": {
        "id": "xrmccFUlpOKV",
        "outputId": "54891e05-ce1d-4b62-f4b3-8affc472f5f2",
        "colab": {
          "base_uri": "https://localhost:8080/"
        }
      },
      "execution_count": 10,
      "outputs": [
        {
          "output_type": "execute_result",
          "data": {
            "text/plain": [
              "array([[1255681,      60],\n",
              "       [     68, 1293479]])"
            ]
          },
          "metadata": {},
          "execution_count": 10
        }
      ]
    },
    {
      "cell_type": "code",
      "source": [
        "report = classification_report(test_y, pred_y, digits=5)\n",
        "print(report)"
      ],
      "metadata": {
        "id": "jdsOhIn1pPBC",
        "outputId": "c7f19bcc-804c-485a-f5bf-b7d3871b687a",
        "colab": {
          "base_uri": "https://localhost:8080/"
        }
      },
      "execution_count": 11,
      "outputs": [
        {
          "output_type": "stream",
          "name": "stdout",
          "text": [
            "              precision    recall  f1-score   support\n",
            "\n",
            "           0    0.99995   0.99995   0.99995   1255741\n",
            "           1    0.99995   0.99995   0.99995   1293547\n",
            "\n",
            "    accuracy                        0.99995   2549288\n",
            "   macro avg    0.99995   0.99995   0.99995   2549288\n",
            "weighted avg    0.99995   0.99995   0.99995   2549288\n",
            "\n"
          ]
        }
      ]
    }
  ],
  "metadata": {
    "accelerator": "GPU",
    "colab": {
      "provenance": [],
      "include_colab_link": true
    },
    "gpuClass": "standard",
    "interpreter": {
      "hash": "759c5e0d3d88a894482aeabccbd08c19af37ecec916291e5ab4326292ca84839"
    },
    "kernelspec": {
      "display_name": "Python 3.10.4 64-bit",
      "language": "python",
      "name": "python3"
    },
    "language_info": {
      "codemirror_mode": {
        "name": "ipython",
        "version": 3
      },
      "file_extension": ".py",
      "mimetype": "text/x-python",
      "name": "python",
      "nbconvert_exporter": "python",
      "pygments_lexer": "ipython3",
      "version": "3.10.4"
    },
    "orig_nbformat": 4
  },
  "nbformat": 4,
  "nbformat_minor": 0
}