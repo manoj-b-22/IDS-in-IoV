{
  "cells": [
    {
      "cell_type": "markdown",
      "metadata": {
        "id": "view-in-github",
        "colab_type": "text"
      },
      "source": [
        "<a href=\"https://colab.research.google.com/github/manoj-b-22/IDS-in-IoV/blob/main/code/MLP-LSTM-intra.ipynb\" target=\"_parent\"><img src=\"https://colab.research.google.com/assets/colab-badge.svg\" alt=\"Open In Colab\"/></a>"
      ]
    },
    {
      "cell_type": "code",
      "execution_count": 1,
      "metadata": {
        "id": "SuEQT_Bo4Zbn"
      },
      "outputs": [],
      "source": [
        "import numpy as np\n",
        "import pandas as pd\n",
        "from keras.models import Sequential\n",
        "from keras.layers import LSTM, Dense, Dropout, Flatten\n",
        "from sklearn.model_selection import train_test_split\n",
        "from sklearn.preprocessing import StandardScaler, LabelEncoder\n",
        "from sklearn.metrics import classification_report, confusion_matrix"
      ]
    },
    {
      "cell_type": "code",
      "execution_count": 2,
      "metadata": {
        "id": "s6SvyyYsKarh",
        "colab": {
          "base_uri": "https://localhost:8080/"
        },
        "outputId": "a4ee9c07-061c-446c-c775-2e71a2224b55"
      },
      "outputs": [
        {
          "output_type": "stream",
          "name": "stdout",
          "text": [
            "Drive already mounted at /content/drive; to attempt to forcibly remount, call drive.mount(\"/content/drive\", force_remount=True).\n"
          ]
        }
      ],
      "source": [
        "from google.colab import drive\n",
        "drive.mount('/content/drive')"
      ]
    },
    {
      "cell_type": "code",
      "execution_count": 3,
      "metadata": {
        "id": "wDwxDEvUKdMD"
      },
      "outputs": [],
      "source": [
        "data = pd.read_csv('/content/drive/MyDrive/intravehicle.csv')"
      ]
    },
    {
      "cell_type": "code",
      "execution_count": 4,
      "metadata": {
        "id": "5RuewYWiKfXv"
      },
      "outputs": [],
      "source": [
        "y_data = data.pop('4')\n",
        "x_data = data"
      ]
    },
    {
      "cell_type": "code",
      "execution_count": 5,
      "metadata": {
        "id": "gvrcA1KcKiZa"
      },
      "outputs": [],
      "source": [
        "train_x,test_x,train_y,test_y = train_test_split(x_data, y_data, test_size=0.2, random_state=0, shuffle=True)"
      ]
    },
    {
      "cell_type": "code",
      "execution_count": 6,
      "metadata": {
        "id": "5id8JGNlKk04"
      },
      "outputs": [],
      "source": [
        "train_x = train_x.reset_index(drop=True)\n",
        "test_x = test_x.reset_index(drop=True) \n",
        "train_y = train_y.reset_index(drop=True)\n",
        "test_y = test_y.reset_index(drop=True)"
      ]
    },
    {
      "cell_type": "code",
      "execution_count": 7,
      "metadata": {
        "id": "LFvGuU8dKmgM"
      },
      "outputs": [],
      "source": [
        "scaler = StandardScaler()\n",
        "train_x = scaler.fit_transform(train_x)\n",
        "test_x = scaler.transform(test_x)"
      ]
    },
    {
      "cell_type": "code",
      "execution_count": 8,
      "metadata": {
        "id": "M4h0tcc7KpEX"
      },
      "outputs": [],
      "source": [
        "encoder = LabelEncoder()\n",
        "train_y = encoder.fit_transform(train_y)\n",
        "test_y = encoder.transform(test_y)"
      ]
    },
    {
      "cell_type": "code",
      "execution_count": 9,
      "metadata": {
        "id": "NWyE_krNKrIC",
        "colab": {
          "base_uri": "https://localhost:8080/"
        },
        "outputId": "acb09f6b-151d-4f70-bb42-593f509d1a86"
      },
      "outputs": [
        {
          "output_type": "stream",
          "name": "stdout",
          "text": [
            "Model: \"sequential\"\n",
            "_________________________________________________________________\n",
            " Layer (type)                Output Shape              Param #   \n",
            "=================================================================\n",
            " lstm (LSTM)                 (None, 4, 100)            40800     \n",
            "                                                                 \n",
            " dense (Dense)               (None, 4, 20)             2020      \n",
            "                                                                 \n",
            " dropout (Dropout)           (None, 4, 20)             0         \n",
            "                                                                 \n",
            " dense_1 (Dense)             (None, 4, 10)             210       \n",
            "                                                                 \n",
            " flatten (Flatten)           (None, 40)                0         \n",
            "                                                                 \n",
            " dense_2 (Dense)             (None, 4)                 164       \n",
            "                                                                 \n",
            "=================================================================\n",
            "Total params: 43,194\n",
            "Trainable params: 43,194\n",
            "Non-trainable params: 0\n",
            "_________________________________________________________________\n"
          ]
        }
      ],
      "source": [
        "model = Sequential()\n",
        "model.add(LSTM(100, input_shape=(len(x_data.columns),1), activation='tanh', recurrent_activation='sigmoid', return_sequences=True))\n",
        "model.add(Dense(20, activation='ReLU'))\n",
        "model.add(Dropout(0.2))\n",
        "model.add(Dense(10, activation='ReLU'))\n",
        "model.add(Flatten())\n",
        "model.add(Dense(4, activation='softmax'))\n",
        "\n",
        "model.compile(loss='sparse_categorical_crossentropy', optimizer='adam', metrics=['accuracy'])\n",
        "model.summary()"
      ]
    },
    {
      "cell_type": "code",
      "execution_count": 10,
      "metadata": {
        "id": "uGDQwV14fDq-",
        "colab": {
          "base_uri": "https://localhost:8080/"
        },
        "outputId": "108f8718-2867-48f4-e85b-dba66a2288ab"
      },
      "outputs": [
        {
          "output_type": "stream",
          "name": "stdout",
          "text": [
            "414237/414237 [==============================] - 1835s 4ms/step - loss: 0.0452 - accuracy: 0.9846\n"
          ]
        },
        {
          "output_type": "execute_result",
          "data": {
            "text/plain": [
              "<keras.callbacks.History at 0x7f326c69c040>"
            ]
          },
          "metadata": {},
          "execution_count": 10
        }
      ],
      "source": [
        "model.fit(train_x, train_y, batch_size=32) "
      ]
    },
    {
      "cell_type": "code",
      "execution_count": 11,
      "metadata": {
        "id": "fbNEALvUfGj6",
        "colab": {
          "base_uri": "https://localhost:8080/"
        },
        "outputId": "02cf1610-5727-49e9-ae3e-4ade98174038"
      },
      "outputs": [
        {
          "output_type": "stream",
          "name": "stdout",
          "text": [
            "103560/103560 [==============================] - 256s 2ms/step\n"
          ]
        }
      ],
      "source": [
        "pred = model.predict(test_x, verbose=1)\n",
        "pred_y = np.argmax(pred, axis=1) "
      ]
    },
    {
      "cell_type": "code",
      "execution_count": 12,
      "metadata": {
        "id": "e3Fx5OYcfIiG",
        "colab": {
          "base_uri": "https://localhost:8080/"
        },
        "outputId": "e08b1ba0-d4a7-4893-dfea-d3e6001c045a"
      },
      "outputs": [
        {
          "output_type": "execute_result",
          "data": {
            "text/plain": [
              "array([[ 117497,       0,     230,       0],\n",
              "       [      0,   91611,    6591,       0],\n",
              "       [  22733,     292, 2824885,       0],\n",
              "       [      0,       0,       0,  250056]])"
            ]
          },
          "metadata": {},
          "execution_count": 12
        }
      ],
      "source": [
        "confusion_matrix(test_y, pred_y)"
      ]
    },
    {
      "cell_type": "code",
      "execution_count": 13,
      "metadata": {
        "id": "NYBFODvZfKIz",
        "colab": {
          "base_uri": "https://localhost:8080/"
        },
        "outputId": "bdacbee7-4b47-4e5b-af4c-4e571e88822b"
      },
      "outputs": [
        {
          "output_type": "stream",
          "name": "stdout",
          "text": [
            "              precision    recall  f1-score   support\n",
            "\n",
            "           0    0.83789   0.99805   0.91098    117727\n",
            "           1    0.99682   0.93288   0.96379     98202\n",
            "           2    0.99759   0.99192   0.99475   2847910\n",
            "           3    1.00000   1.00000   1.00000    250056\n",
            "\n",
            "    accuracy                        0.99099   3313895\n",
            "   macro avg    0.95808   0.98071   0.96738   3313895\n",
            "weighted avg    0.99208   0.99099   0.99125   3313895\n",
            "\n"
          ]
        }
      ],
      "source": [
        "report=classification_report(test_y, pred_y, digits=5)\n",
        "print(report)"
      ]
    }
  ],
  "metadata": {
    "colab": {
      "provenance": [],
      "authorship_tag": "ABX9TyOYQK7vB8jABG+IW/Rzd9jQ",
      "include_colab_link": true
    },
    "kernelspec": {
      "display_name": "Python 3",
      "name": "python3"
    },
    "language_info": {
      "name": "python"
    },
    "accelerator": "GPU",
    "gpuClass": "standard"
  },
  "nbformat": 4,
  "nbformat_minor": 0
}