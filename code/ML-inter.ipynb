{
  "nbformat": 4,
  "nbformat_minor": 0,
  "metadata": {
    "colab": {
      "provenance": [],
      "authorship_tag": "ABX9TyOUw/LqXF78xz9diSNsRMdo",
      "include_colab_link": true
    },
    "kernelspec": {
      "name": "python3",
      "display_name": "Python 3"
    },
    "language_info": {
      "name": "python"
    },
    "accelerator": "TPU",
    "gpuClass": "standard"
  },
  "cells": [
    {
      "cell_type": "markdown",
      "metadata": {
        "id": "view-in-github",
        "colab_type": "text"
      },
      "source": [
        "<a href=\"https://colab.research.google.com/github/manoj-b-22/IDS-in-IoV/blob/main/code/ML-inter.ipynb\" target=\"_parent\"><img src=\"https://colab.research.google.com/assets/colab-badge.svg\" alt=\"Open In Colab\"/></a>"
      ]
    },
    {
      "cell_type": "code",
      "execution_count": 1,
      "metadata": {
        "id": "72HV1ni4Ubsb"
      },
      "outputs": [],
      "source": [
        "import numpy as np\n",
        "import pandas as pd\n",
        "from sklearn import svm\n",
        "from sklearn.neighbors import KNeighborsClassifier\n",
        "from sklearn.ensemble import RandomForestClassifier\n",
        "from sklearn.linear_model import LogisticRegression\n",
        "from sklearn.model_selection import train_test_split\n",
        "from sklearn.preprocessing import StandardScaler, LabelEncoder\n",
        "from sklearn.metrics import accuracy_score, confusion_matrix, classification_report"
      ]
    },
    {
      "cell_type": "code",
      "source": [
        "from google.colab import drive\n",
        "drive.mount('/content/drive')"
      ],
      "metadata": {
        "id": "c9RY3w1TUziL",
        "outputId": "c48bee4e-1930-4c5c-c303-9c1768434ff0",
        "colab": {
          "base_uri": "https://localhost:8080/"
        }
      },
      "execution_count": 2,
      "outputs": [
        {
          "output_type": "stream",
          "name": "stdout",
          "text": [
            "Mounted at /content/drive\n"
          ]
        }
      ]
    },
    {
      "cell_type": "code",
      "source": [
        "scaler = StandardScaler()\n",
        "encoder = LabelEncoder()"
      ],
      "metadata": {
        "id": "vHQdvGd3U1Dl"
      },
      "execution_count": 3,
      "outputs": []
    },
    {
      "cell_type": "code",
      "source": [
        "train = pd.read_csv('/content/drive/MyDrive/train-intervehicle.csv', chunksize=500000)\n",
        "test = pd.read_csv('/content/drive/MyDrive/test-intervehicle.csv')"
      ],
      "metadata": {
        "id": "W2wG51uRU35r"
      },
      "execution_count": 4,
      "outputs": []
    },
    {
      "cell_type": "code",
      "source": [
        "def printReport(test_y,predict_y):\n",
        "  accuracy = accuracy_score(test_y, predict_y)\n",
        "  print('Accuracy: %.7f' % accuracy)\n",
        "  print()\n",
        "\n",
        "  # T up-down  F left-right\n",
        "  print('Confusion Matrix')                       #  TP FP\n",
        "  print(confusion_matrix(test_y, predict_y))      #  FN TN \n",
        "  print()\n",
        "\n",
        "  print(classification_report(test_y, predict_y, digits=6))"
      ],
      "metadata": {
        "id": "nJg6LjhAU6EJ"
      },
      "execution_count": 5,
      "outputs": []
    },
    {
      "cell_type": "code",
      "source": [
        "n=5\n",
        "KNN = KNeighborsClassifier(n_neighbors=n, metric='minkowski', algorithm='kd_tree', n_jobs=-1)"
      ],
      "metadata": {
        "id": "LDYKv65FVFnY"
      },
      "execution_count": 6,
      "outputs": []
    },
    {
      "cell_type": "code",
      "source": [
        "LR = LogisticRegression(random_state=0, max_iter=1000, solver='sag', n_jobs=-1, warm_start=True)"
      ],
      "metadata": {
        "id": "pxN1Jae9VIRm"
      },
      "execution_count": 7,
      "outputs": []
    },
    {
      "cell_type": "code",
      "source": [
        "RF = RandomForestClassifier(random_state=0, n_jobs=-1, warm_start=True)"
      ],
      "metadata": {
        "id": "6oUWnfJkVNKG"
      },
      "execution_count": 8,
      "outputs": []
    },
    {
      "cell_type": "code",
      "source": [
        "SVM = svm.SVC(random_state=0, kernel='rbf')"
      ],
      "metadata": {
        "id": "rX_2yDcoVVYj"
      },
      "execution_count": 9,
      "outputs": []
    },
    {
      "cell_type": "code",
      "source": [
        "for chunk in train:\n",
        "  train_y = chunk.pop('Label')\n",
        "  train_x = chunk\n",
        "  train_x = scaler.fit_transform(train_x)\n",
        "  train_y = encoder.fit_transform(train_y)\n",
        "  KNN.fit(train_x, train_y) # fit \n",
        "  LR.fit(train_x, train_y)\n",
        "  RF.fit(train_x, train_y)\n",
        "  SVM.fit(train_x, train_y) # fit "
      ],
      "metadata": {
        "id": "rmkKXjiBVXEs",
        "outputId": "4d887e7c-86c3-445a-e70d-0cc82eda3de9",
        "colab": {
          "base_uri": "https://localhost:8080/"
        }
      },
      "execution_count": 10,
      "outputs": [
        {
          "metadata": {
            "tags": null
          },
          "name": "stderr",
          "output_type": "stream",
          "text": [
            "/usr/local/lib/python3.8/dist-packages/sklearn/linear_model/_sag.py:352: ConvergenceWarning: The max_iter was reached which means the coef_ did not converge\n",
            "  warnings.warn(\n",
            "/usr/local/lib/python3.8/dist-packages/sklearn/linear_model/_sag.py:352: ConvergenceWarning: The max_iter was reached which means the coef_ did not converge\n",
            "  warnings.warn(\n",
            "/usr/local/lib/python3.8/dist-packages/sklearn/ensemble/_forest.py:429: UserWarning: Warm-start fitting without increasing n_estimators does not fit new trees.\n",
            "  warn(\n",
            "/usr/local/lib/python3.8/dist-packages/sklearn/ensemble/_forest.py:429: UserWarning: Warm-start fitting without increasing n_estimators does not fit new trees.\n",
            "  warn(\n",
            "/usr/local/lib/python3.8/dist-packages/sklearn/linear_model/_sag.py:352: ConvergenceWarning: The max_iter was reached which means the coef_ did not converge\n",
            "  warnings.warn(\n",
            "/usr/local/lib/python3.8/dist-packages/sklearn/ensemble/_forest.py:429: UserWarning: Warm-start fitting without increasing n_estimators does not fit new trees.\n",
            "  warn(\n",
            "/usr/local/lib/python3.8/dist-packages/sklearn/ensemble/_forest.py:429: UserWarning: Warm-start fitting without increasing n_estimators does not fit new trees.\n",
            "  warn(\n",
            "/usr/local/lib/python3.8/dist-packages/sklearn/ensemble/_forest.py:429: UserWarning: Warm-start fitting without increasing n_estimators does not fit new trees.\n",
            "  warn(\n",
            "/usr/local/lib/python3.8/dist-packages/sklearn/ensemble/_forest.py:429: UserWarning: Warm-start fitting without increasing n_estimators does not fit new trees.\n",
            "  warn(\n",
            "/usr/local/lib/python3.8/dist-packages/sklearn/ensemble/_forest.py:429: UserWarning: Warm-start fitting without increasing n_estimators does not fit new trees.\n",
            "  warn(\n",
            "/usr/local/lib/python3.8/dist-packages/sklearn/ensemble/_forest.py:429: UserWarning: Warm-start fitting without increasing n_estimators does not fit new trees.\n",
            "  warn(\n",
            "/usr/local/lib/python3.8/dist-packages/sklearn/ensemble/_forest.py:429: UserWarning: Warm-start fitting without increasing n_estimators does not fit new trees.\n",
            "  warn(\n",
            "/usr/local/lib/python3.8/dist-packages/sklearn/ensemble/_forest.py:429: UserWarning: Warm-start fitting without increasing n_estimators does not fit new trees.\n",
            "  warn(\n",
            "/usr/local/lib/python3.8/dist-packages/sklearn/ensemble/_forest.py:429: UserWarning: Warm-start fitting without increasing n_estimators does not fit new trees.\n",
            "  warn(\n",
            "/usr/local/lib/python3.8/dist-packages/sklearn/ensemble/_forest.py:429: UserWarning: Warm-start fitting without increasing n_estimators does not fit new trees.\n",
            "  warn(\n",
            "/usr/local/lib/python3.8/dist-packages/sklearn/ensemble/_forest.py:429: UserWarning: Warm-start fitting without increasing n_estimators does not fit new trees.\n",
            "  warn(\n",
            "/usr/local/lib/python3.8/dist-packages/sklearn/ensemble/_forest.py:429: UserWarning: Warm-start fitting without increasing n_estimators does not fit new trees.\n",
            "  warn(\n",
            "/usr/local/lib/python3.8/dist-packages/sklearn/ensemble/_forest.py:429: UserWarning: Warm-start fitting without increasing n_estimators does not fit new trees.\n",
            "  warn(\n",
            "/usr/local/lib/python3.8/dist-packages/sklearn/ensemble/_forest.py:429: UserWarning: Warm-start fitting without increasing n_estimators does not fit new trees.\n",
            "  warn(\n",
            "/usr/local/lib/python3.8/dist-packages/sklearn/ensemble/_forest.py:429: UserWarning: Warm-start fitting without increasing n_estimators does not fit new trees.\n",
            "  warn(\n",
            "/usr/local/lib/python3.8/dist-packages/sklearn/ensemble/_forest.py:429: UserWarning: Warm-start fitting without increasing n_estimators does not fit new trees.\n",
            "  warn(\n",
            "/usr/local/lib/python3.8/dist-packages/sklearn/ensemble/_forest.py:429: UserWarning: Warm-start fitting without increasing n_estimators does not fit new trees.\n",
            "  warn(\n",
            "/usr/local/lib/python3.8/dist-packages/sklearn/ensemble/_forest.py:429: UserWarning: Warm-start fitting without increasing n_estimators does not fit new trees.\n",
            "  warn(\n"
          ]
        }
      ]
    },
    {
      "cell_type": "code",
      "source": [
        "test_y = test.pop('Label')\n",
        "test_x = test"
      ],
      "metadata": {
        "id": "7qz1Afr7Vc2v"
      },
      "execution_count": 11,
      "outputs": []
    },
    {
      "cell_type": "code",
      "source": [
        "test_x = scaler.transform(test_x)\n",
        "test_y = encoder.transform(test_y)"
      ],
      "metadata": {
        "id": "B9kNzPM0VdfH"
      },
      "execution_count": 12,
      "outputs": []
    },
    {
      "cell_type": "code",
      "source": [
        "predict_y = KNN.predict(test_x)\n",
        "\n",
        "print('K-Nearest Neighbour Classifier\\n')\n",
        "printReport(test_y, predict_y)"
      ],
      "metadata": {
        "id": "Wt5EKS0fVg5R",
        "outputId": "a9366f31-7c69-4fdf-8029-5c7b883d75b4",
        "colab": {
          "base_uri": "https://localhost:8080/"
        }
      },
      "execution_count": 13,
      "outputs": [
        {
          "output_type": "stream",
          "name": "stdout",
          "text": [
            "K-Nearest Neighbour Classifier\n",
            "\n",
            "Accuracy: 0.9997258\n",
            "\n",
            "Confusion Matrix\n",
            "[[1255245     496]\n",
            " [    203 1293344]]\n",
            "\n",
            "              precision    recall  f1-score   support\n",
            "\n",
            "           0   0.999838  0.999605  0.999722   1255741\n",
            "           1   0.999617  0.999843  0.999730   1293547\n",
            "\n",
            "    accuracy                       0.999726   2549288\n",
            "   macro avg   0.999727  0.999724  0.999726   2549288\n",
            "weighted avg   0.999726  0.999726  0.999726   2549288\n",
            "\n"
          ]
        }
      ]
    },
    {
      "cell_type": "code",
      "source": [
        "predict_y = LR.predict(test_x)\n",
        "\n",
        "print('Logistic Regression\\n')\n",
        "printReport(test_y, predict_y)"
      ],
      "metadata": {
        "id": "82IYnsn5VqD7",
        "outputId": "2dfd4068-28a8-42b0-b1e2-abd3a9690951",
        "colab": {
          "base_uri": "https://localhost:8080/"
        }
      },
      "execution_count": 14,
      "outputs": [
        {
          "metadata": {
            "tags": null
          },
          "name": "stdout",
          "output_type": "stream",
          "text": [
            "Logistic Regression\n",
            "\n",
            "Accuracy: 0.9952430\n",
            "\n",
            "Confusion Matrix\n",
            "[[1248766    6975]\n",
            " [   5152 1288395]]\n",
            "\n",
            "              precision    recall  f1-score   support\n",
            "\n",
            "           0   0.995891  0.994446  0.995168   1255741\n",
            "           1   0.994615  0.996017  0.995316   1293547\n",
            "\n",
            "    accuracy                       0.995243   2549288\n",
            "   macro avg   0.995253  0.995231  0.995242   2549288\n",
            "weighted avg   0.995244  0.995243  0.995243   2549288\n",
            "\n"
          ]
        }
      ]
    },
    {
      "cell_type": "code",
      "source": [
        "predict_y = RF.predict(test_x)\n",
        "\n",
        "print('Random Forest Classifier\\n')\n",
        "printReport(test_y, predict_y)"
      ],
      "metadata": {
        "id": "i7ei19lHVuW6",
        "outputId": "96198ec0-1c59-4ca0-fcc0-9197916694d4",
        "colab": {
          "base_uri": "https://localhost:8080/"
        }
      },
      "execution_count": 15,
      "outputs": [
        {
          "metadata": {
            "tags": null
          },
          "name": "stdout",
          "output_type": "stream",
          "text": [
            "Random Forest Classifier\n",
            "\n",
            "Accuracy: 0.9210391\n",
            "\n",
            "Confusion Matrix\n",
            "[[1255741       0]\n",
            " [ 201294 1092253]]\n",
            "\n",
            "              precision    recall  f1-score   support\n",
            "\n",
            "           0   0.861847  1.000000  0.925798   1255741\n",
            "           1   1.000000  0.844386  0.915628   1293547\n",
            "\n",
            "    accuracy                       0.921039   2549288\n",
            "   macro avg   0.930923  0.922193  0.920713   2549288\n",
            "weighted avg   0.931948  0.921039  0.920638   2549288\n",
            "\n"
          ]
        }
      ]
    },
    {
      "cell_type": "code",
      "source": [
        "predict_y = SVM.predict(test_x)\n",
        "\n",
        "print('Support Vector Machine\\n')\n",
        "printReport(test_y, predict_y)"
      ],
      "metadata": {
        "id": "RdzMCi9kVzp_",
        "outputId": "525064fd-2d94-44da-fc1e-e59a89ff6430",
        "colab": {
          "base_uri": "https://localhost:8080/"
        }
      },
      "execution_count": 16,
      "outputs": [
        {
          "metadata": {
            "tags": null
          },
          "name": "stdout",
          "output_type": "stream",
          "text": [
            "Support Vector Machine\n",
            "\n",
            "Accuracy: 0.9997344\n",
            "\n",
            "Confusion Matrix\n",
            "[[1255303     438]\n",
            " [    239 1293308]]\n",
            "\n",
            "              precision    recall  f1-score   support\n",
            "\n",
            "           0   0.999810  0.999651  0.999730   1255741\n",
            "           1   0.999661  0.999815  0.999738   1293547\n",
            "\n",
            "    accuracy                       0.999734   2549288\n",
            "   macro avg   0.999736  0.999733  0.999734   2549288\n",
            "weighted avg   0.999734  0.999734  0.999734   2549288\n",
            "\n"
          ]
        }
      ]
    }
  ]
}