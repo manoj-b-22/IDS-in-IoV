{
  "nbformat": 4,
  "nbformat_minor": 0,
  "metadata": {
    "colab": {
      "provenance": [],
      "authorship_tag": "ABX9TyNIGG7wDAFYrwYuU2gHlwk0",
      "include_colab_link": true
    },
    "kernelspec": {
      "name": "python3",
      "display_name": "Python 3"
    },
    "language_info": {
      "name": "python"
    }
  },
  "cells": [
    {
      "cell_type": "markdown",
      "metadata": {
        "id": "view-in-github",
        "colab_type": "text"
      },
      "source": [
        "<a href=\"https://colab.research.google.com/github/manoj-b-22/IDS-in-IoV/blob/main/code/ML-inter.ipynb\" target=\"_parent\"><img src=\"https://colab.research.google.com/assets/colab-badge.svg\" alt=\"Open In Colab\"/></a>"
      ]
    },
    {
      "cell_type": "code",
      "execution_count": null,
      "metadata": {
        "id": "72HV1ni4Ubsb"
      },
      "outputs": [],
      "source": [
        "import numpy as np\n",
        "import pandas as pd\n",
        "from sklearn import svm\n",
        "from sklearn.neighbors import KNeighborsClassifier\n",
        "from sklearn.ensemble import RandomForestClassifier\n",
        "from sklearn.linear_model import LogisticRegression\n",
        "from sklearn.model_selection import train_test_split\n",
        "from sklearn.preprocessing import StandardScaler, LabelEncoder\n",
        "from sklearn.metrics import accuracy_score, confusion_matrix, classification_report"
      ]
    },
    {
      "cell_type": "code",
      "source": [
        "from google.colab import drive\n",
        "drive.mount('/content/drive')"
      ],
      "metadata": {
        "id": "c9RY3w1TUziL"
      },
      "execution_count": null,
      "outputs": []
    },
    {
      "cell_type": "code",
      "source": [
        "scaler = StandardScaler()\n",
        "encoder = LabelEncoder()"
      ],
      "metadata": {
        "id": "vHQdvGd3U1Dl"
      },
      "execution_count": null,
      "outputs": []
    },
    {
      "cell_type": "code",
      "source": [
        "train = pd.read_csv('/content/drive/MyDrive/train-intervehicle.csv', chunksize=500000)\n",
        "test = pd.read_csv('/content/drive/MyDrive/test-intervehicle.csv')"
      ],
      "metadata": {
        "id": "W2wG51uRU35r"
      },
      "execution_count": null,
      "outputs": []
    },
    {
      "cell_type": "code",
      "source": [
        "def printReport(test_y,predict_y):\n",
        "  accuracy = accuracy_score(test_y, predict_y)\n",
        "  print('Accuracy: %.7f' % accuracy)\n",
        "  print()\n",
        "\n",
        "  # T up-down  F left-right\n",
        "  print('Confusion Matrix')                      #  TP FP\n",
        "  print(confusion_matrix(test_y, predict_y))      #  FN TN \n",
        "  print()\n",
        "\n",
        "  print(classification_report(test_y, predict_y, digits=6))"
      ],
      "metadata": {
        "id": "nJg6LjhAU6EJ"
      },
      "execution_count": null,
      "outputs": []
    },
    {
      "cell_type": "code",
      "source": [
        "n=5\n",
        "KNN = KNeighborsClassifier(n_neighbors=n, metric='minkowski', algorithm='kd_tree', n_jobs=-1)"
      ],
      "metadata": {
        "id": "LDYKv65FVFnY"
      },
      "execution_count": null,
      "outputs": []
    },
    {
      "cell_type": "code",
      "source": [
        "LR = LogisticRegression(random_state=0, max_iter=1000, solver='sag', n_jobs=-1, warm_start=True)"
      ],
      "metadata": {
        "id": "pxN1Jae9VIRm"
      },
      "execution_count": null,
      "outputs": []
    },
    {
      "cell_type": "code",
      "source": [
        "RF = RandomForestClassifier(random_state=0, n_jobs=-1, warm_start=True)"
      ],
      "metadata": {
        "id": "6oUWnfJkVNKG"
      },
      "execution_count": null,
      "outputs": []
    },
    {
      "cell_type": "code",
      "source": [
        "SVM = svm.SVC(random_state=0, kernel='rbf')"
      ],
      "metadata": {
        "id": "rX_2yDcoVVYj"
      },
      "execution_count": null,
      "outputs": []
    },
    {
      "cell_type": "code",
      "source": [
        "for chunk in train:\n",
        "  train_y = chunk.pop('Label')\n",
        "  train_x = chunk\n",
        "  train_x = scaler.fit_transform(train_x)\n",
        "  train_y = encoder.fit_transform(train_y)\n",
        "  KNN.fit(train_x, train_y) # fit \n",
        "  LR.fit(train_x, train_y)\n",
        "  RF.fit(train_x, train_y)\n",
        "  SVM.fit(train_x, train_y) #fit "
      ],
      "metadata": {
        "id": "rmkKXjiBVXEs"
      },
      "execution_count": null,
      "outputs": []
    },
    {
      "cell_type": "code",
      "source": [
        "test_y = test.pop('Label')\n",
        "test_x = test"
      ],
      "metadata": {
        "id": "7qz1Afr7Vc2v"
      },
      "execution_count": null,
      "outputs": []
    },
    {
      "cell_type": "code",
      "source": [
        "test_x = scaler.transform(test_x)\n",
        "test_y = encoder.transform(test_y)"
      ],
      "metadata": {
        "id": "B9kNzPM0VdfH"
      },
      "execution_count": null,
      "outputs": []
    },
    {
      "cell_type": "code",
      "source": [
        "predict_y = KNN.predict(test_x)\n",
        "\n",
        "print('K-Nearest Neighbour Classifier\\n')\n",
        "printReport(test_y, predict_y)"
      ],
      "metadata": {
        "id": "Wt5EKS0fVg5R"
      },
      "execution_count": null,
      "outputs": []
    },
    {
      "cell_type": "code",
      "source": [
        "predict_y = LR.predict(test_x)\n",
        "\n",
        "print('Logistic Regression\\n')\n",
        "printReport(test_y, predict_y)"
      ],
      "metadata": {
        "id": "82IYnsn5VqD7"
      },
      "execution_count": null,
      "outputs": []
    },
    {
      "cell_type": "code",
      "source": [
        "predict_y = RF.predict(test_x)\n",
        "\n",
        "print('Random Forest Classifier\\n')\n",
        "printReport(test_y, predict_y)"
      ],
      "metadata": {
        "id": "i7ei19lHVuW6"
      },
      "execution_count": null,
      "outputs": []
    },
    {
      "cell_type": "code",
      "source": [
        "predict_y = SVM.predict(test_x)\n",
        "\n",
        "print('Support Vector Machine\\n')\n",
        "printReport(test_y, predict_y)"
      ],
      "metadata": {
        "id": "RdzMCi9kVzp_"
      },
      "execution_count": null,
      "outputs": []
    }
  ]
}