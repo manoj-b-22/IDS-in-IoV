{
  "cells": [
    {
      "cell_type": "markdown",
      "metadata": {
        "id": "view-in-github",
        "colab_type": "text"
      },
      "source": [
        "<a href=\"https://colab.research.google.com/github/manoj-b-22/IDS-in-IoV/blob/main/code/LSTM-inter.ipynb\" target=\"_parent\"><img src=\"https://colab.research.google.com/assets/colab-badge.svg\" alt=\"Open In Colab\"/></a>"
      ]
    },
    {
      "cell_type": "code",
      "execution_count": 3,
      "metadata": {
        "id": "wNsltBIH6Eve"
      },
      "outputs": [],
      "source": [
        "import numpy as np\n",
        "import pandas as pd\n",
        "from keras.models import Sequential\n",
        "from keras.layers import LSTM, Dense\n",
        "from sklearn.preprocessing import StandardScaler, LabelEncoder\n",
        "from sklearn.metrics import classification_report, confusion_matrix"
      ]
    },
    {
      "cell_type": "code",
      "execution_count": 4,
      "metadata": {
        "colab": {
          "base_uri": "https://localhost:8080/"
        },
        "id": "0LvvSzuf6Led",
        "outputId": "9ab0cf42-b6cf-4d46-8a0f-df6a7063580f"
      },
      "outputs": [
        {
          "output_type": "stream",
          "name": "stdout",
          "text": [
            "Mounted at /content/drive\n"
          ]
        }
      ],
      "source": [
        "from google.colab import drive\n",
        "drive.mount('/content/drive')"
      ]
    },
    {
      "cell_type": "code",
      "execution_count": 5,
      "metadata": {
        "id": "NskDJRX3VV7I"
      },
      "outputs": [],
      "source": [
        "scaler = StandardScaler()\n",
        "encoder = LabelEncoder()"
      ]
    },
    {
      "cell_type": "code",
      "execution_count": 6,
      "metadata": {
        "id": "oNSWxJLW6Evj"
      },
      "outputs": [],
      "source": [
        "train = pd.read_csv('/content/drive/MyDrive/train-intervehicle.csv', chunksize=500000)\n",
        "test = pd.read_csv('/content/drive/MyDrive/test-intervehicle.csv')"
      ]
    },
    {
      "cell_type": "code",
      "execution_count": 7,
      "metadata": {
        "colab": {
          "base_uri": "https://localhost:8080/"
        },
        "id": "5Gu9qMvNVcd1",
        "outputId": "92bea60b-cf96-4e4d-d8ef-eaaed73ae70f"
      },
      "outputs": [
        {
          "output_type": "stream",
          "name": "stdout",
          "text": [
            "Model: \"sequential\"\n",
            "_________________________________________________________________\n",
            " Layer (type)                Output Shape              Param #   \n",
            "=================================================================\n",
            " lstm (LSTM)                 (None, 100)               40800     \n",
            "                                                                 \n",
            " dense (Dense)               (None, 1)                 101       \n",
            "                                                                 \n",
            "=================================================================\n",
            "Total params: 40,901\n",
            "Trainable params: 40,901\n",
            "Non-trainable params: 0\n",
            "_________________________________________________________________\n"
          ]
        }
      ],
      "source": [
        "model = Sequential()\n",
        "model.add(LSTM(100, input_shape=(len(test.columns)-1, 1), activation='tanh', recurrent_activation='sigmoid'))\n",
        "model.add(Dense(1, activation='sigmoid'))\n",
        "\n",
        "model.compile(loss='binary_crossentropy', optimizer='adam', metrics=['accuracy'])\n",
        "model.summary()"
      ]
    },
    {
      "cell_type": "code",
      "execution_count": 8,
      "metadata": {
        "colab": {
          "base_uri": "https://localhost:8080/"
        },
        "id": "gakwuCpLX7YK",
        "outputId": "d1ad1198-3045-496c-e26e-f92599e67409"
      },
      "outputs": [
        {
          "output_type": "stream",
          "name": "stdout",
          "text": [
            "15625/15625 [==============================] - 85s 5ms/step - loss: 0.0434 - accuracy: 0.9859\n",
            "15625/15625 [==============================] - 80s 5ms/step - loss: 0.0398 - accuracy: 0.9873\n",
            "15625/15625 [==============================] - 80s 5ms/step - loss: 0.0139 - accuracy: 0.9957\n",
            "15625/15625 [==============================] - 79s 5ms/step - loss: 0.0021 - accuracy: 0.9994\n",
            "15625/15625 [==============================] - 79s 5ms/step - loss: 0.0013 - accuracy: 0.9997\n",
            "15625/15625 [==============================] - 78s 5ms/step - loss: 9.9163e-04 - accuracy: 0.9998\n",
            "15625/15625 [==============================] - 80s 5ms/step - loss: 6.9783e-04 - accuracy: 0.9998\n",
            "15625/15625 [==============================] - 79s 5ms/step - loss: 5.8696e-04 - accuracy: 0.9999\n",
            "15625/15625 [==============================] - 79s 5ms/step - loss: 6.6058e-04 - accuracy: 0.9998\n",
            "15625/15625 [==============================] - 79s 5ms/step - loss: 4.7056e-04 - accuracy: 0.9999\n",
            "15625/15625 [==============================] - 80s 5ms/step - loss: 6.1910e-04 - accuracy: 0.9999\n",
            "15625/15625 [==============================] - 79s 5ms/step - loss: 4.0754e-04 - accuracy: 0.9999\n",
            "15625/15625 [==============================] - 78s 5ms/step - loss: 6.4941e-04 - accuracy: 0.9998\n",
            "15625/15625 [==============================] - 80s 5ms/step - loss: 3.3178e-04 - accuracy: 0.9999\n",
            "15625/15625 [==============================] - 79s 5ms/step - loss: 4.1336e-04 - accuracy: 0.9999\n",
            "15625/15625 [==============================] - 79s 5ms/step - loss: 2.9666e-04 - accuracy: 0.9999\n",
            "15625/15625 [==============================] - 78s 5ms/step - loss: 3.0593e-04 - accuracy: 0.9999\n",
            "15625/15625 [==============================] - 79s 5ms/step - loss: 2.8458e-04 - accuracy: 0.9999\n",
            "15625/15625 [==============================] - 79s 5ms/step - loss: 3.0937e-04 - accuracy: 0.9999\n",
            "15625/15625 [==============================] - 78s 5ms/step - loss: 3.2559e-04 - accuracy: 0.9999\n",
            "6161/6161 [==============================] - 31s 5ms/step - loss: 3.6896e-04 - accuracy: 0.9999\n"
          ]
        }
      ],
      "source": [
        "for chunk in train:\n",
        "  train_y = chunk.pop('Label')\n",
        "  train_x = chunk\n",
        "  train_x = scaler.fit_transform(train_x)\n",
        "  train_y = encoder.fit_transform(train_y)\n",
        "  model.fit(train_x, train_y, batch_size=32)"
      ]
    },
    {
      "cell_type": "code",
      "execution_count": 9,
      "metadata": {
        "id": "eBlpAi_i6Evj"
      },
      "outputs": [],
      "source": [
        "test_y = test.pop('Label')\n",
        "test_x = test"
      ]
    },
    {
      "cell_type": "code",
      "execution_count": 10,
      "metadata": {
        "id": "2n7h0UiD6Evl"
      },
      "outputs": [],
      "source": [
        "test_x = scaler.transform(test_x)\n",
        "test_y = encoder.transform(test_y)"
      ]
    },
    {
      "cell_type": "code",
      "execution_count": 11,
      "metadata": {
        "colab": {
          "base_uri": "https://localhost:8080/"
        },
        "id": "d2ztO8vx6Evp",
        "outputId": "191c67df-58ca-465c-b980-73d1903af2d6"
      },
      "outputs": [
        {
          "output_type": "stream",
          "name": "stdout",
          "text": [
            "79666/79666 [==============================] - 204s 3ms/step\n"
          ]
        }
      ],
      "source": [
        "pred = model.predict(test_x, verbose=1)\n",
        "pred_y = np.round(pred).astype(int)"
      ]
    },
    {
      "cell_type": "code",
      "source": [
        "confusion_matrix(test_y, pred_y)"
      ],
      "metadata": {
        "id": "j9wv7uf6gIYn",
        "outputId": "5f573632-4781-47c7-ee90-61c452955a1b",
        "colab": {
          "base_uri": "https://localhost:8080/"
        }
      },
      "execution_count": 12,
      "outputs": [
        {
          "output_type": "execute_result",
          "data": {
            "text/plain": [
              "array([[1255574,     167],\n",
              "       [      5, 1293542]])"
            ]
          },
          "metadata": {},
          "execution_count": 12
        }
      ]
    },
    {
      "cell_type": "code",
      "source": [
        "report = classification_report(test_y, pred_y, digits=5)\n",
        "print(report)"
      ],
      "metadata": {
        "id": "wgGPMUTegKdL",
        "outputId": "8cdb887d-d685-4e8b-b5a7-5217e0229f05",
        "colab": {
          "base_uri": "https://localhost:8080/"
        }
      },
      "execution_count": 13,
      "outputs": [
        {
          "output_type": "stream",
          "name": "stdout",
          "text": [
            "              precision    recall  f1-score   support\n",
            "\n",
            "           0    1.00000   0.99987   0.99993   1255741\n",
            "           1    0.99987   1.00000   0.99993   1293547\n",
            "\n",
            "    accuracy                        0.99993   2549288\n",
            "   macro avg    0.99993   0.99993   0.99993   2549288\n",
            "weighted avg    0.99993   0.99993   0.99993   2549288\n",
            "\n"
          ]
        }
      ]
    }
  ],
  "metadata": {
    "accelerator": "GPU",
    "colab": {
      "name": "LSTM-inter.ipynb",
      "provenance": [],
      "include_colab_link": true
    },
    "gpuClass": "standard",
    "interpreter": {
      "hash": "759c5e0d3d88a894482aeabccbd08c19af37ecec916291e5ab4326292ca84839"
    },
    "kernelspec": {
      "display_name": "Python 3.10.4 64-bit",
      "language": "python",
      "name": "python3"
    },
    "language_info": {
      "codemirror_mode": {
        "name": "ipython",
        "version": 3
      },
      "file_extension": ".py",
      "mimetype": "text/x-python",
      "name": "python",
      "nbconvert_exporter": "python",
      "pygments_lexer": "ipython3",
      "version": "3.10.4"
    },
    "orig_nbformat": 4
  },
  "nbformat": 4,
  "nbformat_minor": 0
}