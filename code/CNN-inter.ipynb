{
  "cells": [
    {
      "cell_type": "markdown",
      "metadata": {
        "id": "view-in-github",
        "colab_type": "text"
      },
      "source": [
        "<a href=\"https://colab.research.google.com/github/manoj-b-22/IDS-in-IoV/blob/main/code/CNN-inter.ipynb\" target=\"_parent\"><img src=\"https://colab.research.google.com/assets/colab-badge.svg\" alt=\"Open In Colab\"/></a>"
      ]
    },
    {
      "cell_type": "code",
      "execution_count": 1,
      "metadata": {
        "id": "wNsltBIH6Eve"
      },
      "outputs": [],
      "source": [
        "import numpy as np\n",
        "import pandas as pd\n",
        "from keras.models import Sequential\n",
        "from sklearn.metrics import classification_report, confusion_matrix\n",
        "from keras.layers import Conv1D, Dense, AveragePooling1D, Flatten\n",
        "from sklearn.preprocessing import StandardScaler, LabelEncoder"
      ]
    },
    {
      "cell_type": "code",
      "source": [
        "from google.colab import drive\n",
        "drive.mount('/content/drive')"
      ],
      "metadata": {
        "id": "0LvvSzuf6Led",
        "colab": {
          "base_uri": "https://localhost:8080/"
        },
        "outputId": "82bb1a26-8e40-4006-ecaf-d0009e466299"
      },
      "execution_count": 2,
      "outputs": [
        {
          "output_type": "stream",
          "name": "stdout",
          "text": [
            "Mounted at /content/drive\n"
          ]
        }
      ]
    },
    {
      "cell_type": "code",
      "source": [
        "scaler = StandardScaler()\n",
        "encoder = LabelEncoder()"
      ],
      "metadata": {
        "id": "NskDJRX3VV7I"
      },
      "execution_count": 3,
      "outputs": []
    },
    {
      "cell_type": "code",
      "execution_count": 4,
      "metadata": {
        "id": "oNSWxJLW6Evj"
      },
      "outputs": [],
      "source": [
        "train = pd.read_csv('/content/drive/MyDrive/train-intervehicle.csv', chunksize=500000)\n",
        "test = pd.read_csv('/content/drive/MyDrive/test-intervehicle.csv')"
      ]
    },
    {
      "cell_type": "code",
      "source": [
        "model = Sequential()\n",
        "model.add(Conv1D(activation=\"sigmoid\", input_shape=(len(test.columns)-1, 1), kernel_size=5, filters=12))\n",
        "model.add(AveragePooling1D(pool_size=2))\n",
        "model.add(Conv1D(activation=\"sigmoid\", kernel_size=5, filters=6))\n",
        "model.add(AveragePooling1D(pool_size=2))\n",
        "model.add(Flatten())\n",
        "model.add(Dense(1, activation='sigmoid'))\n",
        "\n",
        "model.compile(loss='binary_crossentropy', optimizer='adam', metrics=['accuracy'])\n",
        "model.summary()"
      ],
      "metadata": {
        "id": "5Gu9qMvNVcd1",
        "outputId": "59f81e2b-0896-49d3-8b2c-f517e5151ed4",
        "colab": {
          "base_uri": "https://localhost:8080/"
        }
      },
      "execution_count": 5,
      "outputs": [
        {
          "output_type": "stream",
          "name": "stdout",
          "text": [
            "Model: \"sequential\"\n",
            "_________________________________________________________________\n",
            " Layer (type)                Output Shape              Param #   \n",
            "=================================================================\n",
            " conv1d (Conv1D)             (None, 66, 12)            72        \n",
            "                                                                 \n",
            " average_pooling1d (AverageP  (None, 33, 12)           0         \n",
            " ooling1D)                                                       \n",
            "                                                                 \n",
            " conv1d_1 (Conv1D)           (None, 29, 6)             366       \n",
            "                                                                 \n",
            " average_pooling1d_1 (Averag  (None, 14, 6)            0         \n",
            " ePooling1D)                                                     \n",
            "                                                                 \n",
            " flatten (Flatten)           (None, 84)                0         \n",
            "                                                                 \n",
            " dense (Dense)               (None, 1)                 85        \n",
            "                                                                 \n",
            "=================================================================\n",
            "Total params: 523\n",
            "Trainable params: 523\n",
            "Non-trainable params: 0\n",
            "_________________________________________________________________\n"
          ]
        }
      ]
    },
    {
      "cell_type": "code",
      "source": [
        "for chunk in train:\n",
        "  train_y = chunk.pop('Label')\n",
        "  train_x = chunk\n",
        "  train_x = scaler.fit_transform(train_x)\n",
        "  train_y = encoder.fit_transform(train_y)\n",
        "  model.fit(train_x, train_y, batch_size=32)"
      ],
      "metadata": {
        "id": "gakwuCpLX7YK",
        "colab": {
          "base_uri": "https://localhost:8080/"
        },
        "outputId": "2c2d7d62-e910-41b0-b81f-fb840d216d17"
      },
      "execution_count": 6,
      "outputs": [
        {
          "output_type": "stream",
          "name": "stdout",
          "text": [
            "15625/15625 [==============================] - 55s 3ms/step - loss: 0.0955 - accuracy: 0.9691\n",
            "15625/15625 [==============================] - 43s 3ms/step - loss: 0.0100 - accuracy: 0.9978\n",
            "15625/15625 [==============================] - 43s 3ms/step - loss: 0.0036 - accuracy: 0.9992\n",
            "15625/15625 [==============================] - 43s 3ms/step - loss: 0.0020 - accuracy: 0.9996\n",
            "15625/15625 [==============================] - 47s 3ms/step - loss: 0.0013 - accuracy: 0.9997\n",
            "15625/15625 [==============================] - 44s 3ms/step - loss: 9.5476e-04 - accuracy: 0.9997\n",
            "15625/15625 [==============================] - 43s 3ms/step - loss: 8.2415e-04 - accuracy: 0.9998\n",
            "15625/15625 [==============================] - 45s 3ms/step - loss: 6.4945e-04 - accuracy: 0.9998\n",
            "15625/15625 [==============================] - 42s 3ms/step - loss: 6.5329e-04 - accuracy: 0.9998\n",
            "15625/15625 [==============================] - 42s 3ms/step - loss: 5.1508e-04 - accuracy: 0.9999\n",
            "15625/15625 [==============================] - 43s 3ms/step - loss: 5.3780e-04 - accuracy: 0.9999\n",
            "15625/15625 [==============================] - 48s 3ms/step - loss: 4.6381e-04 - accuracy: 0.9999\n",
            "15625/15625 [==============================] - 43s 3ms/step - loss: 3.7929e-04 - accuracy: 0.9999\n",
            "15625/15625 [==============================] - 43s 3ms/step - loss: 3.9871e-04 - accuracy: 0.9999\n",
            "15625/15625 [==============================] - 45s 3ms/step - loss: 3.8083e-04 - accuracy: 0.9999\n",
            "15625/15625 [==============================] - 42s 3ms/step - loss: 3.4075e-04 - accuracy: 0.9999\n",
            "15625/15625 [==============================] - 42s 3ms/step - loss: 3.1582e-04 - accuracy: 0.9999\n",
            "15625/15625 [==============================] - 42s 3ms/step - loss: 2.9913e-04 - accuracy: 0.9999\n",
            "15625/15625 [==============================] - 42s 3ms/step - loss: 3.5198e-04 - accuracy: 0.9999\n",
            "15625/15625 [==============================] - 41s 3ms/step - loss: 3.0217e-04 - accuracy: 0.9999\n",
            "6161/6161 [==============================] - 17s 3ms/step - loss: 3.3352e-04 - accuracy: 0.9999\n"
          ]
        }
      ]
    },
    {
      "cell_type": "code",
      "execution_count": 7,
      "metadata": {
        "id": "eBlpAi_i6Evj"
      },
      "outputs": [],
      "source": [
        "test_y = test.pop('Label')\n",
        "test_x = test"
      ]
    },
    {
      "cell_type": "code",
      "execution_count": 8,
      "metadata": {
        "id": "2n7h0UiD6Evl"
      },
      "outputs": [],
      "source": [
        "test_x = scaler.transform(test_x)\n",
        "test_y = encoder.transform(test_y)"
      ]
    },
    {
      "cell_type": "code",
      "execution_count": 9,
      "metadata": {
        "id": "d2ztO8vx6Evp",
        "colab": {
          "base_uri": "https://localhost:8080/"
        },
        "outputId": "110bcd16-bfcf-442d-ae5e-f3ad23ddb3cf"
      },
      "outputs": [
        {
          "output_type": "stream",
          "name": "stdout",
          "text": [
            "79666/79666 [==============================] - 126s 2ms/step\n"
          ]
        }
      ],
      "source": [
        "pred = model.predict(test_x, verbose=1)\n",
        "pred_y = np.round(pred).astype(int)"
      ]
    },
    {
      "cell_type": "code",
      "source": [
        "confusion_matrix(test_y, pred_y)"
      ],
      "metadata": {
        "id": "sIw3E3ifjcWD",
        "colab": {
          "base_uri": "https://localhost:8080/"
        },
        "outputId": "26358d23-ac7b-4341-8030-dc9023693a86"
      },
      "execution_count": 10,
      "outputs": [
        {
          "output_type": "execute_result",
          "data": {
            "text/plain": [
              "array([[1255469,     272],\n",
              "       [     12, 1293535]])"
            ]
          },
          "metadata": {},
          "execution_count": 10
        }
      ]
    },
    {
      "cell_type": "code",
      "source": [
        "report = classification_report(test_y, pred_y, digits=5)\n",
        "print(report)"
      ],
      "metadata": {
        "id": "XAvoXWQV5trp",
        "colab": {
          "base_uri": "https://localhost:8080/"
        },
        "outputId": "fcd8e991-4131-4be5-fff5-ed4898ec0bf8"
      },
      "execution_count": 11,
      "outputs": [
        {
          "output_type": "stream",
          "name": "stdout",
          "text": [
            "              precision    recall  f1-score   support\n",
            "\n",
            "           0    0.99999   0.99978   0.99989   1255741\n",
            "           1    0.99979   0.99999   0.99989   1293547\n",
            "\n",
            "    accuracy                        0.99989   2549288\n",
            "   macro avg    0.99989   0.99989   0.99989   2549288\n",
            "weighted avg    0.99989   0.99989   0.99989   2549288\n",
            "\n"
          ]
        }
      ]
    }
  ],
  "metadata": {
    "interpreter": {
      "hash": "759c5e0d3d88a894482aeabccbd08c19af37ecec916291e5ab4326292ca84839"
    },
    "kernelspec": {
      "display_name": "Python 3.10.4 64-bit",
      "language": "python",
      "name": "python3"
    },
    "language_info": {
      "codemirror_mode": {
        "name": "ipython",
        "version": 3
      },
      "file_extension": ".py",
      "mimetype": "text/x-python",
      "name": "python",
      "nbconvert_exporter": "python",
      "pygments_lexer": "ipython3",
      "version": "3.10.4"
    },
    "orig_nbformat": 4,
    "colab": {
      "provenance": [],
      "include_colab_link": true
    },
    "accelerator": "GPU",
    "gpuClass": "standard"
  },
  "nbformat": 4,
  "nbformat_minor": 0
}