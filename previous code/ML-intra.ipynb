{
 "cells": [
  {
   "cell_type": "code",
   "execution_count": 1,
   "id": "e7d28bea",
   "metadata": {},
   "outputs": [],
   "source": [
    "import numpy as np\n",
    "import pandas as pd\n",
    "from sklearn.model_selection import train_test_split\n",
    "from sklearn.metrics import accuracy_score, confusion_matrix, classification_report"
   ]
  },
  {
   "cell_type": "code",
   "execution_count": 2,
   "id": "ee8bedd7",
   "metadata": {},
   "outputs": [],
   "source": [
    "from sklearn import svm\n",
    "from sklearn import tree\n",
    "from sklearn.naive_bayes import GaussianNB\n",
    "from sklearn.preprocessing import StandardScaler\n",
    "from sklearn.neighbors import KNeighborsClassifier\n",
    "from sklearn.ensemble import RandomForestClassifier\n",
    "from sklearn.linear_model import LogisticRegression"
   ]
  },
  {
   "cell_type": "code",
   "execution_count": 3,
   "id": "54550334",
   "metadata": {},
   "outputs": [],
   "source": [
    "# columns = ['Timestamp', 'CAN ID', 'DLC', 'DATA[0]', 'DATA[1]', 'DATA[2]', 'DATA[3]', 'DATA[4]', 'DATA[5]', 'DATA[6]', 'DATA[7]', 'Flag']\n",
    "dos = pd.read_table('../dataset/DoS_dataset.csv', header=None)\n",
    "fuzzy = pd.read_table('../dataset/uzzy_dataset.csv', header=None)\n",
    "gear = pd.read_table('../dataset/gear_dataset.csv', header=None)\n",
    "rpm = pd.read_table('../dataset/RPM_dataset.csv', header=None)"
   ]
  },
  {
   "cell_type": "code",
   "execution_count": 4,
   "id": "19cbabd9",
   "metadata": {},
   "outputs": [],
   "source": [
    "# 0-Normal 1-DoS 2-Fuzzy 3-Spoof\n",
    "dos[4] = dos[0].apply(lambda x: 'DoS' if (x.split(',')[-1]=='T') else 'Normal')\n",
    "fuzzy[4] = fuzzy[0].apply(lambda x: 'Fuzzy' if (x.split(',')[-1]=='T') else 'Normal')\n",
    "gear[4] = gear[0].apply(lambda x: 'Spoof' if (x.split(',')[-1]=='T') else 'Normal')\n",
    "rpm[4] = rpm[0].apply(lambda x: 'Spoof' if (x.split(',')[-1]=='T') else 'Normal')"
   ]
  },
  {
   "cell_type": "code",
   "execution_count": 5,
   "id": "cd93febe",
   "metadata": {},
   "outputs": [],
   "source": [
    "# combining all hex bytes of DATA to integer \n",
    "dos[2] = dos[0].apply(lambda x:int(\"0x\"+\"\".join(x.split(',')[3:-1]),16))\n",
    "fuzzy[2] = fuzzy[0].apply(lambda x:int(\"0x\"+\"\".join(x.split(',')[3:-1]),16))\n",
    "gear[2] = gear[0].apply(lambda x:int(\"0x\"+\"\".join(x.split(',')[3:-1]),16))\n",
    "rpm[2] = rpm[0].apply(lambda x:int(\"0x\"+\"\".join(x.split(',')[3:-1]),16))"
   ]
  },
  {
   "cell_type": "code",
   "execution_count": 6,
   "id": "9f720546",
   "metadata": {},
   "outputs": [],
   "source": [
    "# DLC\n",
    "dos[3] = dos[0].apply(lambda x:x.split(',')[2])\n",
    "fuzzy[3] = fuzzy[0].apply(lambda x:x.split(',')[2])\n",
    "gear[3] = gear[0].apply(lambda x:x.split(',')[2])\n",
    "rpm[3] = rpm[0].apply(lambda x:x.split(',')[2])"
   ]
  },
  {
   "cell_type": "code",
   "execution_count": 7,
   "id": "1b18ba24",
   "metadata": {},
   "outputs": [],
   "source": [
    "# converting hex CAN ID to integer ID\n",
    "dos[1] = dos[0].apply(lambda x:int(\"0x\"+x.split(',')[1],16))\n",
    "fuzzy[1] = fuzzy[0].apply(lambda x:int(\"0x\"+x.split(',')[1],16))\n",
    "gear[1] = gear[0].apply(lambda x:int(\"0x\"+x.split(',')[1],16))\n",
    "rpm[1] = rpm[0].apply(lambda x:int(\"0x\"+x.split(',')[1],16))"
   ]
  },
  {
   "cell_type": "code",
   "execution_count": 8,
   "id": "a7db90ae",
   "metadata": {},
   "outputs": [],
   "source": [
    "dos.loc[:,0] = dos[0].apply(lambda x:x.split(',')[0])\n",
    "fuzzy.loc[:,0] = fuzzy[0].apply(lambda x:x.split(',')[0])\n",
    "gear.loc[:,0] = gear[0].apply(lambda x:x.split(',')[0])\n",
    "rpm.loc[:,0] = rpm[0].apply(lambda x:x.split(',')[0])"
   ]
  },
  {
   "cell_type": "code",
   "execution_count": 9,
   "id": "cd2637a6",
   "metadata": {},
   "outputs": [],
   "source": [
    "data = pd.concat([dos,fuzzy,gear,rpm])"
   ]
  },
  {
   "cell_type": "code",
   "execution_count": 10,
   "id": "774be722",
   "metadata": {},
   "outputs": [],
   "source": [
    "y_data = data.pop(4)\n",
    "x_data = data"
   ]
  },
  {
   "cell_type": "code",
   "execution_count": 11,
   "id": "a5d4d9f8",
   "metadata": {},
   "outputs": [],
   "source": [
    "train_x, test_x, train_y, test_y = train_test_split(x_data,y_data,test_size=0.20,random_state=0)"
   ]
  },
  {
   "cell_type": "code",
   "execution_count": 12,
   "id": "b61f7228",
   "metadata": {},
   "outputs": [],
   "source": [
    "train_x.reset_index(drop=True,inplace=True)\n",
    "test_x.reset_index(drop=True,inplace=True)\n",
    "train_y.reset_index(drop=True,inplace=True)\n",
    "test_y.reset_index(drop=True,inplace=True)"
   ]
  },
  {
   "cell_type": "code",
   "execution_count": 13,
   "id": "be736316",
   "metadata": {},
   "outputs": [
    {
     "name": "stdout",
     "output_type": "stream",
     "text": [
      "(13255580, 4) (13255580,)\n",
      "(3313895, 4) (3313895,)\n"
     ]
    }
   ],
   "source": [
    "print(train_x.shape,train_y.shape)\n",
    "print(test_x.shape,test_y.shape)"
   ]
  },
  {
   "cell_type": "code",
   "execution_count": 14,
   "id": "f4d1f195",
   "metadata": {},
   "outputs": [],
   "source": [
    "scaler = StandardScaler()\n",
    "train_x = scaler.fit_transform(train_x)\n",
    "test_x = scaler.transform(test_x)"
   ]
  },
  {
   "cell_type": "code",
   "execution_count": 15,
   "id": "488e3fe7",
   "metadata": {},
   "outputs": [],
   "source": [
    "def printReport(test_y,predict_y):\n",
    "  accuracy = accuracy_score(test_y, predict_y)\n",
    "  print('Accuracy: %.6f' % accuracy)\n",
    "\n",
    "  # T up-down  F left-right\n",
    "  print('Confusion Matrix')                      #  TP FP\n",
    "  print(confusion_matrix(test_y,predict_y))      #  FN TN \n",
    "\n",
    "  print(classification_report(test_y,predict_y,digits=6,zero_division=1))"
   ]
  },
  {
   "cell_type": "code",
   "execution_count": 16,
   "id": "a054ccc4",
   "metadata": {},
   "outputs": [
    {
     "name": "stdout",
     "output_type": "stream",
     "text": [
      "K-Nearest Neighbour Classifier\n",
      "Accuracy: 0.999748\n",
      "Confusion Matrix\n",
      "[[ 117727       0       0       0       0]\n",
      " [      0   97406     796       0       0]\n",
      " [      0      40 2847870       0       0]\n",
      " [      0       0       0  119226       0]\n",
      " [      0       0       0       0  130830]]\n",
      "              precision    recall  f1-score   support\n",
      "\n",
      "         DoS   1.000000  1.000000  1.000000    117727\n",
      "       Fuzzy   0.999590  0.991894  0.995727     98202\n",
      "      Normal   0.999721  0.999986  0.999853   2847910\n",
      "  Spoof Gear   1.000000  1.000000  1.000000    119226\n",
      "   Spoof RPM   1.000000  1.000000  1.000000    130830\n",
      "\n",
      "    accuracy                       0.999748   3313895\n",
      "   macro avg   0.999862  0.998376  0.999116   3313895\n",
      "weighted avg   0.999748  0.999748  0.999747   3313895\n",
      "\n"
     ]
    }
   ],
   "source": [
    "n=5\n",
    "classifier = KNeighborsClassifier(n_neighbors=n, metric='minkowski', algorithm='kd_tree', n_jobs=-1)\n",
    "classifier.fit(train_x,train_y)\n",
    "\n",
    "predict_y = classifier.predict(test_x)\n",
    "\n",
    "print('K-Nearest Neighbour Classifier')\n",
    "printReport(test_y,predict_y)"
   ]
  },
  {
   "cell_type": "code",
   "execution_count": 17,
   "id": "406cf8b0",
   "metadata": {
    "scrolled": false
   },
   "outputs": [
    {
     "name": "stdout",
     "output_type": "stream",
     "text": [
      "Logistic Regression\n",
      "Accuracy: 0.886328\n",
      "Confusion Matrix\n",
      "[[ 117727       0       0       0       0]\n",
      " [      2       0   97680     520       0]\n",
      " [      0       0 2819472   26520    1918]\n",
      " [      0       0  119226       0       0]\n",
      " [      0       0  130830       0       0]]\n",
      "              precision    recall  f1-score   support\n",
      "\n",
      "         DoS   0.999983  1.000000  0.999992    117727\n",
      "       Fuzzy   1.000000  0.000000  0.000000     98202\n",
      "      Normal   0.890207  0.990014  0.937462   2847910\n",
      "  Spoof Gear   0.000000  0.000000  0.000000    119226\n",
      "   Spoof RPM   0.000000  0.000000  0.000000    130830\n",
      "\n",
      "    accuracy                       0.886328   3313895\n",
      "   macro avg   0.578038  0.398003  0.387491   3313895\n",
      "weighted avg   0.830189  0.886328  0.841165   3313895\n",
      "\n"
     ]
    }
   ],
   "source": [
    "classifier = LogisticRegression(multi_class='multinomial', solver='sag', random_state=0, max_iter=1000, n_jobs=-1)\n",
    "classifier.fit(train_x,train_y)\n",
    "\n",
    "predict_y = classifier.predict(test_x)\n",
    "\n",
    "print('Logistic Regression')\n",
    "printReport(test_y,predict_y)"
   ]
  },
  {
   "cell_type": "code",
   "execution_count": 18,
   "id": "29dca625",
   "metadata": {},
   "outputs": [
    {
     "name": "stdout",
     "output_type": "stream",
     "text": [
      "Random Forest Classifier\n",
      "Accuracy: 0.999985\n",
      "Confusion Matrix\n",
      "[[ 117727       0       0       0       0]\n",
      " [      0   98154      48       0       0]\n",
      " [      0       1 2847909       0       0]\n",
      " [      0       0       0  119226       0]\n",
      " [      0       0       0       0  130830]]\n",
      "              precision    recall  f1-score   support\n",
      "\n",
      "         DoS   1.000000  1.000000  1.000000    117727\n",
      "       Fuzzy   0.999990  0.999511  0.999750     98202\n",
      "      Normal   0.999983  1.000000  0.999991   2847910\n",
      "  Spoof Gear   1.000000  1.000000  1.000000    119226\n",
      "   Spoof RPM   1.000000  1.000000  1.000000    130830\n",
      "\n",
      "    accuracy                       0.999985   3313895\n",
      "   macro avg   0.999995  0.999902  0.999948   3313895\n",
      "weighted avg   0.999985  0.999985  0.999985   3313895\n",
      "\n"
     ]
    }
   ],
   "source": [
    "model = RandomForestClassifier(random_state=0, n_jobs=-1)\n",
    "model.fit(train_x, train_y)\n",
    "\n",
    "predict_y = model.predict(test_x)\n",
    "\n",
    "print('Random Forest Classifier')\n",
    "printReport(test_y,predict_y)"
   ]
  },
  {
   "cell_type": "code",
   "execution_count": null,
   "id": "ed43a435",
   "metadata": {},
   "outputs": [],
   "source": [
    "classifier = svm.SVC(random_state=0, kernel='rbf', decision_function_shape='ovr')\n",
    "classifier.fit(train_x,train_y)\n",
    "\n",
    "predict_y = classifier.predict(test_x)\n",
    "\n",
    "print('Support Vector Machine')\n",
    "printReport(test_y,predict_y)"
   ]
  }
 ],
 "metadata": {
  "kernelspec": {
   "display_name": "Python 3 (ipykernel)",
   "language": "python",
   "name": "python3"
  },
  "language_info": {
   "codemirror_mode": {
    "name": "ipython",
    "version": 3
   },
   "file_extension": ".py",
   "mimetype": "text/x-python",
   "name": "python",
   "nbconvert_exporter": "python",
   "pygments_lexer": "ipython3",
   "version": "3.9.12"
  }
 },
 "nbformat": 4,
 "nbformat_minor": 5
}
